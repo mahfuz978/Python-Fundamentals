{
  "nbformat": 4,
  "nbformat_minor": 0,
  "metadata": {
    "colab": {
      "name": "Mahfuzur_Rahman_py10_1-1a.ipynb",
      "provenance": [],
      "collapsed_sections": [],
      "authorship_tag": "ABX9TyMgv6CyJcNmI+LzJLqpzPV7",
      "include_colab_link": true
    },
    "kernelspec": {
      "name": "python3",
      "display_name": "Python 3"
    }
  },
  "cells": [
    {
      "cell_type": "markdown",
      "metadata": {
        "id": "view-in-github",
        "colab_type": "text"
      },
      "source": [
        "<a href=\"https://colab.research.google.com/github/mahfuz978/TECH.I.S-Fundamentals/blob/main/Mahfuzur_Rahman_py10_1_1a.ipynb\" target=\"_parent\"><img src=\"https://colab.research.google.com/assets/colab-badge.svg\" alt=\"Open In Colab\"/></a>"
      ]
    },
    {
      "cell_type": "markdown",
      "metadata": {
        "id": "b1NZ3Iq3baC1"
      },
      "source": [
        "#**Hello World**"
      ]
    },
    {
      "cell_type": "code",
      "metadata": {
        "colab": {
          "base_uri": "https://localhost:8080/"
        },
        "id": "W6ZNckbPalZ4",
        "outputId": "84435f41-8c72-4686-dc59-07d21d15e382"
      },
      "source": [
        "print(\"Hello World\")"
      ],
      "execution_count": null,
      "outputs": [
        {
          "output_type": "stream",
          "text": [
            "Hello World\n"
          ],
          "name": "stdout"
        }
      ]
    },
    {
      "cell_type": "markdown",
      "metadata": {
        "id": "cKXmo87EWLwr"
      },
      "source": [
        "#**Help Command**"
      ]
    },
    {
      "cell_type": "code",
      "metadata": {
        "colab": {
          "base_uri": "https://localhost:8080/"
        },
        "id": "U8k5Gmz7WVah",
        "outputId": "357b73d1-cf9f-4a73-bd1d-55d3af6a3989"
      },
      "source": [
        "help(print)"
      ],
      "execution_count": null,
      "outputs": [
        {
          "output_type": "stream",
          "text": [
            "Help on built-in function print in module builtins:\n",
            "\n",
            "print(...)\n",
            "    print(value, ..., sep=' ', end='\\n', file=sys.stdout, flush=False)\n",
            "    \n",
            "    Prints the values to a stream, or to sys.stdout by default.\n",
            "    Optional keyword arguments:\n",
            "    file:  a file-like object (stream); defaults to the current sys.stdout.\n",
            "    sep:   string inserted between values, default a space.\n",
            "    end:   string appended after the last value, default a newline.\n",
            "    flush: whether to forcibly flush the stream.\n",
            "\n"
          ],
          "name": "stdout"
        }
      ]
    },
    {
      "cell_type": "markdown",
      "metadata": {
        "id": "A6JVWyVib4mV"
      },
      "source": [
        "#**Comments**"
      ]
    },
    {
      "cell_type": "code",
      "metadata": {
        "colab": {
          "base_uri": "https://localhost:8080/"
        },
        "id": "oPJbwhRkb8ok",
        "outputId": "a24916d4-cb42-4a19-91f9-cb8f8eeea567"
      },
      "source": [
        "# this is a single comment\r\n",
        "print(\"this is not a comment\")\r\n",
        "\r\n",
        "# comments can be added like this as well\r\n",
        "\"\"\"\r\n",
        "This is a\r\n",
        "multi-line comment\r\n",
        "\"\"\"\r\n",
        "print(\"this is not a comment either\")"
      ],
      "execution_count": null,
      "outputs": [
        {
          "output_type": "stream",
          "text": [
            "this is not a comment\n",
            "this is not a comment either\n"
          ],
          "name": "stdout"
        }
      ]
    },
    {
      "cell_type": "markdown",
      "metadata": {
        "id": "lLCKjIn2W4GR"
      },
      "source": [
        "#**Variables**"
      ]
    },
    {
      "cell_type": "code",
      "metadata": {
        "colab": {
          "base_uri": "https://localhost:8080/"
        },
        "id": "wSfEtxJ-W7Cb",
        "outputId": "93e0b258-705a-4379-d6d4-1ed688108de3"
      },
      "source": [
        "# bind number 7 to variable \"x\"\r\n",
        "x = 7 # the value of 7 is assigned to x\r\n",
        "\r\n",
        "# print the value of x\r\n",
        "print(x)"
      ],
      "execution_count": null,
      "outputs": [
        {
          "output_type": "stream",
          "text": [
            "7\n"
          ],
          "name": "stdout"
        }
      ]
    },
    {
      "cell_type": "markdown",
      "metadata": {
        "id": "_giShjkHXYjd"
      },
      "source": [
        "**Python Variable Naming Convention (Industry Standard)**\r\n",
        "\r\n",
        "\r\n",
        "* variables names start with a lowercase letter or underscore\r\n",
        "   * can be followed by numbers or underscore\r\n",
        "* snake_case is aconventional way of writing variable names with multiple words \r\n",
        "* variable names cannot begin with a number but numbers can be a part of the variable name later\r\n",
        "   * eg: names like: va923, `_app4r_` , f8_9, tmp; are allowed\r\n",
        "   * eg: names like: 9va23. #app4r_ , f8-9, `tm*p` ; are  **NOT** allowed\r\n",
        "\r\n",
        "\r\n",
        "\r\n"
      ]
    },
    {
      "cell_type": "markdown",
      "metadata": {
        "id": "PJ0j7vCwbmpZ"
      },
      "source": [
        "#**Simple Program**\r\n",
        "\r\n",
        "\r\n",
        "*   *input*: uses the input command\r\n",
        "*   *output* : used the print command\r\n",
        "\r\n"
      ]
    },
    {
      "cell_type": "code",
      "metadata": {
        "colab": {
          "base_uri": "https://localhost:8080/"
        },
        "id": "FmLvQnDUe8Sk",
        "outputId": "bce773b0-5e88-44d1-b805-9bf1c5185f25"
      },
      "source": [
        "name = input('What is your name?')\r\n",
        "print('Welcome to the world of python,', name)"
      ],
      "execution_count": null,
      "outputs": [
        {
          "output_type": "stream",
          "text": [
            "What is your name?m\n",
            "Welcome to the world of python, m\n"
          ],
          "name": "stdout"
        }
      ]
    },
    {
      "cell_type": "markdown",
      "metadata": {
        "id": "88B_Y3fKf9UK"
      },
      "source": [
        "#**Data Types**\r\n",
        "\r\n",
        "*   a particular kind of data entity, defined by the values it can take\r\n",
        "*   Python has several built-in data types, some of them are\r\n",
        "  * numeric\r\n",
        "  * text\r\n",
        "  * sequence\r\n",
        "  * mapping\r\n",
        "  * boolean\r\n",
        "  * set\r\n",
        "* the type() function is used to check the data type of something in python\r\n",
        "\r\n",
        "\r\n",
        "\r\n",
        "\r\n"
      ]
    },
    {
      "cell_type": "markdown",
      "metadata": {
        "id": "mhSmC_MdmUAq"
      },
      "source": [
        "#**Numeric Data Types**\r\n",
        "\r\n",
        "\r\n",
        "*   two types\r\n",
        "\r\n",
        "1.   int is for integers\r\n",
        "2.   float is for decimal numbers\r\n",
        "\r\n",
        "\r\n",
        "\r\n"
      ]
    },
    {
      "cell_type": "code",
      "metadata": {
        "colab": {
          "base_uri": "https://localhost:8080/"
        },
        "id": "_rjHW5Zmms_-",
        "outputId": "e0962719-8094-4160-c07d-efb70f83a3b2"
      },
      "source": [
        "# create int type variable\r\n",
        "x = 7 # 7 is an integer\r\n",
        "\r\n",
        "# check type of variable\r\n",
        "type(x)"
      ],
      "execution_count": null,
      "outputs": [
        {
          "output_type": "execute_result",
          "data": {
            "text/plain": [
              "int"
            ]
          },
          "metadata": {
            "tags": []
          },
          "execution_count": 47
        }
      ]
    },
    {
      "cell_type": "code",
      "metadata": {
        "colab": {
          "base_uri": "https://localhost:8080/"
        },
        "id": "ebqxxK-rm-gU",
        "outputId": "a146cac8-dd64-4e7c-8808-316ef022c710"
      },
      "source": [
        "x = 3.8 \r\n",
        "type(x)"
      ],
      "execution_count": null,
      "outputs": [
        {
          "output_type": "execute_result",
          "data": {
            "text/plain": [
              "float"
            ]
          },
          "metadata": {
            "tags": []
          },
          "execution_count": 48
        }
      ]
    },
    {
      "cell_type": "markdown",
      "metadata": {
        "id": "MS-DbrunnMLl"
      },
      "source": [
        "#**Text Sequence Types**\r\n"
      ]
    },
    {
      "cell_type": "code",
      "metadata": {
        "colab": {
          "base_uri": "https://localhost:8080/"
        },
        "id": "50hJlw5bnZ5l",
        "outputId": "be8807dd-a834-4c63-dcae-ca5123c8a47c"
      },
      "source": [
        "'''\r\n",
        "Strings are sequence of characters,\r\n",
        "immutable,\r\n",
        "and ordered.\r\n",
        "'''\r\n",
        "\r\n",
        "# define a string\r\n",
        "python_string = \"Tech is awesome!\"\r\n",
        "\r\n",
        "# check type\r\n",
        "type(python_string)"
      ],
      "execution_count": null,
      "outputs": [
        {
          "output_type": "execute_result",
          "data": {
            "text/plain": [
              "str"
            ]
          },
          "metadata": {
            "tags": []
          },
          "execution_count": 49
        }
      ]
    },
    {
      "cell_type": "markdown",
      "metadata": {
        "id": "iCipCkFdoIxD"
      },
      "source": [
        "#**Sequence Types**"
      ]
    },
    {
      "cell_type": "markdown",
      "metadata": {
        "id": "dAH5DkiisiR4"
      },
      "source": [
        "**List**"
      ]
    },
    {
      "cell_type": "code",
      "metadata": {
        "colab": {
          "base_uri": "https://localhost:8080/"
        },
        "id": "OR5zFuYvoMq_",
        "outputId": "c988d460-d100-4aeb-fbee-9a630c55ae56"
      },
      "source": [
        "'''\r\n",
        "Sequnce types are:\r\n",
        "list: mutable\r\n",
        "tuble: immutable\r\n",
        "range: immutable\r\n",
        "'''\r\n",
        "\r\n",
        "# define a list\r\n",
        "list_example = ['3', 92, 'x', 33.14 ]\r\n",
        "print(list_example)"
      ],
      "execution_count": null,
      "outputs": [
        {
          "output_type": "stream",
          "text": [
            "['3', 92, 'x', 33.14]\n"
          ],
          "name": "stdout"
        }
      ]
    },
    {
      "cell_type": "code",
      "metadata": {
        "colab": {
          "base_uri": "https://localhost:8080/"
        },
        "id": "MeEgzAwwos46",
        "outputId": "9bf2e792-51fb-4333-9422-a6c2c07f672d"
      },
      "source": [
        "# check the length of the list\r\n",
        "print(len(list_example))"
      ],
      "execution_count": null,
      "outputs": [
        {
          "output_type": "stream",
          "text": [
            "4\n"
          ],
          "name": "stdout"
        }
      ]
    },
    {
      "cell_type": "code",
      "metadata": {
        "colab": {
          "base_uri": "https://localhost:8080/"
        },
        "id": "sus5CfAlo2Ei",
        "outputId": "60ba750a-235a-4e75-f517-c544b0b2ff4b"
      },
      "source": [
        "# check type\r\n",
        "type(list_example)"
      ],
      "execution_count": null,
      "outputs": [
        {
          "output_type": "execute_result",
          "data": {
            "text/plain": [
              "list"
            ]
          },
          "metadata": {
            "tags": []
          },
          "execution_count": 52
        }
      ]
    },
    {
      "cell_type": "markdown",
      "metadata": {
        "id": "_Op4zGi9sooJ"
      },
      "source": [
        "**Tuple**"
      ]
    },
    {
      "cell_type": "code",
      "metadata": {
        "colab": {
          "base_uri": "https://localhost:8080/"
        },
        "id": "TPnTLLyXsulo",
        "outputId": "e0da25a4-c370-48df-91a8-f4fd759f8228"
      },
      "source": [
        "# define a tuple\r\n",
        "tuple_example = (5,\"11\", 'a', 2.86)\r\n",
        "print(tuple_example)"
      ],
      "execution_count": null,
      "outputs": [
        {
          "output_type": "stream",
          "text": [
            "(5, '11', 'a', 2.86)\n"
          ],
          "name": "stdout"
        }
      ]
    },
    {
      "cell_type": "code",
      "metadata": {
        "colab": {
          "base_uri": "https://localhost:8080/"
        },
        "id": "qWdAY1hhu8Ud",
        "outputId": "d49a5b0e-b141-4699-bd50-fe9364efee3b"
      },
      "source": [
        "# check the length of the tuple\r\n",
        "print(len(tuple_example))\r\n",
        "\r\n",
        "# check type\r\n",
        "type(tuple_example)"
      ],
      "execution_count": null,
      "outputs": [
        {
          "output_type": "stream",
          "text": [
            "4\n"
          ],
          "name": "stdout"
        },
        {
          "output_type": "execute_result",
          "data": {
            "text/plain": [
              "tuple"
            ]
          },
          "metadata": {
            "tags": []
          },
          "execution_count": 54
        }
      ]
    },
    {
      "cell_type": "markdown",
      "metadata": {
        "id": "ElT6WIgNxGbO"
      },
      "source": [
        "#**Range**"
      ]
    },
    {
      "cell_type": "code",
      "metadata": {
        "colab": {
          "base_uri": "https://localhost:8080/"
        },
        "id": "diuekYjaxJr7",
        "outputId": "2383170a-611c-42fa-ab9f-9786f776e437"
      },
      "source": [
        "#define a range\r\n",
        "range_example = range(7)\r\n",
        "print(range_example)\r\n",
        "\r\n",
        "# check length of the range\r\n",
        "print(len(range_example))\r\n",
        "\r\n",
        "# check type\r\n",
        "type(range_example)\r\n"
      ],
      "execution_count": null,
      "outputs": [
        {
          "output_type": "stream",
          "text": [
            "range(0, 7)\n",
            "7\n"
          ],
          "name": "stdout"
        },
        {
          "output_type": "execute_result",
          "data": {
            "text/plain": [
              "range"
            ]
          },
          "metadata": {
            "tags": []
          },
          "execution_count": 55
        }
      ]
    },
    {
      "cell_type": "code",
      "metadata": {
        "colab": {
          "base_uri": "https://localhost:8080/"
        },
        "id": "NKt4fv2vxtmq",
        "outputId": "ce1b1c14-449b-41db-f428-3e69e52ab284"
      },
      "source": [
        "# define range with (start, stop, step)\r\n",
        "range_example = range(0, 20, 2)\r\n",
        "print(range_example)\r\n",
        "\r\n",
        "# check length of the range\r\n",
        "print(len(range_example))\r\n",
        "\r\n",
        "# check type\r\n",
        "print(type(range_example))"
      ],
      "execution_count": null,
      "outputs": [
        {
          "output_type": "stream",
          "text": [
            "range(0, 20, 2)\n",
            "10\n",
            "<class 'range'>\n"
          ],
          "name": "stdout"
        }
      ]
    },
    {
      "cell_type": "markdown",
      "metadata": {
        "id": "vS66EKYJyffp"
      },
      "source": [
        "#**Mapping Types**"
      ]
    },
    {
      "cell_type": "code",
      "metadata": {
        "colab": {
          "base_uri": "https://localhost:8080/"
        },
        "id": "IgnyEvJtykMx",
        "outputId": "459fe021-57e9-41c5-cf34-2ae9a28baef9"
      },
      "source": [
        "'''\r\n",
        "dictionary is a mapping data type\r\n",
        "a dictionary is mutable\r\n",
        "a dictionary is unordered\r\n",
        "'''\r\n",
        "# define a dictionary\r\n",
        "b = {'one': 1, 'two' : 2, 'three': 3 }\r\n",
        "print(b)\r\n",
        "\r\n",
        "# check type()\r\n",
        "type(b)\r\n"
      ],
      "execution_count": null,
      "outputs": [
        {
          "output_type": "stream",
          "text": [
            "{'one': 1, 'two': 2, 'three': 3}\n"
          ],
          "name": "stdout"
        },
        {
          "output_type": "execute_result",
          "data": {
            "text/plain": [
              "dict"
            ]
          },
          "metadata": {
            "tags": []
          },
          "execution_count": 57
        }
      ]
    },
    {
      "cell_type": "markdown",
      "metadata": {
        "id": "uHlf-oFlzZuJ"
      },
      "source": [
        "#**Boolean Types**\r\n",
        "\r\n",
        "* state of truth\r\n",
        "\r\n",
        "   * may be True or False\r\n",
        "\r\n",
        "\r\n",
        "\r\n",
        "   \r\n",
        "\r\n",
        "\r\n",
        "\r\n"
      ]
    },
    {
      "cell_type": "code",
      "metadata": {
        "id": "V7sukmfH0ZxN",
        "colab": {
          "base_uri": "https://localhost:8080/"
        },
        "outputId": "f2d1664b-6279-4429-ab84-cc436ec8fcf8"
      },
      "source": [
        "# define a 'true' boolean\r\n",
        "boolean = True\r\n",
        "\r\n",
        "type(boolean)"
      ],
      "execution_count": null,
      "outputs": [
        {
          "output_type": "execute_result",
          "data": {
            "text/plain": [
              "bool"
            ]
          },
          "metadata": {
            "tags": []
          },
          "execution_count": 58
        }
      ]
    },
    {
      "cell_type": "code",
      "metadata": {
        "colab": {
          "base_uri": "https://localhost:8080/"
        },
        "id": "FhOc87dWTV0B",
        "outputId": "9a522700-5643-4d2c-8a02-0f0920f33eab"
      },
      "source": [
        "boolean = False\r\n",
        "\r\n",
        "type(boolean)"
      ],
      "execution_count": null,
      "outputs": [
        {
          "output_type": "execute_result",
          "data": {
            "text/plain": [
              "bool"
            ]
          },
          "metadata": {
            "tags": []
          },
          "execution_count": 59
        }
      ]
    },
    {
      "cell_type": "markdown",
      "metadata": {
        "id": "5-82ZcLhThtq"
      },
      "source": [
        "#**Set Types**"
      ]
    },
    {
      "cell_type": "code",
      "metadata": {
        "colab": {
          "base_uri": "https://localhost:8080/"
        },
        "id": "Ej8AIajeTpQA",
        "outputId": "4002296b-7b52-403f-8aa3-7ca3737c9fd9"
      },
      "source": [
        "# set is an unordered collection of distinct objects\r\n",
        "\r\n",
        "set_of_numbers = {0,9,1,5,7,2}\r\n",
        "\r\n",
        "print(set_of_numbers)"
      ],
      "execution_count": null,
      "outputs": [
        {
          "output_type": "stream",
          "text": [
            "{0, 1, 2, 5, 7, 9}\n"
          ],
          "name": "stdout"
        }
      ]
    },
    {
      "cell_type": "code",
      "metadata": {
        "colab": {
          "base_uri": "https://localhost:8080/"
        },
        "id": "5naVxHHWUB4L",
        "outputId": "19288420-5105-4d86-d676-df6281a69a4c"
      },
      "source": [
        "names = ['olivia', 'caleb', 'olivia']\r\n",
        "names_set = set(names)\r\n",
        "unique_names = list(names_set)\r\n",
        "print(unique_names)\r\n"
      ],
      "execution_count": null,
      "outputs": [
        {
          "output_type": "stream",
          "text": [
            "['olivia', 'caleb']\n"
          ],
          "name": "stdout"
        }
      ]
    },
    {
      "cell_type": "markdown",
      "metadata": {
        "id": "sFbYt6NwUdkL"
      },
      "source": [
        "#**Operators**\r\n",
        "\r\n",
        "\r\n",
        "\r\n",
        "*   popular kinds of operators\r\n",
        "\r\n",
        "\r\n",
        "1.   numeric\r\n",
        "2.   comparison\r\n",
        "3.   logical\r\n",
        "4.   assignment\r\n",
        "5.   identity\r\n",
        "6.   membership\r\n",
        "7.   bitwise\r\n",
        "\r\n",
        "\r\n",
        "\r\n",
        "\r\n",
        "\r\n",
        "\r\n",
        "\r\n",
        "\r\n"
      ]
    },
    {
      "cell_type": "markdown",
      "metadata": {
        "id": "_XKSRdI0VM41"
      },
      "source": [
        "**Numeric Operators**\r\n",
        "\r\n",
        "\r\n",
        "\r\n",
        "*   Used with numeric data types to perform mathematical operations\r\n",
        "\r\n",
        "\r\n",
        "   *   +: addition\r\n",
        "   *   -: subtraction\r\n",
        "   *   *: multiplication\r\n",
        "   *   /: division\r\n",
        "   *   //: floor division\r\n",
        "   *   %: modulus of same thing as a remainder\r\n",
        "   *   **: raising to power\r\n",
        "   *   abs(): absolute value f a number\r\n",
        "   *   round(): rounds a number\r\n",
        "   *   bin(): get binary version of a number\r\n",
        "   *   hex(): get hexadecimal version of a number\r\n",
        "\r\n",
        "\r\n",
        "\r\n",
        "\r\n",
        "\r\n"
      ]
    },
    {
      "cell_type": "code",
      "metadata": {
        "id": "kxG4MHpP0QVe"
      },
      "source": [
        "# set x, y and z to start exploring the operators\r\n",
        "x = 5\r\n",
        "y = 2.1\r\n",
        "z = -13"
      ],
      "execution_count": null,
      "outputs": []
    },
    {
      "cell_type": "code",
      "metadata": {
        "colab": {
          "base_uri": "https://localhost:8080/"
        },
        "id": "uxo7rvq70stj",
        "outputId": "a2af0c15-25cd-48cd-9215-2e7bc0abfc30"
      },
      "source": [
        "print(x + y)"
      ],
      "execution_count": null,
      "outputs": [
        {
          "output_type": "stream",
          "text": [
            "7.1\n"
          ],
          "name": "stdout"
        }
      ]
    },
    {
      "cell_type": "code",
      "metadata": {
        "colab": {
          "base_uri": "https://localhost:8080/"
        },
        "id": "42i6UkpI0uWo",
        "outputId": "3135373f-f948-4beb-ed07-da26d97b7f60"
      },
      "source": [
        "print(x - y)"
      ],
      "execution_count": null,
      "outputs": [
        {
          "output_type": "stream",
          "text": [
            "2.9\n"
          ],
          "name": "stdout"
        }
      ]
    },
    {
      "cell_type": "code",
      "metadata": {
        "colab": {
          "base_uri": "https://localhost:8080/"
        },
        "id": "F7W2huRa0uRZ",
        "outputId": "aa0ba5c5-4184-43b2-ad7a-7612f2d14048"
      },
      "source": [
        "print(x * y)"
      ],
      "execution_count": null,
      "outputs": [
        {
          "output_type": "stream",
          "text": [
            "10.5\n"
          ],
          "name": "stdout"
        }
      ]
    },
    {
      "cell_type": "code",
      "metadata": {
        "colab": {
          "base_uri": "https://localhost:8080/"
        },
        "id": "i7gIiKiM0tpA",
        "outputId": "6e5e11e9-673d-4e50-bbc5-5749d2f61bc3"
      },
      "source": [
        "print(x / y)"
      ],
      "execution_count": null,
      "outputs": [
        {
          "output_type": "stream",
          "text": [
            "2.380952380952381\n"
          ],
          "name": "stdout"
        }
      ]
    },
    {
      "cell_type": "code",
      "metadata": {
        "colab": {
          "base_uri": "https://localhost:8080/"
        },
        "id": "1DC3szil030K",
        "outputId": "6357d129-d18a-475a-c1d4-a13f967766e3"
      },
      "source": [
        "print(x // y)"
      ],
      "execution_count": null,
      "outputs": [
        {
          "output_type": "stream",
          "text": [
            "2.0\n"
          ],
          "name": "stdout"
        }
      ]
    },
    {
      "cell_type": "code",
      "metadata": {
        "colab": {
          "base_uri": "https://localhost:8080/"
        },
        "id": "C6ZMo10G03xu",
        "outputId": "8e8170f9-32b5-4a0c-925c-9d3f580bdda1"
      },
      "source": [
        "print(x % y)"
      ],
      "execution_count": null,
      "outputs": [
        {
          "output_type": "stream",
          "text": [
            "0.7999999999999998\n"
          ],
          "name": "stdout"
        }
      ]
    },
    {
      "cell_type": "code",
      "metadata": {
        "colab": {
          "base_uri": "https://localhost:8080/"
        },
        "id": "MOa6VkSc03u8",
        "outputId": "c32bfca6-0171-47fa-9ee1-8bdc5924b244"
      },
      "source": [
        "print(abs(z))"
      ],
      "execution_count": null,
      "outputs": [
        {
          "output_type": "stream",
          "text": [
            "13\n"
          ],
          "name": "stdout"
        }
      ]
    },
    {
      "cell_type": "code",
      "metadata": {
        "colab": {
          "base_uri": "https://localhost:8080/"
        },
        "id": "UZjykn4C03sc",
        "outputId": "c6fa2a29-f2b9-4279-9bb1-3c7aadc4e749"
      },
      "source": [
        "print(x ** y)"
      ],
      "execution_count": null,
      "outputs": [
        {
          "output_type": "stream",
          "text": [
            "29.36547357720048\n"
          ],
          "name": "stdout"
        }
      ]
    },
    {
      "cell_type": "code",
      "metadata": {
        "colab": {
          "base_uri": "https://localhost:8080/"
        },
        "id": "aOWt43KY03ps",
        "outputId": "08947708-7bf4-461e-f7be-f9ebbb3ec8c1"
      },
      "source": [
        "print(round(y))"
      ],
      "execution_count": null,
      "outputs": [
        {
          "output_type": "stream",
          "text": [
            "2\n"
          ],
          "name": "stdout"
        }
      ]
    },
    {
      "cell_type": "code",
      "metadata": {
        "colab": {
          "base_uri": "https://localhost:8080/"
        },
        "id": "2ofq8Nrk03nI",
        "outputId": "c46324ed-e432-41fb-ca65-fb92fa8586dd"
      },
      "source": [
        "print(round(3.7))"
      ],
      "execution_count": null,
      "outputs": [
        {
          "output_type": "stream",
          "text": [
            "4\n"
          ],
          "name": "stdout"
        }
      ]
    },
    {
      "cell_type": "code",
      "metadata": {
        "colab": {
          "base_uri": "https://localhost:8080/"
        },
        "id": "pL4qsf_u1eT4",
        "outputId": "9f80bce8-373d-491c-cb3e-4925a8a1c737"
      },
      "source": [
        "print(bin(37))"
      ],
      "execution_count": null,
      "outputs": [
        {
          "output_type": "stream",
          "text": [
            "0b100101\n"
          ],
          "name": "stdout"
        }
      ]
    },
    {
      "cell_type": "code",
      "metadata": {
        "colab": {
          "base_uri": "https://localhost:8080/"
        },
        "id": "MLvIzMpr1inQ",
        "outputId": "0e17a720-17dd-4b6a-c556-76d82301e33d"
      },
      "source": [
        "print(hex())"
      ],
      "execution_count": null,
      "outputs": [
        {
          "output_type": "stream",
          "text": [
            "0x25\n"
          ],
          "name": "stdout"
        }
      ]
    },
    {
      "cell_type": "code",
      "metadata": {
        "colab": {
          "base_uri": "https://localhost:8080/"
        },
        "id": "kPGCDgiA16K5",
        "outputId": "32755b2d-8f78-40c5-8226-ffd6fb63e99c"
      },
      "source": [
        "help(hex)"
      ],
      "execution_count": null,
      "outputs": [
        {
          "output_type": "stream",
          "text": [
            "Help on built-in function hex in module builtins:\n",
            "\n",
            "hex(number, /)\n",
            "    Return the hexadecimal representation of an integer.\n",
            "    \n",
            "    >>> hex(12648430)\n",
            "    '0xc0ffee'\n",
            "\n"
          ],
          "name": "stdout"
        }
      ]
    },
    {
      "cell_type": "markdown",
      "metadata": {
        "id": "BaUxYLCZynuz"
      },
      "source": [
        "**Comparison Operators**\r\n",
        "\r\n",
        "* used to compare two values\r\n",
        " * `< is less than`\r\n",
        " * `> is greater than`\r\n",
        " * `<= is less than or eqaul to`\r\n",
        " * `>= is greater than or equal to`\r\n",
        " * `== is equal to`\r\n",
        " * `!= is inequality`\r\n",
        "\r\n"
      ]
    },
    {
      "cell_type": "code",
      "metadata": {
        "colab": {
          "base_uri": "https://localhost:8080/"
        },
        "id": "aFG_Sty3W6tj",
        "outputId": "57cfbad8-2fc1-4c5a-b69d-4bd2e0b19488"
      },
      "source": [
        "# greater than\r\n",
        "i = 3\r\n",
        "j = 7\r\n",
        "\r\n",
        "print(i>j)"
      ],
      "execution_count": null,
      "outputs": [
        {
          "output_type": "stream",
          "text": [
            "False\n"
          ],
          "name": "stdout"
        }
      ]
    },
    {
      "cell_type": "code",
      "metadata": {
        "colab": {
          "base_uri": "https://localhost:8080/"
        },
        "id": "g3Tu2rDSX6wE",
        "outputId": "4e182308-74ec-405a-e6b4-62288bc413bc"
      },
      "source": [
        "# greater than or equal to\r\n",
        "print(i>=j)"
      ],
      "execution_count": null,
      "outputs": [
        {
          "output_type": "stream",
          "text": [
            "False\n"
          ],
          "name": "stdout"
        }
      ]
    },
    {
      "cell_type": "code",
      "metadata": {
        "colab": {
          "base_uri": "https://localhost:8080/"
        },
        "id": "92Ek3BiGYApp",
        "outputId": "40a37b97-96f1-4027-e79c-daa3177d9ddd"
      },
      "source": [
        "# less than\r\n",
        "print(i<j)"
      ],
      "execution_count": null,
      "outputs": [
        {
          "output_type": "stream",
          "text": [
            "True\n"
          ],
          "name": "stdout"
        }
      ]
    },
    {
      "cell_type": "code",
      "metadata": {
        "colab": {
          "base_uri": "https://localhost:8080/"
        },
        "id": "E7x8g46NYFXP",
        "outputId": "08649c76-bbaf-418a-e0fe-bd79482023bc"
      },
      "source": [
        "# less than or equal to\r\n",
        "print(i<=j)"
      ],
      "execution_count": null,
      "outputs": [
        {
          "output_type": "stream",
          "text": [
            "True\n"
          ],
          "name": "stdout"
        }
      ]
    },
    {
      "cell_type": "code",
      "metadata": {
        "colab": {
          "base_uri": "https://localhost:8080/"
        },
        "id": "Y3wv9CKvYig_",
        "outputId": "3d081e21-7bc1-4d4c-920c-2989286954c6"
      },
      "source": [
        "# equality test #1\r\n",
        "print(i == j)"
      ],
      "execution_count": null,
      "outputs": [
        {
          "output_type": "stream",
          "text": [
            "False\n"
          ],
          "name": "stdout"
        }
      ]
    },
    {
      "cell_type": "code",
      "metadata": {
        "colab": {
          "base_uri": "https://localhost:8080/"
        },
        "id": "-__I6SpTYtkf",
        "outputId": "dde30f65-b5ad-4ca1-c84c-265d8d6d07e2"
      },
      "source": [
        "# equality test #2\r\n",
        "i = 3\r\n",
        "j = 3\r\n",
        "\r\n",
        "print(i==j)"
      ],
      "execution_count": null,
      "outputs": [
        {
          "output_type": "stream",
          "text": [
            "True\n"
          ],
          "name": "stdout"
        }
      ]
    },
    {
      "cell_type": "code",
      "metadata": {
        "colab": {
          "base_uri": "https://localhost:8080/"
        },
        "id": "lskf9j0XY3cO",
        "outputId": "515331c1-c594-401d-bf16-7e2e347fd5ce"
      },
      "source": [
        "# inequality Test #1\r\n",
        "i = 3\r\n",
        "j = 7\r\n",
        "\r\n",
        "print(i != j)"
      ],
      "execution_count": null,
      "outputs": [
        {
          "output_type": "stream",
          "text": [
            "True\n"
          ],
          "name": "stdout"
        }
      ]
    },
    {
      "cell_type": "code",
      "metadata": {
        "colab": {
          "base_uri": "https://localhost:8080/"
        },
        "id": "P3mLMrWgZNYf",
        "outputId": "93d7924f-409a-43a5-e830-c0d43b6a32e7"
      },
      "source": [
        "# inequality test #2\r\n",
        "i = 3\r\n",
        "j = 3\r\n",
        "\r\n",
        "print(i != j)"
      ],
      "execution_count": null,
      "outputs": [
        {
          "output_type": "stream",
          "text": [
            "False\n"
          ],
          "name": "stdout"
        }
      ]
    },
    {
      "cell_type": "markdown",
      "metadata": {
        "id": "d7AeKDS6ZfIn"
      },
      "source": [
        "**Logic Operators**\r\n",
        "\r\n",
        "*   used to combine conditional statements\r\n",
        "  * and\r\n",
        "  * or\r\n",
        "  * not\r\n",
        "\r\n"
      ]
    },
    {
      "cell_type": "markdown",
      "metadata": {
        "id": "Hlr-JAwKyQvE"
      },
      "source": [
        "***not Operators***"
      ]
    },
    {
      "cell_type": "code",
      "metadata": {
        "colab": {
          "base_uri": "https://localhost:8080/"
        },
        "id": "7K64Q5ksZ3lo",
        "outputId": "3fea9636-9b07-41fd-8f29-17959a7c0407"
      },
      "source": [
        "# 'not' operatror\r\n",
        "\r\n",
        "a = True\r\n",
        "print(not a)"
      ],
      "execution_count": null,
      "outputs": [
        {
          "output_type": "stream",
          "text": [
            "False\n"
          ],
          "name": "stdout"
        }
      ]
    },
    {
      "cell_type": "markdown",
      "metadata": {
        "id": "KEaiywtEbtpK"
      },
      "source": [
        "***and Operator***"
      ]
    },
    {
      "cell_type": "code",
      "metadata": {
        "colab": {
          "base_uri": "https://localhost:8080/"
        },
        "id": "YmADHHmKaB2c",
        "outputId": "b9d0a91d-6ebc-430f-e632-4c48c88d733b"
      },
      "source": [
        "# a and b are True\r\n",
        "a = True\r\n",
        "b = True\r\n",
        "\r\n",
        "print(a and b)"
      ],
      "execution_count": null,
      "outputs": [
        {
          "output_type": "stream",
          "text": [
            "True\n"
          ],
          "name": "stdout"
        }
      ]
    },
    {
      "cell_type": "code",
      "metadata": {
        "colab": {
          "base_uri": "https://localhost:8080/"
        },
        "id": "t0J0XhazaWqK",
        "outputId": "5ce55b91-27df-4ac6-f31a-9ebaef3c5aff"
      },
      "source": [
        "# only a is True\r\n",
        "a = True\r\n",
        "b = False\r\n",
        "\r\n",
        "print( a and b)"
      ],
      "execution_count": null,
      "outputs": [
        {
          "output_type": "stream",
          "text": [
            "False\n"
          ],
          "name": "stdout"
        }
      ]
    },
    {
      "cell_type": "code",
      "metadata": {
        "colab": {
          "base_uri": "https://localhost:8080/"
        },
        "id": "ybLYKIHUbHve",
        "outputId": "519cad12-2e43-4825-b289-5c7d5551aa7d"
      },
      "source": [
        "# only b is true\r\n",
        "\r\n",
        "a = False\r\n",
        "b = True\r\n",
        "\r\n",
        "print(a and b)"
      ],
      "execution_count": null,
      "outputs": [
        {
          "output_type": "stream",
          "text": [
            "False\n"
          ],
          "name": "stdout"
        }
      ]
    },
    {
      "cell_type": "code",
      "metadata": {
        "colab": {
          "base_uri": "https://localhost:8080/"
        },
        "id": "IzA4T0YIbSLl",
        "outputId": "19010dde-6ecb-4e82-c0e7-15d2348c0e77"
      },
      "source": [
        "# a and b are both false\r\n",
        "a = False\r\n",
        "b = False\r\n",
        "\r\n",
        "print(a and b)"
      ],
      "execution_count": null,
      "outputs": [
        {
          "output_type": "stream",
          "text": [
            "False\n"
          ],
          "name": "stdout"
        }
      ]
    },
    {
      "cell_type": "markdown",
      "metadata": {
        "id": "KDkpXDjjcFR1"
      },
      "source": [
        "***or Operator***"
      ]
    },
    {
      "cell_type": "code",
      "metadata": {
        "colab": {
          "base_uri": "https://localhost:8080/"
        },
        "id": "ea9V0bT7cjk1",
        "outputId": "c834ed07-a56a-4f4e-d393-318c7e44ea97"
      },
      "source": [
        "## 'or' operator\r\n",
        "\r\n",
        "# a and b are true\r\n",
        "a = True\r\n",
        "b = True\r\n",
        "\r\n",
        "print(a or b)"
      ],
      "execution_count": null,
      "outputs": [
        {
          "output_type": "stream",
          "text": [
            "True\n"
          ],
          "name": "stdout"
        }
      ]
    },
    {
      "cell_type": "code",
      "metadata": {
        "colab": {
          "base_uri": "https://localhost:8080/"
        },
        "id": "6E7mJZzivmgN",
        "outputId": "aea20a37-f01e-44b3-c696-082e4eae86df"
      },
      "source": [
        "# only a is true\r\n",
        "a = True\r\n",
        "b = False\r\n",
        "\r\n",
        "print(a or b)"
      ],
      "execution_count": null,
      "outputs": [
        {
          "output_type": "stream",
          "text": [
            "True\n"
          ],
          "name": "stdout"
        }
      ]
    },
    {
      "cell_type": "code",
      "metadata": {
        "colab": {
          "base_uri": "https://localhost:8080/"
        },
        "id": "U7x_zx8dvyDt",
        "outputId": "9b63f75d-93a0-4208-a423-86c73255b254"
      },
      "source": [
        "# only b is true\r\n",
        "a = False\r\n",
        "b = True\r\n",
        "\r\n",
        "print(a or b)"
      ],
      "execution_count": null,
      "outputs": [
        {
          "output_type": "stream",
          "text": [
            "True\n"
          ],
          "name": "stdout"
        }
      ]
    },
    {
      "cell_type": "code",
      "metadata": {
        "colab": {
          "base_uri": "https://localhost:8080/"
        },
        "id": "Iqg-mzGkwBwl",
        "outputId": "1d1e9c51-23b0-4793-d41f-d8b43c9c582f"
      },
      "source": [
        "# a and b are both False\r\n",
        "a = False\r\n",
        "b = False\r\n",
        "\r\n",
        "print(a or b)"
      ],
      "execution_count": null,
      "outputs": [
        {
          "output_type": "stream",
          "text": [
            "False\n"
          ],
          "name": "stdout"
        }
      ]
    },
    {
      "cell_type": "markdown",
      "metadata": {
        "id": "43X3IbskwWKe"
      },
      "source": [
        "**Assignment Operators**\r\n",
        "\r\n",
        "\r\n",
        "*   used to assign values to variables\r\n",
        "   * =\r\n",
        "*   following operators combine numerical operations at the same time as assignment\r\n",
        "   * +=\r\n",
        "   * -=\r\n",
        "   * *=\r\n",
        "   * /=\r\n",
        "   * //=\r\n",
        "   * %=\r\n",
        "   * **=\r\n",
        "\r\n"
      ]
    },
    {
      "cell_type": "code",
      "metadata": {
        "id": "Y-TGFLDFyEB0"
      },
      "source": [
        "x = 21\r\n",
        "print(x)"
      ],
      "execution_count": null,
      "outputs": []
    },
    {
      "cell_type": "code",
      "metadata": {
        "id": "Pu6f9-w-3HCO"
      },
      "source": [
        "x += 3\r\n",
        "print(x)"
      ],
      "execution_count": null,
      "outputs": []
    },
    {
      "cell_type": "code",
      "metadata": {
        "id": "EbyMTlWA3G_g"
      },
      "source": [
        "x -= 3\r\n",
        "print(x)"
      ],
      "execution_count": null,
      "outputs": []
    },
    {
      "cell_type": "code",
      "metadata": {
        "id": "XEQJ3bJG3G9D"
      },
      "source": [
        "x *= 3\r\n",
        "print(x)"
      ],
      "execution_count": null,
      "outputs": []
    },
    {
      "cell_type": "code",
      "metadata": {
        "id": "GA0O9bEB3G6m"
      },
      "source": [
        "x /= 3\r\n",
        "print(x)"
      ],
      "execution_count": null,
      "outputs": []
    },
    {
      "cell_type": "code",
      "metadata": {
        "id": "Muu2h6Rn3GsX"
      },
      "source": [
        "x //= 3\r\n",
        "print(x)"
      ],
      "execution_count": null,
      "outputs": []
    },
    {
      "cell_type": "code",
      "metadata": {
        "colab": {
          "base_uri": "https://localhost:8080/"
        },
        "id": "ebUxXzMz3GmT",
        "outputId": "4402c75c-5861-4528-c0c7-13201ca29a38"
      },
      "source": [
        "x %= 3\r\n",
        "print(x) "
      ],
      "execution_count": 94,
      "outputs": [
        {
          "output_type": "stream",
          "text": [
            "2\n"
          ],
          "name": "stdout"
        }
      ]
    }
  ]
}