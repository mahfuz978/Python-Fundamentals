{
  "nbformat": 4,
  "nbformat_minor": 0,
  "metadata": {
    "colab": {
      "name": "Mahfuzur_Rahman_py10_1-1a.ipynb",
      "provenance": [],
      "collapsed_sections": [],
      "authorship_tag": "ABX9TyPNAxFBJtRe1AYZoy0Dd5bk",
      "include_colab_link": true
    },
    "kernelspec": {
      "name": "python3",
      "display_name": "Python 3"
    }
  },
  "cells": [
    {
      "cell_type": "markdown",
      "metadata": {
        "id": "view-in-github",
        "colab_type": "text"
      },
      "source": [
        "<a href=\"https://colab.research.google.com/github/mahfuz978/TECH.I.S-Fundamentals/blob/main/Mahfuzur_Rahman_py10_1_1a.ipynb\" target=\"_parent\"><img src=\"https://colab.research.google.com/assets/colab-badge.svg\" alt=\"Open In Colab\"/></a>"
      ]
    },
    {
      "cell_type": "markdown",
      "metadata": {
        "id": "b1NZ3Iq3baC1"
      },
      "source": [
        "#**Hello World**"
      ]
    },
    {
      "cell_type": "code",
      "metadata": {
        "colab": {
          "base_uri": "https://localhost:8080/"
        },
        "id": "W6ZNckbPalZ4",
        "outputId": "610dd813-7b07-4833-e646-63442b703cb9"
      },
      "source": [
        "print(\"Hello World\")"
      ],
      "execution_count": 1,
      "outputs": [
        {
          "output_type": "stream",
          "text": [
            "Hello World\n"
          ],
          "name": "stdout"
        }
      ]
    },
    {
      "cell_type": "markdown",
      "metadata": {
        "id": "cKXmo87EWLwr"
      },
      "source": [
        "#**Help Command**"
      ]
    },
    {
      "cell_type": "code",
      "metadata": {
        "colab": {
          "base_uri": "https://localhost:8080/"
        },
        "id": "U8k5Gmz7WVah",
        "outputId": "f08df8ae-3cbf-493c-b44b-8e5dc4bcd265"
      },
      "source": [
        "help(print)"
      ],
      "execution_count": 2,
      "outputs": [
        {
          "output_type": "stream",
          "text": [
            "Help on built-in function print in module builtins:\n",
            "\n",
            "print(...)\n",
            "    print(value, ..., sep=' ', end='\\n', file=sys.stdout, flush=False)\n",
            "    \n",
            "    Prints the values to a stream, or to sys.stdout by default.\n",
            "    Optional keyword arguments:\n",
            "    file:  a file-like object (stream); defaults to the current sys.stdout.\n",
            "    sep:   string inserted between values, default a space.\n",
            "    end:   string appended after the last value, default a newline.\n",
            "    flush: whether to forcibly flush the stream.\n",
            "\n"
          ],
          "name": "stdout"
        }
      ]
    },
    {
      "cell_type": "markdown",
      "metadata": {
        "id": "A6JVWyVib4mV"
      },
      "source": [
        "#**Comments**"
      ]
    },
    {
      "cell_type": "code",
      "metadata": {
        "colab": {
          "base_uri": "https://localhost:8080/"
        },
        "id": "oPJbwhRkb8ok",
        "outputId": "ecf48281-1528-48b3-b02f-7d261d3db40a"
      },
      "source": [
        "# this is a single comment\r\n",
        "print(\"this is not a comment\")\r\n",
        "\r\n",
        "# comments can be added like this as well\r\n",
        "\"\"\"\r\n",
        "This is a\r\n",
        "multi-line comment\r\n",
        "\"\"\"\r\n",
        "print(\"this is not a comment either\")"
      ],
      "execution_count": 3,
      "outputs": [
        {
          "output_type": "stream",
          "text": [
            "this is not a comment\n",
            "this is not a comment either\n"
          ],
          "name": "stdout"
        }
      ]
    },
    {
      "cell_type": "markdown",
      "metadata": {
        "id": "lLCKjIn2W4GR"
      },
      "source": [
        "#**Variables**"
      ]
    },
    {
      "cell_type": "code",
      "metadata": {
        "colab": {
          "base_uri": "https://localhost:8080/"
        },
        "id": "wSfEtxJ-W7Cb",
        "outputId": "454504b6-117c-40c8-dc6d-59d4d65e1781"
      },
      "source": [
        "# bind number 7 to variable \"x\"\r\n",
        "x = 7 # the value of 7 is assigned to x\r\n",
        "\r\n",
        "# print the value of x\r\n",
        "print(x)"
      ],
      "execution_count": 4,
      "outputs": [
        {
          "output_type": "stream",
          "text": [
            "7\n"
          ],
          "name": "stdout"
        }
      ]
    },
    {
      "cell_type": "markdown",
      "metadata": {
        "id": "_giShjkHXYjd"
      },
      "source": [
        "**Python Variable Naming Convention (Industry Standard)**\r\n",
        "\r\n",
        "\r\n",
        "* variables names start with a lowercase letter or underscore\r\n",
        "   * can be followed by numbers or underscore\r\n",
        "* snake_case is aconventional way of writing variable names with multiple words \r\n",
        "* variable names cannot begin with a number but numbers can be a part of the variable name later\r\n",
        "   * eg: names like: va923, `_app4r_` , f8_9, tmp; are allowed\r\n",
        "   * eg: names like: 9va23. #app4r_ , f8-9, `tm*p` ; are  **NOT** allowed\r\n",
        "\r\n",
        "\r\n",
        "\r\n"
      ]
    },
    {
      "cell_type": "markdown",
      "metadata": {
        "id": "PJ0j7vCwbmpZ"
      },
      "source": [
        "#**Simple Program**\r\n",
        "\r\n",
        "\r\n",
        "*   *input*: uses the input command\r\n",
        "*   *output* : used the print command\r\n",
        "\r\n"
      ]
    },
    {
      "cell_type": "code",
      "metadata": {
        "colab": {
          "base_uri": "https://localhost:8080/"
        },
        "id": "FmLvQnDUe8Sk",
        "outputId": "6407ad75-d377-475e-cfb9-c1bd41963cfc"
      },
      "source": [
        "name = input('What is your name?')\r\n",
        "print('Welcome to the world of python,', name)"
      ],
      "execution_count": 5,
      "outputs": [
        {
          "output_type": "stream",
          "text": [
            "What is your name?mahfuz\n",
            "Welcome to the world of python, mahfuz\n"
          ],
          "name": "stdout"
        }
      ]
    },
    {
      "cell_type": "markdown",
      "metadata": {
        "id": "88B_Y3fKf9UK"
      },
      "source": [
        "#**Data Types**\r\n",
        "\r\n",
        "*   a particular kind of data entity, defined by the values it can take\r\n",
        "*   Python has several built-in data types, some of them are\r\n",
        "  * numeric\r\n",
        "  * text\r\n",
        "  * sequence\r\n",
        "  * mapping\r\n",
        "  * boolean\r\n",
        "  * set\r\n",
        "* the type() function is used to check the data type of something in python\r\n",
        "\r\n",
        "\r\n",
        "\r\n",
        "\r\n"
      ]
    },
    {
      "cell_type": "markdown",
      "metadata": {
        "id": "mhSmC_MdmUAq"
      },
      "source": [
        "#**Numeric Data Types**\r\n",
        "\r\n",
        "\r\n",
        "*   two types\r\n",
        "\r\n",
        "1.   int is for integers\r\n",
        "2.   float is for decimal numbers\r\n",
        "\r\n",
        "\r\n",
        "\r\n"
      ]
    },
    {
      "cell_type": "code",
      "metadata": {
        "colab": {
          "base_uri": "https://localhost:8080/"
        },
        "id": "_rjHW5Zmms_-",
        "outputId": "27859b8b-d3e7-4f05-be1b-889da7a88b0c"
      },
      "source": [
        "# create int type variable\r\n",
        "x = 7 # 7 is an integer\r\n",
        "\r\n",
        "# check type of variable\r\n",
        "type(x)"
      ],
      "execution_count": 6,
      "outputs": [
        {
          "output_type": "execute_result",
          "data": {
            "text/plain": [
              "int"
            ]
          },
          "metadata": {
            "tags": []
          },
          "execution_count": 6
        }
      ]
    },
    {
      "cell_type": "code",
      "metadata": {
        "colab": {
          "base_uri": "https://localhost:8080/"
        },
        "id": "ebqxxK-rm-gU",
        "outputId": "a52bf4ee-f460-4501-e666-f35dcecc9412"
      },
      "source": [
        "x = 3.8 \r\n",
        "type(x)"
      ],
      "execution_count": 7,
      "outputs": [
        {
          "output_type": "execute_result",
          "data": {
            "text/plain": [
              "float"
            ]
          },
          "metadata": {
            "tags": []
          },
          "execution_count": 7
        }
      ]
    },
    {
      "cell_type": "markdown",
      "metadata": {
        "id": "MS-DbrunnMLl"
      },
      "source": [
        "#**Text Sequence Types**\r\n"
      ]
    },
    {
      "cell_type": "code",
      "metadata": {
        "colab": {
          "base_uri": "https://localhost:8080/"
        },
        "id": "50hJlw5bnZ5l",
        "outputId": "0b3145e7-aae9-474b-973d-9fd509b43fca"
      },
      "source": [
        "'''\r\n",
        "Strings are sequence of characters,\r\n",
        "immutable,\r\n",
        "and ordered.\r\n",
        "'''\r\n",
        "\r\n",
        "# define a string\r\n",
        "python_string = \"Tech is awesome!\"\r\n",
        "\r\n",
        "# check type\r\n",
        "type(python_string)"
      ],
      "execution_count": 8,
      "outputs": [
        {
          "output_type": "execute_result",
          "data": {
            "text/plain": [
              "str"
            ]
          },
          "metadata": {
            "tags": []
          },
          "execution_count": 8
        }
      ]
    },
    {
      "cell_type": "markdown",
      "metadata": {
        "id": "iCipCkFdoIxD"
      },
      "source": [
        "#**Sequence Types**"
      ]
    },
    {
      "cell_type": "markdown",
      "metadata": {
        "id": "dAH5DkiisiR4"
      },
      "source": [
        "**List**"
      ]
    },
    {
      "cell_type": "code",
      "metadata": {
        "colab": {
          "base_uri": "https://localhost:8080/"
        },
        "id": "OR5zFuYvoMq_",
        "outputId": "41eb88d5-cd39-4068-d716-dfd10d5e64e5"
      },
      "source": [
        "'''\r\n",
        "Sequnce types are:\r\n",
        "list: mutable\r\n",
        "tuble: immutable\r\n",
        "range: immutable\r\n",
        "'''\r\n",
        "\r\n",
        "# define a list\r\n",
        "list_example = ['3', 92, 'x', 33.14 ]\r\n",
        "print(list_example)"
      ],
      "execution_count": 9,
      "outputs": [
        {
          "output_type": "stream",
          "text": [
            "['3', 92, 'x', 33.14]\n"
          ],
          "name": "stdout"
        }
      ]
    },
    {
      "cell_type": "code",
      "metadata": {
        "colab": {
          "base_uri": "https://localhost:8080/"
        },
        "id": "MeEgzAwwos46",
        "outputId": "e709bd34-7caa-4603-9b0c-158eb7a3cb56"
      },
      "source": [
        "# check the length of the list\r\n",
        "print(len(list_example))"
      ],
      "execution_count": 10,
      "outputs": [
        {
          "output_type": "stream",
          "text": [
            "4\n"
          ],
          "name": "stdout"
        }
      ]
    },
    {
      "cell_type": "code",
      "metadata": {
        "colab": {
          "base_uri": "https://localhost:8080/"
        },
        "id": "sus5CfAlo2Ei",
        "outputId": "7e8ee42e-3ef9-4420-ea45-cc41c6396193"
      },
      "source": [
        "# check type\r\n",
        "type(list_example)"
      ],
      "execution_count": 11,
      "outputs": [
        {
          "output_type": "execute_result",
          "data": {
            "text/plain": [
              "list"
            ]
          },
          "metadata": {
            "tags": []
          },
          "execution_count": 11
        }
      ]
    },
    {
      "cell_type": "markdown",
      "metadata": {
        "id": "_Op4zGi9sooJ"
      },
      "source": [
        "**Tuple**"
      ]
    },
    {
      "cell_type": "code",
      "metadata": {
        "colab": {
          "base_uri": "https://localhost:8080/"
        },
        "id": "TPnTLLyXsulo",
        "outputId": "ad940d30-baf2-4c38-cdd2-5b8e5e2019e1"
      },
      "source": [
        "# define a tuple\r\n",
        "tuple_example = (5,\"11\", 'a', 2.86)\r\n",
        "print(tuple_example)"
      ],
      "execution_count": 12,
      "outputs": [
        {
          "output_type": "stream",
          "text": [
            "(5, '11', 'a', 2.86)\n"
          ],
          "name": "stdout"
        }
      ]
    },
    {
      "cell_type": "code",
      "metadata": {
        "colab": {
          "base_uri": "https://localhost:8080/"
        },
        "id": "qWdAY1hhu8Ud",
        "outputId": "37a58436-c357-47ca-d4d5-ac0d98e0ae3b"
      },
      "source": [
        "# check the length of the tuple\r\n",
        "print(len(tuple_example))\r\n",
        "\r\n",
        "# check type\r\n",
        "type(tuple_example)"
      ],
      "execution_count": 13,
      "outputs": [
        {
          "output_type": "stream",
          "text": [
            "4\n"
          ],
          "name": "stdout"
        },
        {
          "output_type": "execute_result",
          "data": {
            "text/plain": [
              "tuple"
            ]
          },
          "metadata": {
            "tags": []
          },
          "execution_count": 13
        }
      ]
    },
    {
      "cell_type": "markdown",
      "metadata": {
        "id": "ElT6WIgNxGbO"
      },
      "source": [
        "#**Range**"
      ]
    },
    {
      "cell_type": "code",
      "metadata": {
        "colab": {
          "base_uri": "https://localhost:8080/"
        },
        "id": "diuekYjaxJr7",
        "outputId": "97131bb7-5986-43d8-a8a4-6710a48d2ab5"
      },
      "source": [
        "#define a range\r\n",
        "range_example = range(7)\r\n",
        "print(range_example)\r\n",
        "\r\n",
        "# check length of the range\r\n",
        "print(len(range_example))\r\n",
        "\r\n",
        "# check type\r\n",
        "type(range_example)\r\n"
      ],
      "execution_count": 14,
      "outputs": [
        {
          "output_type": "stream",
          "text": [
            "range(0, 7)\n",
            "7\n"
          ],
          "name": "stdout"
        },
        {
          "output_type": "execute_result",
          "data": {
            "text/plain": [
              "range"
            ]
          },
          "metadata": {
            "tags": []
          },
          "execution_count": 14
        }
      ]
    },
    {
      "cell_type": "code",
      "metadata": {
        "colab": {
          "base_uri": "https://localhost:8080/"
        },
        "id": "NKt4fv2vxtmq",
        "outputId": "1f025917-a7c5-4c0b-ba31-34139196642f"
      },
      "source": [
        "# define range with (start, stop, step)\r\n",
        "range_example = range(0, 20, 2)\r\n",
        "print(range_example)\r\n",
        "\r\n",
        "# check length of the range\r\n",
        "print(len(range_example))\r\n",
        "\r\n",
        "# check type\r\n",
        "print(type(range_example))"
      ],
      "execution_count": 15,
      "outputs": [
        {
          "output_type": "stream",
          "text": [
            "range(0, 20, 2)\n",
            "10\n",
            "<class 'range'>\n"
          ],
          "name": "stdout"
        }
      ]
    },
    {
      "cell_type": "markdown",
      "metadata": {
        "id": "vS66EKYJyffp"
      },
      "source": [
        "#**Mapping Types**"
      ]
    },
    {
      "cell_type": "code",
      "metadata": {
        "colab": {
          "base_uri": "https://localhost:8080/"
        },
        "id": "IgnyEvJtykMx",
        "outputId": "a117fbdf-9d59-42a9-c6a2-4cdaae88d5d0"
      },
      "source": [
        "'''\r\n",
        "dictionary is a mapping data type\r\n",
        "a dictionary is mutable\r\n",
        "a dictionary is unordered\r\n",
        "'''\r\n",
        "# define a dictionary\r\n",
        "b = {'one': 1, 'two' : 2, 'three': 3 }\r\n",
        "print(b)\r\n",
        "\r\n",
        "# check type()\r\n",
        "type(b)\r\n"
      ],
      "execution_count": 16,
      "outputs": [
        {
          "output_type": "stream",
          "text": [
            "{'one': 1, 'two': 2, 'three': 3}\n"
          ],
          "name": "stdout"
        },
        {
          "output_type": "execute_result",
          "data": {
            "text/plain": [
              "dict"
            ]
          },
          "metadata": {
            "tags": []
          },
          "execution_count": 16
        }
      ]
    },
    {
      "cell_type": "markdown",
      "metadata": {
        "id": "uHlf-oFlzZuJ"
      },
      "source": [
        "#**Boolean Types**\r\n",
        "\r\n",
        "* state of truth\r\n",
        "\r\n",
        "   * may be True or False\r\n",
        "\r\n",
        "\r\n",
        "\r\n",
        "   \r\n",
        "\r\n",
        "\r\n",
        "\r\n"
      ]
    },
    {
      "cell_type": "code",
      "metadata": {
        "id": "V7sukmfH0ZxN",
        "colab": {
          "base_uri": "https://localhost:8080/"
        },
        "outputId": "47ca0cd7-040d-45c5-9a2b-23a131b2b8c1"
      },
      "source": [
        "# define a 'true' boolean\r\n",
        "boolean = True\r\n",
        "\r\n",
        "type(boolean)"
      ],
      "execution_count": 17,
      "outputs": [
        {
          "output_type": "execute_result",
          "data": {
            "text/plain": [
              "bool"
            ]
          },
          "metadata": {
            "tags": []
          },
          "execution_count": 17
        }
      ]
    },
    {
      "cell_type": "code",
      "metadata": {
        "colab": {
          "base_uri": "https://localhost:8080/"
        },
        "id": "FhOc87dWTV0B",
        "outputId": "e612a869-10d5-4fde-868c-3bc443dbea06"
      },
      "source": [
        "boolean = False\r\n",
        "\r\n",
        "type(boolean)"
      ],
      "execution_count": 18,
      "outputs": [
        {
          "output_type": "execute_result",
          "data": {
            "text/plain": [
              "bool"
            ]
          },
          "metadata": {
            "tags": []
          },
          "execution_count": 18
        }
      ]
    },
    {
      "cell_type": "markdown",
      "metadata": {
        "id": "5-82ZcLhThtq"
      },
      "source": [
        "#**Set Types**"
      ]
    },
    {
      "cell_type": "code",
      "metadata": {
        "colab": {
          "base_uri": "https://localhost:8080/"
        },
        "id": "Ej8AIajeTpQA",
        "outputId": "53ca6aac-7716-4552-f261-7ba5c9e55a67"
      },
      "source": [
        "# set is an unordered collection of distinct objects\r\n",
        "\r\n",
        "set_of_numbers = {0,9,1,5,7,2}\r\n",
        "\r\n",
        "print(set_of_numbers)"
      ],
      "execution_count": 19,
      "outputs": [
        {
          "output_type": "stream",
          "text": [
            "{0, 1, 2, 5, 7, 9}\n"
          ],
          "name": "stdout"
        }
      ]
    },
    {
      "cell_type": "code",
      "metadata": {
        "colab": {
          "base_uri": "https://localhost:8080/"
        },
        "id": "5naVxHHWUB4L",
        "outputId": "93063ba6-757e-4049-befb-d44c0648360e"
      },
      "source": [
        "names = ['olivia', 'caleb', 'olivia']\r\n",
        "names_set = set(names)\r\n",
        "unique_names = list(names_set)\r\n",
        "print(unique_names)\r\n"
      ],
      "execution_count": 20,
      "outputs": [
        {
          "output_type": "stream",
          "text": [
            "['olivia', 'caleb']\n"
          ],
          "name": "stdout"
        }
      ]
    },
    {
      "cell_type": "markdown",
      "metadata": {
        "id": "sFbYt6NwUdkL"
      },
      "source": [
        "#**Operators**\r\n",
        "\r\n",
        "\r\n",
        "\r\n",
        "*   popular kinds of operators\r\n",
        "\r\n",
        "\r\n",
        "1.   numeric\r\n",
        "2.   comparison\r\n",
        "3.   logical\r\n",
        "4.   assignment\r\n",
        "5.   identity\r\n",
        "6.   membership\r\n",
        "7.   bitwise\r\n",
        "\r\n",
        "\r\n",
        "\r\n",
        "\r\n",
        "\r\n",
        "\r\n",
        "\r\n",
        "\r\n"
      ]
    },
    {
      "cell_type": "markdown",
      "metadata": {
        "id": "_XKSRdI0VM41"
      },
      "source": [
        "**Numeric Operators**\r\n",
        "\r\n",
        "\r\n",
        "\r\n",
        "*   Used with numeric data types to perform mathematical operations\r\n",
        "\r\n",
        "\r\n",
        "   *   +: addition\r\n",
        "   *   -: subtraction\r\n",
        "   *   *: multiplication\r\n",
        "   *   /: division\r\n",
        "   *   //: floor division\r\n",
        "   *   %: modulus of same thing as a remainder\r\n",
        "   *   **: raising to power\r\n",
        "   *   abs(): absolute value f a number\r\n",
        "   *   round(): rounds a number\r\n",
        "   *   bin(): get binary version of a number\r\n",
        "   *   hex(): get hexadecimal version of a number\r\n",
        "\r\n",
        "\r\n",
        "\r\n",
        "\r\n",
        "\r\n"
      ]
    },
    {
      "cell_type": "code",
      "metadata": {
        "id": "kxG4MHpP0QVe"
      },
      "source": [
        "# set x, y and z to start exploring the operators\r\n",
        "x = 5\r\n",
        "y = 2.1\r\n",
        "z = -13"
      ],
      "execution_count": 21,
      "outputs": []
    },
    {
      "cell_type": "code",
      "metadata": {
        "colab": {
          "base_uri": "https://localhost:8080/"
        },
        "id": "uxo7rvq70stj",
        "outputId": "d421501e-3aae-4ffb-b98a-8114cb25f5e4"
      },
      "source": [
        "print(x + y)"
      ],
      "execution_count": 22,
      "outputs": [
        {
          "output_type": "stream",
          "text": [
            "7.1\n"
          ],
          "name": "stdout"
        }
      ]
    },
    {
      "cell_type": "code",
      "metadata": {
        "colab": {
          "base_uri": "https://localhost:8080/"
        },
        "id": "42i6UkpI0uWo",
        "outputId": "37604fb1-a7aa-44df-ce6f-27aa709ac70f"
      },
      "source": [
        "print(x - y)"
      ],
      "execution_count": 23,
      "outputs": [
        {
          "output_type": "stream",
          "text": [
            "2.9\n"
          ],
          "name": "stdout"
        }
      ]
    },
    {
      "cell_type": "code",
      "metadata": {
        "colab": {
          "base_uri": "https://localhost:8080/"
        },
        "id": "F7W2huRa0uRZ",
        "outputId": "6560b8fb-5eec-40b7-c656-57348faf8e82"
      },
      "source": [
        "print(x * y)"
      ],
      "execution_count": 24,
      "outputs": [
        {
          "output_type": "stream",
          "text": [
            "10.5\n"
          ],
          "name": "stdout"
        }
      ]
    },
    {
      "cell_type": "code",
      "metadata": {
        "colab": {
          "base_uri": "https://localhost:8080/"
        },
        "id": "i7gIiKiM0tpA",
        "outputId": "94581b99-f45e-4b95-f5c3-a832decaf18b"
      },
      "source": [
        "print(x / y)"
      ],
      "execution_count": 25,
      "outputs": [
        {
          "output_type": "stream",
          "text": [
            "2.380952380952381\n"
          ],
          "name": "stdout"
        }
      ]
    },
    {
      "cell_type": "code",
      "metadata": {
        "colab": {
          "base_uri": "https://localhost:8080/"
        },
        "id": "1DC3szil030K",
        "outputId": "390a1e85-0b72-4612-cbf5-622782c72610"
      },
      "source": [
        "print(x // y)"
      ],
      "execution_count": 26,
      "outputs": [
        {
          "output_type": "stream",
          "text": [
            "2.0\n"
          ],
          "name": "stdout"
        }
      ]
    },
    {
      "cell_type": "code",
      "metadata": {
        "colab": {
          "base_uri": "https://localhost:8080/"
        },
        "id": "C6ZMo10G03xu",
        "outputId": "659c8bc1-1257-4ac0-e188-fcbf2518f3e6"
      },
      "source": [
        "print(x % y)"
      ],
      "execution_count": 27,
      "outputs": [
        {
          "output_type": "stream",
          "text": [
            "0.7999999999999998\n"
          ],
          "name": "stdout"
        }
      ]
    },
    {
      "cell_type": "code",
      "metadata": {
        "colab": {
          "base_uri": "https://localhost:8080/"
        },
        "id": "MOa6VkSc03u8",
        "outputId": "09158b93-2823-4fd2-9eeb-1533cfe11afb"
      },
      "source": [
        "print(abs(z))"
      ],
      "execution_count": 28,
      "outputs": [
        {
          "output_type": "stream",
          "text": [
            "13\n"
          ],
          "name": "stdout"
        }
      ]
    },
    {
      "cell_type": "code",
      "metadata": {
        "colab": {
          "base_uri": "https://localhost:8080/"
        },
        "id": "UZjykn4C03sc",
        "outputId": "6f4bac7e-6963-4a27-9d64-e5f9be87fcaa"
      },
      "source": [
        "print(x ** y)"
      ],
      "execution_count": 29,
      "outputs": [
        {
          "output_type": "stream",
          "text": [
            "29.36547357720048\n"
          ],
          "name": "stdout"
        }
      ]
    },
    {
      "cell_type": "code",
      "metadata": {
        "colab": {
          "base_uri": "https://localhost:8080/"
        },
        "id": "aOWt43KY03ps",
        "outputId": "a7b0fc34-a8b0-4c01-d3a1-4f11d027d6dd"
      },
      "source": [
        "print(round(y))"
      ],
      "execution_count": 30,
      "outputs": [
        {
          "output_type": "stream",
          "text": [
            "2\n"
          ],
          "name": "stdout"
        }
      ]
    },
    {
      "cell_type": "code",
      "metadata": {
        "colab": {
          "base_uri": "https://localhost:8080/"
        },
        "id": "2ofq8Nrk03nI",
        "outputId": "9c132815-28e3-495c-dfeb-f1e107f39c42"
      },
      "source": [
        "print(round(3.7))"
      ],
      "execution_count": 31,
      "outputs": [
        {
          "output_type": "stream",
          "text": [
            "4\n"
          ],
          "name": "stdout"
        }
      ]
    },
    {
      "cell_type": "code",
      "metadata": {
        "colab": {
          "base_uri": "https://localhost:8080/"
        },
        "id": "pL4qsf_u1eT4",
        "outputId": "77fcb9d1-2d61-40d3-e666-a475d27261a7"
      },
      "source": [
        "print(bin(37))"
      ],
      "execution_count": 32,
      "outputs": [
        {
          "output_type": "stream",
          "text": [
            "0b100101\n"
          ],
          "name": "stdout"
        }
      ]
    },
    {
      "cell_type": "code",
      "metadata": {
        "colab": {
          "base_uri": "https://localhost:8080/"
        },
        "id": "MLvIzMpr1inQ",
        "outputId": "82f31f1b-fd5e-44a5-c074-df645944706d"
      },
      "source": [
        "print(hex(37))"
      ],
      "execution_count": 34,
      "outputs": [
        {
          "output_type": "stream",
          "text": [
            "0x25\n"
          ],
          "name": "stdout"
        }
      ]
    },
    {
      "cell_type": "code",
      "metadata": {
        "colab": {
          "base_uri": "https://localhost:8080/"
        },
        "id": "kPGCDgiA16K5",
        "outputId": "5e9803b4-239e-4839-85d2-e2a2d3421228"
      },
      "source": [
        "help(hex)"
      ],
      "execution_count": 35,
      "outputs": [
        {
          "output_type": "stream",
          "text": [
            "Help on built-in function hex in module builtins:\n",
            "\n",
            "hex(number, /)\n",
            "    Return the hexadecimal representation of an integer.\n",
            "    \n",
            "    >>> hex(12648430)\n",
            "    '0xc0ffee'\n",
            "\n"
          ],
          "name": "stdout"
        }
      ]
    },
    {
      "cell_type": "markdown",
      "metadata": {
        "id": "BaUxYLCZynuz"
      },
      "source": [
        "**Comparison Operators**\r\n",
        "\r\n",
        "* used to compare two values\r\n",
        " * `< is less than`\r\n",
        " * `> is greater than`\r\n",
        " * `<= is less than or eqaul to`\r\n",
        " * `>= is greater than or equal to`\r\n",
        " * `== is equal to`\r\n",
        " * `!= is inequality`\r\n",
        "\r\n"
      ]
    },
    {
      "cell_type": "code",
      "metadata": {
        "colab": {
          "base_uri": "https://localhost:8080/"
        },
        "id": "aFG_Sty3W6tj",
        "outputId": "02ffd0e8-f433-4adc-e3f7-a4b5adf0a120"
      },
      "source": [
        "# greater than\r\n",
        "i = 3\r\n",
        "j = 7\r\n",
        "\r\n",
        "print(i>j)"
      ],
      "execution_count": 36,
      "outputs": [
        {
          "output_type": "stream",
          "text": [
            "False\n"
          ],
          "name": "stdout"
        }
      ]
    },
    {
      "cell_type": "code",
      "metadata": {
        "colab": {
          "base_uri": "https://localhost:8080/"
        },
        "id": "g3Tu2rDSX6wE",
        "outputId": "7993ef7d-b422-4826-865b-5ccf13520e66"
      },
      "source": [
        "# greater than or equal to\r\n",
        "print(i>=j)"
      ],
      "execution_count": 37,
      "outputs": [
        {
          "output_type": "stream",
          "text": [
            "False\n"
          ],
          "name": "stdout"
        }
      ]
    },
    {
      "cell_type": "code",
      "metadata": {
        "colab": {
          "base_uri": "https://localhost:8080/"
        },
        "id": "92Ek3BiGYApp",
        "outputId": "fa249c9e-3608-4902-ede1-2b8802e6bdcd"
      },
      "source": [
        "# less than\r\n",
        "print(i<j)"
      ],
      "execution_count": 38,
      "outputs": [
        {
          "output_type": "stream",
          "text": [
            "True\n"
          ],
          "name": "stdout"
        }
      ]
    },
    {
      "cell_type": "code",
      "metadata": {
        "colab": {
          "base_uri": "https://localhost:8080/"
        },
        "id": "E7x8g46NYFXP",
        "outputId": "d03a4588-f2de-4313-890c-6469fabbd336"
      },
      "source": [
        "# less than or equal to\r\n",
        "print(i<=j)"
      ],
      "execution_count": 39,
      "outputs": [
        {
          "output_type": "stream",
          "text": [
            "True\n"
          ],
          "name": "stdout"
        }
      ]
    },
    {
      "cell_type": "code",
      "metadata": {
        "colab": {
          "base_uri": "https://localhost:8080/"
        },
        "id": "Y3wv9CKvYig_",
        "outputId": "f64b42c5-07da-40a8-873f-1e3c478d0f6f"
      },
      "source": [
        "# equality test #1\r\n",
        "print(i == j)"
      ],
      "execution_count": 40,
      "outputs": [
        {
          "output_type": "stream",
          "text": [
            "False\n"
          ],
          "name": "stdout"
        }
      ]
    },
    {
      "cell_type": "code",
      "metadata": {
        "colab": {
          "base_uri": "https://localhost:8080/"
        },
        "id": "-__I6SpTYtkf",
        "outputId": "b7ae5b11-7651-491e-9fd5-48a34a4be6dc"
      },
      "source": [
        "# equality test #2\r\n",
        "i = 3\r\n",
        "j = 3\r\n",
        "\r\n",
        "print(i==j)"
      ],
      "execution_count": 41,
      "outputs": [
        {
          "output_type": "stream",
          "text": [
            "True\n"
          ],
          "name": "stdout"
        }
      ]
    },
    {
      "cell_type": "code",
      "metadata": {
        "colab": {
          "base_uri": "https://localhost:8080/"
        },
        "id": "lskf9j0XY3cO",
        "outputId": "1cc4852b-64bd-4ecb-a127-649be4ff6a26"
      },
      "source": [
        "# inequality Test #1\r\n",
        "i = 3\r\n",
        "j = 7\r\n",
        "\r\n",
        "print(i != j)"
      ],
      "execution_count": 42,
      "outputs": [
        {
          "output_type": "stream",
          "text": [
            "True\n"
          ],
          "name": "stdout"
        }
      ]
    },
    {
      "cell_type": "code",
      "metadata": {
        "colab": {
          "base_uri": "https://localhost:8080/"
        },
        "id": "P3mLMrWgZNYf",
        "outputId": "7a15bbe4-c73d-4027-c156-caf4e6e0d194"
      },
      "source": [
        "# inequality test #2\r\n",
        "i = 3\r\n",
        "j = 3\r\n",
        "\r\n",
        "print(i != j)"
      ],
      "execution_count": 43,
      "outputs": [
        {
          "output_type": "stream",
          "text": [
            "False\n"
          ],
          "name": "stdout"
        }
      ]
    },
    {
      "cell_type": "markdown",
      "metadata": {
        "id": "d7AeKDS6ZfIn"
      },
      "source": [
        "**Logic Operators**\r\n",
        "\r\n",
        "*   used to combine conditional statements\r\n",
        "  * and\r\n",
        "  * or\r\n",
        "  * not\r\n",
        "\r\n"
      ]
    },
    {
      "cell_type": "markdown",
      "metadata": {
        "id": "Hlr-JAwKyQvE"
      },
      "source": [
        "***not Operators***"
      ]
    },
    {
      "cell_type": "code",
      "metadata": {
        "colab": {
          "base_uri": "https://localhost:8080/"
        },
        "id": "7K64Q5ksZ3lo",
        "outputId": "5f65744a-e2f6-4766-f3f1-158072cb7651"
      },
      "source": [
        "# 'not' operatror\r\n",
        "\r\n",
        "a = True\r\n",
        "print(not a)"
      ],
      "execution_count": 44,
      "outputs": [
        {
          "output_type": "stream",
          "text": [
            "False\n"
          ],
          "name": "stdout"
        }
      ]
    },
    {
      "cell_type": "markdown",
      "metadata": {
        "id": "KEaiywtEbtpK"
      },
      "source": [
        "***and Operator***"
      ]
    },
    {
      "cell_type": "code",
      "metadata": {
        "colab": {
          "base_uri": "https://localhost:8080/"
        },
        "id": "YmADHHmKaB2c",
        "outputId": "3e6bee80-d073-4f67-e1b4-e3208313d319"
      },
      "source": [
        "# a and b are True\r\n",
        "a = True\r\n",
        "b = True\r\n",
        "\r\n",
        "print(a and b)"
      ],
      "execution_count": 45,
      "outputs": [
        {
          "output_type": "stream",
          "text": [
            "True\n"
          ],
          "name": "stdout"
        }
      ]
    },
    {
      "cell_type": "code",
      "metadata": {
        "colab": {
          "base_uri": "https://localhost:8080/"
        },
        "id": "t0J0XhazaWqK",
        "outputId": "0370393c-0c8c-4d57-f531-bfbc03cc76c5"
      },
      "source": [
        "# only a is True\r\n",
        "a = True\r\n",
        "b = False\r\n",
        "\r\n",
        "print( a and b)"
      ],
      "execution_count": 46,
      "outputs": [
        {
          "output_type": "stream",
          "text": [
            "False\n"
          ],
          "name": "stdout"
        }
      ]
    },
    {
      "cell_type": "code",
      "metadata": {
        "colab": {
          "base_uri": "https://localhost:8080/"
        },
        "id": "ybLYKIHUbHve",
        "outputId": "b96018a6-36c4-4122-de51-9df50b798862"
      },
      "source": [
        "# only b is true\r\n",
        "\r\n",
        "a = False\r\n",
        "b = True\r\n",
        "\r\n",
        "print(a and b)"
      ],
      "execution_count": 47,
      "outputs": [
        {
          "output_type": "stream",
          "text": [
            "False\n"
          ],
          "name": "stdout"
        }
      ]
    },
    {
      "cell_type": "code",
      "metadata": {
        "colab": {
          "base_uri": "https://localhost:8080/"
        },
        "id": "IzA4T0YIbSLl",
        "outputId": "5ba00349-f89f-4d7f-c0e3-d794d15f753a"
      },
      "source": [
        "# a and b are both false\r\n",
        "a = False\r\n",
        "b = False\r\n",
        "\r\n",
        "print(a and b)"
      ],
      "execution_count": 48,
      "outputs": [
        {
          "output_type": "stream",
          "text": [
            "False\n"
          ],
          "name": "stdout"
        }
      ]
    },
    {
      "cell_type": "markdown",
      "metadata": {
        "id": "KDkpXDjjcFR1"
      },
      "source": [
        "***or Operator***"
      ]
    },
    {
      "cell_type": "code",
      "metadata": {
        "colab": {
          "base_uri": "https://localhost:8080/"
        },
        "id": "ea9V0bT7cjk1",
        "outputId": "c6360793-919c-4a83-adbf-4d2db89f2910"
      },
      "source": [
        "## 'or' operator\r\n",
        "\r\n",
        "# a and b are true\r\n",
        "a = True\r\n",
        "b = True\r\n",
        "\r\n",
        "print(a or b)"
      ],
      "execution_count": 49,
      "outputs": [
        {
          "output_type": "stream",
          "text": [
            "True\n"
          ],
          "name": "stdout"
        }
      ]
    },
    {
      "cell_type": "code",
      "metadata": {
        "colab": {
          "base_uri": "https://localhost:8080/"
        },
        "id": "6E7mJZzivmgN",
        "outputId": "b1fef62c-2923-438a-b706-9bc39ea37247"
      },
      "source": [
        "# only a is true\r\n",
        "a = True\r\n",
        "b = False\r\n",
        "\r\n",
        "print(a or b)"
      ],
      "execution_count": 50,
      "outputs": [
        {
          "output_type": "stream",
          "text": [
            "True\n"
          ],
          "name": "stdout"
        }
      ]
    },
    {
      "cell_type": "code",
      "metadata": {
        "colab": {
          "base_uri": "https://localhost:8080/"
        },
        "id": "U7x_zx8dvyDt",
        "outputId": "9ff53920-4b6d-4455-d2c8-0d80605ac65e"
      },
      "source": [
        "# only b is true\r\n",
        "a = False\r\n",
        "b = True\r\n",
        "\r\n",
        "print(a or b)"
      ],
      "execution_count": 51,
      "outputs": [
        {
          "output_type": "stream",
          "text": [
            "True\n"
          ],
          "name": "stdout"
        }
      ]
    },
    {
      "cell_type": "code",
      "metadata": {
        "colab": {
          "base_uri": "https://localhost:8080/"
        },
        "id": "Iqg-mzGkwBwl",
        "outputId": "30e0e42e-dda3-41f6-d7b0-4f6c3c549e72"
      },
      "source": [
        "# a and b are both False\r\n",
        "a = False\r\n",
        "b = False\r\n",
        "\r\n",
        "print(a or b)"
      ],
      "execution_count": 52,
      "outputs": [
        {
          "output_type": "stream",
          "text": [
            "False\n"
          ],
          "name": "stdout"
        }
      ]
    },
    {
      "cell_type": "markdown",
      "metadata": {
        "id": "43X3IbskwWKe"
      },
      "source": [
        "**Assignment Operators**\r\n",
        "\r\n",
        "\r\n",
        "*   used to assign values to variables\r\n",
        "   * =\r\n",
        "*   following operators combine numerical operations at the same time as assignment\r\n",
        "   * +=\r\n",
        "   * -=\r\n",
        "   * *=\r\n",
        "   * /=\r\n",
        "   * //=\r\n",
        "   * %=\r\n",
        "   * **=\r\n",
        "\r\n"
      ]
    },
    {
      "cell_type": "code",
      "metadata": {
        "id": "Y-TGFLDFyEB0",
        "colab": {
          "base_uri": "https://localhost:8080/"
        },
        "outputId": "ab923c4b-51c1-4dd4-e882-89c237b1852c"
      },
      "source": [
        "x = 21\r\n",
        "print(x)"
      ],
      "execution_count": 53,
      "outputs": [
        {
          "output_type": "stream",
          "text": [
            "21\n"
          ],
          "name": "stdout"
        }
      ]
    },
    {
      "cell_type": "code",
      "metadata": {
        "colab": {
          "base_uri": "https://localhost:8080/"
        },
        "id": "Pu6f9-w-3HCO",
        "outputId": "5c3d07a6-cf7a-4eed-9d69-7276af40b6bd"
      },
      "source": [
        "x += 3\r\n",
        "print(x)"
      ],
      "execution_count": 54,
      "outputs": [
        {
          "output_type": "stream",
          "text": [
            "24\n"
          ],
          "name": "stdout"
        }
      ]
    },
    {
      "cell_type": "code",
      "metadata": {
        "colab": {
          "base_uri": "https://localhost:8080/"
        },
        "id": "EbyMTlWA3G_g",
        "outputId": "5146c9d4-f5f3-46a8-a2fc-c960ff3be250"
      },
      "source": [
        "x -= 3\r\n",
        "print(x)"
      ],
      "execution_count": 55,
      "outputs": [
        {
          "output_type": "stream",
          "text": [
            "21\n"
          ],
          "name": "stdout"
        }
      ]
    },
    {
      "cell_type": "code",
      "metadata": {
        "colab": {
          "base_uri": "https://localhost:8080/"
        },
        "id": "XEQJ3bJG3G9D",
        "outputId": "e33c5ea9-9b2c-4af5-d57e-807beed33466"
      },
      "source": [
        "x *= 3\r\n",
        "print(x)"
      ],
      "execution_count": 56,
      "outputs": [
        {
          "output_type": "stream",
          "text": [
            "63\n"
          ],
          "name": "stdout"
        }
      ]
    },
    {
      "cell_type": "code",
      "metadata": {
        "colab": {
          "base_uri": "https://localhost:8080/"
        },
        "id": "GA0O9bEB3G6m",
        "outputId": "3cbeabf2-836c-43b2-a9fe-47c5b71439dd"
      },
      "source": [
        "x /= 3\r\n",
        "print(x)"
      ],
      "execution_count": 57,
      "outputs": [
        {
          "output_type": "stream",
          "text": [
            "21.0\n"
          ],
          "name": "stdout"
        }
      ]
    },
    {
      "cell_type": "code",
      "metadata": {
        "colab": {
          "base_uri": "https://localhost:8080/"
        },
        "id": "Muu2h6Rn3GsX",
        "outputId": "ec7449eb-fb13-45e2-d4d5-89a1cecebd9f"
      },
      "source": [
        "x //= 3\r\n",
        "print(x)"
      ],
      "execution_count": 58,
      "outputs": [
        {
          "output_type": "stream",
          "text": [
            "7.0\n"
          ],
          "name": "stdout"
        }
      ]
    },
    {
      "cell_type": "code",
      "metadata": {
        "colab": {
          "base_uri": "https://localhost:8080/"
        },
        "id": "ebUxXzMz3GmT",
        "outputId": "8cce02cf-6d25-4481-9646-1436ca23fcdb"
      },
      "source": [
        "x %= 3\r\n",
        "print(x) "
      ],
      "execution_count": 59,
      "outputs": [
        {
          "output_type": "stream",
          "text": [
            "1.0\n"
          ],
          "name": "stdout"
        }
      ]
    }
  ]
}