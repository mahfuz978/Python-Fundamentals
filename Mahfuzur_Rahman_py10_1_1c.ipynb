{
  "nbformat": 4,
  "nbformat_minor": 0,
  "metadata": {
    "colab": {
      "name": "Mahfuzur_Rahman_py10_1_1c.ipynb",
      "provenance": [],
      "collapsed_sections": [],
      "authorship_tag": "ABX9TyN4yRFFl/BdFzRoyleCNN2N",
      "include_colab_link": true
    },
    "kernelspec": {
      "name": "python3",
      "display_name": "Python 3"
    }
  },
  "cells": [
    {
      "cell_type": "markdown",
      "metadata": {
        "id": "view-in-github",
        "colab_type": "text"
      },
      "source": [
        "<a href=\"https://colab.research.google.com/github/mahfuz978/TECH.I.S-Fundamentals/blob/main/Mahfuzur_Rahman_py10_1_1c.ipynb\" target=\"_parent\"><img src=\"https://colab.research.google.com/assets/colab-badge.svg\" alt=\"Open In Colab\"/></a>"
      ]
    },
    {
      "cell_type": "markdown",
      "metadata": {
        "id": "26YUrzxiwx6j"
      },
      "source": [
        "#**Type Conversions**\r\n",
        "***int to float***"
      ]
    },
    {
      "cell_type": "code",
      "metadata": {
        "id": "pgTuSXbvwiuF",
        "colab": {
          "base_uri": "https://localhost:8080/"
        },
        "outputId": "e71be067-c1b5-4d1b-d83a-e8a557ce2ddd"
      },
      "source": [
        "# convert int to float\r\n",
        "x = 3 # int\r\n",
        "print(x)\r\n",
        "print(type(x))\r\n",
        "\r\n",
        "y = float(x)\r\n",
        "print(y)\r\n",
        "print(type(y))"
      ],
      "execution_count": 1,
      "outputs": [
        {
          "output_type": "stream",
          "text": [
            "3\n",
            "<class 'int'>\n",
            "3.0\n",
            "<class 'float'>\n"
          ],
          "name": "stdout"
        }
      ]
    },
    {
      "cell_type": "markdown",
      "metadata": {
        "id": "i94TmVskiIKg"
      },
      "source": [
        "***float into int***"
      ]
    },
    {
      "cell_type": "code",
      "metadata": {
        "colab": {
          "base_uri": "https://localhost:8080/"
        },
        "id": "4u_HOiKNiGM0",
        "outputId": "a1e63ee4-5aef-46c2-a369-44521cbf1c17"
      },
      "source": [
        "# convert float to int\r\n",
        "y  = 3.142 # float\r\n",
        "print(y)\r\n",
        "print(type(y))\r\n",
        "\r\n",
        "z = int(y)\r\n",
        "print(z)\r\n",
        "print(type(z))"
      ],
      "execution_count": 2,
      "outputs": [
        {
          "output_type": "stream",
          "text": [
            "3.142\n",
            "<class 'float'>\n",
            "3\n",
            "<class 'int'>\n"
          ],
          "name": "stdout"
        }
      ]
    },
    {
      "cell_type": "markdown",
      "metadata": {
        "id": "Q7DTkVLq4dBY"
      },
      "source": [
        "***string to int***"
      ]
    },
    {
      "cell_type": "code",
      "metadata": {
        "colab": {
          "base_uri": "https://localhost:8080/"
        },
        "id": "iaIUfHZr4izi",
        "outputId": "38afbea9-67c0-4b9e-9884-5f5fb3d91e43"
      },
      "source": [
        "# convert string into int\r\n",
        "x = '50' # string\r\n",
        "print(x)\r\n",
        "print(type(x))\r\n",
        "\r\n",
        "y = int(x) # converting x to int\r\n",
        "print(y)\r\n",
        "print(type(y))"
      ],
      "execution_count": 3,
      "outputs": [
        {
          "output_type": "stream",
          "text": [
            "50\n",
            "<class 'str'>\n",
            "50\n",
            "<class 'int'>\n"
          ],
          "name": "stdout"
        }
      ]
    },
    {
      "cell_type": "markdown",
      "metadata": {
        "id": "hMOh6BN85Jau"
      },
      "source": [
        "***int to string***"
      ]
    },
    {
      "cell_type": "code",
      "metadata": {
        "colab": {
          "base_uri": "https://localhost:8080/"
        },
        "id": "JWj1YPHb5H1y",
        "outputId": "12fbb2cb-bc5a-47f0-ec63-b23398da02ce"
      },
      "source": [
        "# convert int to string\r\n",
        "x = 2020\r\n",
        "print(x)\r\n",
        "print(type(x))\r\n",
        "\r\n",
        "y = str(x)\r\n",
        "print(y)\r\n",
        "print(type(y))"
      ],
      "execution_count": 4,
      "outputs": [
        {
          "output_type": "stream",
          "text": [
            "2020\n",
            "<class 'int'>\n",
            "2020\n",
            "<class 'str'>\n"
          ],
          "name": "stdout"
        }
      ]
    },
    {
      "cell_type": "markdown",
      "metadata": {
        "id": "RYZ3AO2u5w-c"
      },
      "source": [
        "***string to float***"
      ]
    },
    {
      "cell_type": "code",
      "metadata": {
        "colab": {
          "base_uri": "https://localhost:8080/"
        },
        "id": "z1BP9ket5v7V",
        "outputId": "32417293-a496-4d25-e356-b609ff6d2589"
      },
      "source": [
        "# convert str to float\r\n",
        "x = '3.14'\r\n",
        "print(x)\r\n",
        "print(type(x))\r\n",
        "\r\n",
        "y = float(x) # converting x to float\r\n",
        "print(y)\r\n",
        "print(type(y))"
      ],
      "execution_count": 5,
      "outputs": [
        {
          "output_type": "stream",
          "text": [
            "3.14\n",
            "<class 'str'>\n",
            "3.14\n",
            "<class 'float'>\n"
          ],
          "name": "stdout"
        }
      ]
    },
    {
      "cell_type": "markdown",
      "metadata": {
        "id": "ohTryniy6oEL"
      },
      "source": [
        "***float to string***"
      ]
    },
    {
      "cell_type": "code",
      "metadata": {
        "colab": {
          "base_uri": "https://localhost:8080/"
        },
        "id": "oEhbzG9E6lGX",
        "outputId": "ea207075-ae73-442a-c519-8e77b15e48b2"
      },
      "source": [
        "# convert float to string\r\n",
        "x = 3.14\r\n",
        "print(x)\r\n",
        "print(type(x))\r\n",
        "\r\n",
        "y = str(x)\r\n",
        "print(y)\r\n",
        "print(type(y))"
      ],
      "execution_count": 6,
      "outputs": [
        {
          "output_type": "stream",
          "text": [
            "3.14\n",
            "<class 'float'>\n",
            "3.14\n",
            "<class 'str'>\n"
          ],
          "name": "stdout"
        }
      ]
    },
    {
      "cell_type": "markdown",
      "metadata": {
        "id": "ZjLRX7ZH684k"
      },
      "source": [
        "***List to tuple***"
      ]
    },
    {
      "cell_type": "code",
      "metadata": {
        "colab": {
          "base_uri": "https://localhost:8080/"
        },
        "id": "qO31MJ5W67nb",
        "outputId": "50c8980e-eacc-46a3-d913-09121487eb68"
      },
      "source": [
        "# convert list to tuple\r\n",
        "new_list = [3,7,20, '@', 'TECH I.S', 'makes learning fun!']\r\n",
        "print(new_list)\r\n",
        "print(type(new_list))\r\n",
        "\r\n",
        "new_tuple = tuple(new_list)\r\n",
        "print(new_tuple)\r\n",
        "print(type(new_tuple))"
      ],
      "execution_count": 7,
      "outputs": [
        {
          "output_type": "stream",
          "text": [
            "[3, 7, 20, '@', 'TECH I.S', 'makes learning fun!']\n",
            "<class 'list'>\n",
            "(3, 7, 20, '@', 'TECH I.S', 'makes learning fun!')\n",
            "<class 'tuple'>\n"
          ],
          "name": "stdout"
        }
      ]
    },
    {
      "cell_type": "markdown",
      "metadata": {
        "id": "2X_0zsdi8fm7"
      },
      "source": [
        "***tuple to list***"
      ]
    },
    {
      "cell_type": "code",
      "metadata": {
        "colab": {
          "base_uri": "https://localhost:8080/"
        },
        "id": "xHDQ_ctj8WVP",
        "outputId": "07b2af86-aa6a-418f-e17c-10dbf23e462d"
      },
      "source": [
        "# convert tuple to list\r\n",
        "new_tuple = 4,1,45,92,31,60,84\r\n",
        "print(new_tuple)\r\n",
        "print(type(new_tuple))\r\n",
        "\r\n",
        "new_list = list(new_tuple) # converting new_tuple to new_list\r\n",
        "print(new_list)\r\n",
        "print(type(new_list))"
      ],
      "execution_count": 8,
      "outputs": [
        {
          "output_type": "stream",
          "text": [
            "(4, 1, 45, 92, 31, 60, 84)\n",
            "<class 'tuple'>\n",
            "[4, 1, 45, 92, 31, 60, 84]\n",
            "<class 'list'>\n"
          ],
          "name": "stdout"
        }
      ]
    },
    {
      "cell_type": "markdown",
      "metadata": {
        "id": "W-g0tsnd9cnx"
      },
      "source": [
        "***List to set***"
      ]
    },
    {
      "cell_type": "code",
      "metadata": {
        "colab": {
          "base_uri": "https://localhost:8080/"
        },
        "id": "f2FpPj8m9ZPS",
        "outputId": "12e639e5-4dd8-471f-af0c-3e949ef5aa34"
      },
      "source": [
        "# define list\r\n",
        "new_list = ['olivia', 'kaseem', 'caleb', 'olivia', 'owen', 'olivia']\r\n",
        "print(new_list)\r\n",
        "print(type(new_list))\r\n",
        "\r\n",
        "# convert to set\r\n",
        "new_set = set(new_list) # extracts only the unique values\r\n",
        "print(new_set)\r\n",
        "print(type(new_set))"
      ],
      "execution_count": 9,
      "outputs": [
        {
          "output_type": "stream",
          "text": [
            "['olivia', 'kaseem', 'caleb', 'olivia', 'owen', 'olivia']\n",
            "<class 'list'>\n",
            "{'kaseem', 'caleb', 'owen', 'olivia'}\n",
            "<class 'set'>\n"
          ],
          "name": "stdout"
        }
      ]
    },
    {
      "cell_type": "markdown",
      "metadata": {
        "id": "pFBUkaxw-XvW"
      },
      "source": [
        "***set to list***"
      ]
    },
    {
      "cell_type": "code",
      "metadata": {
        "colab": {
          "base_uri": "https://localhost:8080/"
        },
        "id": "QqDcwCtj-S9G",
        "outputId": "fdebba21-3aa4-44cb-becc-b7ddbef065b3"
      },
      "source": [
        "# define a set\r\n",
        "new_set = {'kaseem', 'olivia', 'caleb', 'owen'}\r\n",
        "print(new_set)\r\n",
        "print(type(new_set))\r\n",
        "\r\n",
        "# convert this set to a list\r\n",
        "new_list = list(new_set)\r\n",
        "print(new_list)\r\n",
        "print(type(new_list))"
      ],
      "execution_count": 10,
      "outputs": [
        {
          "output_type": "stream",
          "text": [
            "{'kaseem', 'caleb', 'owen', 'olivia'}\n",
            "<class 'set'>\n",
            "['kaseem', 'caleb', 'owen', 'olivia']\n",
            "<class 'list'>\n"
          ],
          "name": "stdout"
        }
      ]
    },
    {
      "cell_type": "markdown",
      "metadata": {
        "id": "Ga0vdOWp_b1f"
      },
      "source": [
        "#**Flow Control**\r\n",
        "**if... elif... else...**\r\n",
        "* if, elif and else keywords are used to make decisions\r\n",
        " * executes different blocks of code based on certain conditions\r\n",
        "* comparison operators and logical operators can be used to specify these conditions"
      ]
    },
    {
      "cell_type": "code",
      "metadata": {
        "colab": {
          "base_uri": "https://localhost:8080/"
        },
        "id": "9NNbbRzA_ZLK",
        "outputId": "b5f6f4cd-9ab3-4d2d-a3a8-3b22bba5aa87"
      },
      "source": [
        "# 'if' conditional\r\n",
        "x = 5\r\n",
        "y = 5\r\n",
        "\r\n",
        "if x == y:\r\n",
        "  print('x and y are equal')"
      ],
      "execution_count": 11,
      "outputs": [
        {
          "output_type": "stream",
          "text": [
            "x and y are equal\n"
          ],
          "name": "stdout"
        }
      ]
    },
    {
      "cell_type": "code",
      "metadata": {
        "id": "6-vq0yhpBF76"
      },
      "source": [
        "# 'if' conditional\r\n",
        "x = 5\r\n",
        "y = 6\r\n",
        "\r\n",
        "if x == y:\r\n",
        "  print('x and y are equal')\r\n",
        "# no output because x and y are not equal"
      ],
      "execution_count": 12,
      "outputs": []
    },
    {
      "cell_type": "code",
      "metadata": {
        "colab": {
          "base_uri": "https://localhost:8080/"
        },
        "id": "PbFl7r-EBSfw",
        "outputId": "e2433e23-a50b-458a-dda2-7f29ada3b18d"
      },
      "source": [
        "# 'if...else...' conditional\r\n",
        "x = 5\r\n",
        "y = 6\r\n",
        "\r\n",
        "if x == y:\r\n",
        "  print('x and y are equal')\r\n",
        "else:\r\n",
        "  print('x and y are not equal')"
      ],
      "execution_count": 13,
      "outputs": [
        {
          "output_type": "stream",
          "text": [
            "x and y are not equal\n"
          ],
          "name": "stdout"
        }
      ]
    },
    {
      "cell_type": "code",
      "metadata": {
        "colab": {
          "base_uri": "https://localhost:8080/"
        },
        "id": "WCRE98ASBq89",
        "outputId": "ea162fc9-af1c-4351-9232-6217ef7b4a43"
      },
      "source": [
        "# 'if...elif...else...' conditional\r\n",
        "x = 6\r\n",
        "y = 3\r\n",
        "\r\n",
        "if x == y:\r\n",
        "  print('x and y are equal')\r\n",
        "elif x < y:\r\n",
        "  print('x is smaller')\r\n",
        "else:\r\n",
        "  print('y is smaller')"
      ],
      "execution_count": 14,
      "outputs": [
        {
          "output_type": "stream",
          "text": [
            "y is smaller\n"
          ],
          "name": "stdout"
        }
      ]
    },
    {
      "cell_type": "markdown",
      "metadata": {
        "id": "58LmYm-ECUDF"
      },
      "source": [
        "**single line if...else...**\r\n",
        "* use if and else in a single line as shown below"
      ]
    },
    {
      "cell_type": "code",
      "metadata": {
        "colab": {
          "base_uri": "https://localhost:8080/"
        },
        "id": "9bT_wFODCL4r",
        "outputId": "1625ffba-ab6d-4c43-feb5-c38ecc16cc7d"
      },
      "source": [
        "is_single = True\r\n",
        "message = 'You can date.' if is_single else 'You cannot date.'\r\n",
        "print(message)"
      ],
      "execution_count": 15,
      "outputs": [
        {
          "output_type": "stream",
          "text": [
            "You can date.\n"
          ],
          "name": "stdout"
        }
      ]
    },
    {
      "cell_type": "markdown",
      "metadata": {
        "id": "uUFK254vDcOK"
      },
      "source": [
        "**\"=\" vs. \"==\"**\r\n",
        "* = is an assignment operator\r\n",
        " * is used to set values to variables\r\n",
        "* == is a comparison operator\r\n",
        " * is used to compare the equality of two objects/variables\r\n",
        "* if == is used instead of = for comparison in if statement, for instance, then a syntax error is thrown"
      ]
    },
    {
      "cell_type": "code",
      "metadata": {
        "colab": {
          "base_uri": "https://localhost:8080/"
        },
        "id": "-i2J2lTmDZFK",
        "outputId": "26c3f0ec-507a-47ce-c4ae-5926ec8f354f"
      },
      "source": [
        "# get user input for variables 'x' and 'y'\r\n",
        "x = float(input('Enter a number for x: '))# '=' is an assignment operator\r\n",
        "y = float(input('Enter a number for y: '))# '=' is an assignment operator\r\n",
        "\r\n",
        "# compare values of x and y\r\n",
        "if x == y: # '==' is a comparison operator\r\n",
        "  print('x and y are equal') # if the equality test passed\r\n",
        "  if y != 0:\r\n",
        "    print('therefore x/y is ', x/y)\r\n",
        "elif x < y:\r\n",
        "  print('x is smaller') # if x is less than y\r\n",
        "else:\r\n",
        "  print('y is smaller') # if y is less than x\r\n",
        "\r\n",
        "print('thanks')"
      ],
      "execution_count": 16,
      "outputs": [
        {
          "output_type": "stream",
          "text": [
            "Enter a number for x: 4\n",
            "Enter a number for y: 6\n",
            "x is smaller\n",
            "thanks\n"
          ],
          "name": "stdout"
        }
      ]
    },
    {
      "cell_type": "markdown",
      "metadata": {
        "id": "O9D75OxoGN8F"
      },
      "source": [
        "**\"while\" loops**\r\n",
        "* the while loop executes a block of code as long as condition is true"
      ]
    },
    {
      "cell_type": "code",
      "metadata": {
        "colab": {
          "base_uri": "https://localhost:8080/"
        },
        "id": "J8W-oTYCGH1r",
        "outputId": "e424721b-2962-4244-a7a3-4651cdfffee4"
      },
      "source": [
        "# while loop example #1 \r\n",
        "n = 0\r\n",
        "while n < 5:\r\n",
        "  print(n)\r\n",
        "  n += 1 "
      ],
      "execution_count": 17,
      "outputs": [
        {
          "output_type": "stream",
          "text": [
            "0\n",
            "1\n",
            "2\n",
            "3\n",
            "4\n"
          ],
          "name": "stdout"
        }
      ]
    },
    {
      "cell_type": "markdown",
      "metadata": {
        "id": "5q3juqwtMiCR"
      },
      "source": [
        "***`\"While\" loop with \"else\" statement`***\r\n",
        "* else can be added at the end of a while loop\r\n",
        "* to run a piece of code when the while condition is no longer true"
      ]
    },
    {
      "cell_type": "code",
      "metadata": {
        "colab": {
          "base_uri": "https://localhost:8080/"
        },
        "id": "z8xObTMvL6G1",
        "outputId": "34ed1825-7b89-44da-aa16-57ec4ec86010"
      },
      "source": [
        "# while loop example # 2 \r\n",
        "n = 0\r\n",
        "while n < 5:\r\n",
        "  print(n)\r\n",
        "  n += 1\r\n",
        "else:\r\n",
        "  print('n is not less than 5 anymore')"
      ],
      "execution_count": 18,
      "outputs": [
        {
          "output_type": "stream",
          "text": [
            "0\n",
            "1\n",
            "2\n",
            "3\n",
            "4\n",
            "n is not less than 5 anymore\n"
          ],
          "name": "stdout"
        }
      ]
    },
    {
      "cell_type": "markdown",
      "metadata": {
        "id": "F9pha6lgO3fG"
      },
      "source": [
        "**\"for\" Loops**\r\n",
        "* for keyword is used along with in memebership query keyword to loop over strings, lists, tuple, and dictionaries"
      ]
    },
    {
      "cell_type": "markdown",
      "metadata": {
        "id": "V4XR03UBQCb5"
      },
      "source": [
        "***`for... in range()`***\r\n",
        "\r\n",
        "* for can be used with in and range() to generate numbers"
      ]
    },
    {
      "cell_type": "code",
      "metadata": {
        "colab": {
          "base_uri": "https://localhost:8080/"
        },
        "id": "mJkQxZzDOfYb",
        "outputId": "a8a22e6f-e9a8-49f9-f24f-5e26c3bae886"
      },
      "source": [
        "for n in range(5):\r\n",
        "  print(n)"
      ],
      "execution_count": 19,
      "outputs": [
        {
          "output_type": "stream",
          "text": [
            "0\n",
            "1\n",
            "2\n",
            "3\n",
            "4\n"
          ],
          "name": "stdout"
        }
      ]
    },
    {
      "cell_type": "code",
      "metadata": {
        "colab": {
          "base_uri": "https://localhost:8080/"
        },
        "id": "6t-9K6dkRPBj",
        "outputId": "698cef5a-938d-4f76-c3be-4051254e8ee0"
      },
      "source": [
        "for n in range(2,6):\r\n",
        "  print(n)"
      ],
      "execution_count": 20,
      "outputs": [
        {
          "output_type": "stream",
          "text": [
            "2\n",
            "3\n",
            "4\n",
            "5\n"
          ],
          "name": "stdout"
        }
      ]
    },
    {
      "cell_type": "code",
      "metadata": {
        "colab": {
          "base_uri": "https://localhost:8080/"
        },
        "id": "lSERsiV8WT4a",
        "outputId": "7226b382-756f-4849-e496-f33b3581117c"
      },
      "source": [
        "for x in range(2, 30 , 3):\r\n",
        "  print(x)"
      ],
      "execution_count": 21,
      "outputs": [
        {
          "output_type": "stream",
          "text": [
            "2\n",
            "5\n",
            "8\n",
            "11\n",
            "14\n",
            "17\n",
            "20\n",
            "23\n",
            "26\n",
            "29\n"
          ],
          "name": "stdout"
        }
      ]
    },
    {
      "cell_type": "markdown",
      "metadata": {
        "id": "gX8F4FNDWws0"
      },
      "source": [
        "***`\"for\" loops with strings`***\r\n",
        "* for loops can be used to loop over strings"
      ]
    },
    {
      "cell_type": "code",
      "metadata": {
        "colab": {
          "base_uri": "https://localhost:8080/"
        },
        "id": "yQmUGpNQWoGR",
        "outputId": "7e7fa366-d41f-41aa-dd91-ef8a99005e34"
      },
      "source": [
        "text = \"TECH I.S.\"\r\n",
        "for letter in text:\r\n",
        "  print(letter)"
      ],
      "execution_count": 22,
      "outputs": [
        {
          "output_type": "stream",
          "text": [
            "T\n",
            "E\n",
            "C\n",
            "H\n",
            " \n",
            "I\n",
            ".\n",
            "S\n",
            ".\n"
          ],
          "name": "stdout"
        }
      ]
    },
    {
      "cell_type": "markdown",
      "metadata": {
        "id": "IlSm6MsYXiSD"
      },
      "source": [
        "\r\n",
        "***`\"for\" loop can be used with data types like lists, tuples, sets and dictionaries`***"
      ]
    },
    {
      "cell_type": "code",
      "metadata": {
        "colab": {
          "base_uri": "https://localhost:8080/"
        },
        "id": "KOl7B3MDXa5-",
        "outputId": "a5791749-491e-4e52-9d78-2ecceaaba052"
      },
      "source": [
        "# define a list\r\n",
        "fruits_list = ['apple', 'banana', 'cherry']\r\n",
        "\r\n",
        "# run a for loop to print the elements of the list\r\n",
        "for fruit in fruits_list:\r\n",
        "  print(fruit)"
      ],
      "execution_count": 23,
      "outputs": [
        {
          "output_type": "stream",
          "text": [
            "apple\n",
            "banana\n",
            "cherry\n"
          ],
          "name": "stdout"
        }
      ]
    },
    {
      "cell_type": "code",
      "metadata": {
        "colab": {
          "base_uri": "https://localhost:8080/"
        },
        "id": "IkX3pyXvYjg4",
        "outputId": "ff4245ab-3a84-4609-9d97-589d80079adb"
      },
      "source": [
        "# define a tuple\r\n",
        "animals_list = 'dog', 'cat', 'elephant', 'otter'\r\n",
        "\r\n",
        "# run a for loop to print the elements of the tuple\r\n",
        "for animal in animals_list:\r\n",
        "  print(animal)"
      ],
      "execution_count": 24,
      "outputs": [
        {
          "output_type": "stream",
          "text": [
            "dog\n",
            "cat\n",
            "elephant\n",
            "otter\n"
          ],
          "name": "stdout"
        }
      ]
    },
    {
      "cell_type": "code",
      "metadata": {
        "colab": {
          "base_uri": "https://localhost:8080/"
        },
        "id": "Alv8Txz-Y4xE",
        "outputId": "407d8402-686a-4c00-8881-d1ea0865636e"
      },
      "source": [
        "# define a set\r\n",
        "names = {'oilivia', 'caleb', 'kaseem'}\r\n",
        "\r\n",
        "# loop over the set with for\r\n",
        "for name in names:\r\n",
        "  print(name)"
      ],
      "execution_count": 25,
      "outputs": [
        {
          "output_type": "stream",
          "text": [
            "kaseem\n",
            "caleb\n",
            "oilivia\n"
          ],
          "name": "stdout"
        }
      ]
    },
    {
      "cell_type": "code",
      "metadata": {
        "colab": {
          "base_uri": "https://localhost:8080/"
        },
        "id": "0NuKEcdpZR0v",
        "outputId": "c8ea7af4-f5b5-463c-9e3b-1c36fbcc3522"
      },
      "source": [
        "# define a dictionary\r\n",
        "translations = {'a':1, 'b':2, 'c': 3}\r\n",
        "\r\n",
        "# loop over the dictionary\r\n",
        "\r\n",
        "# keys:\r\n",
        "for entry in translations:\r\n",
        "  print(entry)\r\n",
        "\r\n",
        "# values\r\n",
        "for entry in translations.values():\r\n",
        "  print(entry)"
      ],
      "execution_count": 26,
      "outputs": [
        {
          "output_type": "stream",
          "text": [
            "a\n",
            "b\n",
            "c\n",
            "1\n",
            "2\n",
            "3\n"
          ],
          "name": "stdout"
        }
      ]
    },
    {
      "cell_type": "markdown",
      "metadata": {
        "id": "KEalfpcHZ6Jj"
      },
      "source": [
        "***List comprehension***\r\n",
        "* for loops can be written in a single line in python\r\n",
        " * using list comprehension"
      ]
    },
    {
      "cell_type": "code",
      "metadata": {
        "colab": {
          "base_uri": "https://localhost:8080/"
        },
        "id": "KO88FyziZxCS",
        "outputId": "0cb4371b-b3af-4f32-a5b6-c752fd99a658"
      },
      "source": [
        "# create a new list of powers of 0 to 9\r\n",
        "powers = [num**2 for num in range(10)] # a for loop defined with list comprehension\r\n",
        "\r\n",
        "print(powers)"
      ],
      "execution_count": 27,
      "outputs": [
        {
          "output_type": "stream",
          "text": [
            "[0, 1, 4, 9, 16, 25, 36, 49, 64, 81]\n"
          ],
          "name": "stdout"
        }
      ]
    },
    {
      "cell_type": "markdown",
      "metadata": {
        "id": "nUG4hJWOaoth"
      },
      "source": [
        "***generator object***\r\n",
        "* is not explicitly executed at creation\r\n",
        "* the formula (expression) for creating values is stored inside the generator\r\n",
        "* the values are accessed with the next function"
      ]
    },
    {
      "cell_type": "code",
      "metadata": {
        "colab": {
          "base_uri": "https://localhost:8080/"
        },
        "id": "pAnnvPTRaj-S",
        "outputId": "04f5410d-f5ab-4fda-ac26-1c3dc52ffdbf"
      },
      "source": [
        "# create a generator object with powers of 0 to 9\r\n",
        "powers = (num**2 for num in range(10))\r\n",
        "print(powers)\r\n",
        "\r\n",
        "next(powers) # call trhe first value in the generator"
      ],
      "execution_count": 28,
      "outputs": [
        {
          "output_type": "stream",
          "text": [
            "<generator object <genexpr> at 0x7f79ec3caca8>\n"
          ],
          "name": "stdout"
        },
        {
          "output_type": "execute_result",
          "data": {
            "text/plain": [
              "0"
            ]
          },
          "metadata": {
            "tags": []
          },
          "execution_count": 28
        }
      ]
    },
    {
      "cell_type": "code",
      "metadata": {
        "colab": {
          "base_uri": "https://localhost:8080/"
        },
        "id": "wX8G-UQ6bmEw",
        "outputId": "999b0c0d-6fab-43fd-ba76-e238fb53aa83"
      },
      "source": [
        "next(powers)"
      ],
      "execution_count": 29,
      "outputs": [
        {
          "output_type": "execute_result",
          "data": {
            "text/plain": [
              "1"
            ]
          },
          "metadata": {
            "tags": []
          },
          "execution_count": 29
        }
      ]
    },
    {
      "cell_type": "code",
      "metadata": {
        "colab": {
          "base_uri": "https://localhost:8080/"
        },
        "id": "3Ru8furGbr_z",
        "outputId": "c3e65f5b-12eb-4535-bd8f-0f69a49819ba"
      },
      "source": [
        "next(powers)"
      ],
      "execution_count": 30,
      "outputs": [
        {
          "output_type": "execute_result",
          "data": {
            "text/plain": [
              "4"
            ]
          },
          "metadata": {
            "tags": []
          },
          "execution_count": 30
        }
      ]
    },
    {
      "cell_type": "code",
      "metadata": {
        "colab": {
          "base_uri": "https://localhost:8080/"
        },
        "id": "BXz9qhfAbwNo",
        "outputId": "47d86145-c3c4-419e-8e42-ec9825298339"
      },
      "source": [
        "next(powers)"
      ],
      "execution_count": 31,
      "outputs": [
        {
          "output_type": "execute_result",
          "data": {
            "text/plain": [
              "9"
            ]
          },
          "metadata": {
            "tags": []
          },
          "execution_count": 31
        }
      ]
    },
    {
      "cell_type": "code",
      "metadata": {
        "colab": {
          "base_uri": "https://localhost:8080/"
        },
        "id": "jdy33n6Obzws",
        "outputId": "a0c2d894-7b53-4e13-dfd1-e2a7c117ebf8"
      },
      "source": [
        "next(powers)"
      ],
      "execution_count": 32,
      "outputs": [
        {
          "output_type": "execute_result",
          "data": {
            "text/plain": [
              "16"
            ]
          },
          "metadata": {
            "tags": []
          },
          "execution_count": 32
        }
      ]
    },
    {
      "cell_type": "markdown",
      "metadata": {
        "id": "2Kc4FI5hb_uM"
      },
      "source": [
        "***`nested \"for\" loops`***\r\n",
        "* for loops can be nested to achieve looping over multiple lists"
      ]
    },
    {
      "cell_type": "code",
      "metadata": {
        "colab": {
          "base_uri": "https://localhost:8080/"
        },
        "id": "05eGmg8Bb4XR",
        "outputId": "ab269afc-3679-42a9-8c53-c87d0105ab4a"
      },
      "source": [
        "adjectives = ['juicy', 'big', 'tasty'] # list 1\r\n",
        "fruits = ['apple', 'bananas', 'oranges'] # list 2\r\n",
        "\r\n",
        "for fruit in fruits:\r\n",
        "  for adjective in adjectives:\r\n",
        "    print(adjective, fruit)"
      ],
      "execution_count": 33,
      "outputs": [
        {
          "output_type": "stream",
          "text": [
            "juicy apple\n",
            "big apple\n",
            "tasty apple\n",
            "juicy bananas\n",
            "big bananas\n",
            "tasty bananas\n",
            "juicy oranges\n",
            "big oranges\n",
            "tasty oranges\n"
          ],
          "name": "stdout"
        }
      ]
    },
    {
      "cell_type": "markdown",
      "metadata": {
        "id": "mG8UuK7Fc_Gd"
      },
      "source": [
        "***`\"Break\" statement`***\r\n",
        "* stops a while loop even if the while condition is true"
      ]
    },
    {
      "cell_type": "code",
      "metadata": {
        "colab": {
          "base_uri": "https://localhost:8080/"
        },
        "id": "J-hIjsX3c5Lt",
        "outputId": "973c9545-fbcc-4c76-cc1d-1e61efc9835b"
      },
      "source": [
        "n = 0\r\n",
        "while n < 6:\r\n",
        "  print(n)\r\n",
        "  if n == 3:\r\n",
        "    break # break loop when it is equal to 3\r\n",
        "  n += 1"
      ],
      "execution_count": 34,
      "outputs": [
        {
          "output_type": "stream",
          "text": [
            "0\n",
            "1\n",
            "2\n",
            "3\n"
          ],
          "name": "stdout"
        }
      ]
    },
    {
      "cell_type": "markdown",
      "metadata": {
        "id": "TdbyhJ8sdpGa"
      },
      "source": [
        "* stops a for loop before it has looped through all the items"
      ]
    },
    {
      "cell_type": "code",
      "metadata": {
        "id": "lAeJislodgE8",
        "colab": {
          "base_uri": "https://localhost:8080/"
        },
        "outputId": "9b40d5a0-8ca8-4747-fe11-899dbd59d366"
      },
      "source": [
        "fruits = ['apple', 'banana', 'cherry']\r\n",
        "for fruit in fruits:\r\n",
        "  print(fruit)\r\n",
        "  if fruit == 'banana':\r\n",
        "    break # break loop after printing banana"
      ],
      "execution_count": 35,
      "outputs": [
        {
          "output_type": "stream",
          "text": [
            "apple\n",
            "banana\n"
          ],
          "name": "stdout"
        }
      ]
    },
    {
      "cell_type": "markdown",
      "metadata": {
        "id": "qyUFVL69fkxz"
      },
      "source": [
        "**`\"continue\" statement`**\r\n",
        "* the continue statement stops the current iteration, and continues with the next\r\n"
      ]
    },
    {
      "cell_type": "code",
      "metadata": {
        "colab": {
          "base_uri": "https://localhost:8080/"
        },
        "id": "ZJ0AssIsgBQO",
        "outputId": "fd054ffe-304a-49fb-ed88-13cf6e3cb18d"
      },
      "source": [
        "n = 0\r\n",
        "while n < 6:\r\n",
        "  n += 1\r\n",
        "  if n == 3: # skip 3\r\n",
        "    continue\r\n",
        "  print(n)"
      ],
      "execution_count": 36,
      "outputs": [
        {
          "output_type": "stream",
          "text": [
            "1\n",
            "2\n",
            "4\n",
            "5\n",
            "6\n"
          ],
          "name": "stdout"
        }
      ]
    },
    {
      "cell_type": "code",
      "metadata": {
        "colab": {
          "base_uri": "https://localhost:8080/"
        },
        "id": "Ru2tZ8RagWD4",
        "outputId": "cf840a75-17e4-49d0-9385-32f4c8bfa004"
      },
      "source": [
        "fruits = ['apple', 'banana', 'cherry']\r\n",
        "for x in fruits:\r\n",
        "  if x == 'banana': # skips banana\r\n",
        "    continue\r\n",
        "  print(x)"
      ],
      "execution_count": 37,
      "outputs": [
        {
          "output_type": "stream",
          "text": [
            "apple\n",
            "cherry\n"
          ],
          "name": "stdout"
        }
      ]
    },
    {
      "cell_type": "markdown",
      "metadata": {
        "id": "O1LYA17Qg2cX"
      },
      "source": [
        "# **Indentation**\r\n",
        "* matters in Python\r\n",
        "* blocks of codes are denoted by indentation\r\n",
        "* if ..., while and for code examples above shows how indentation works\r\n",
        " * the codes below if, elif and else are indented\r\n",
        " * the code below while is indented\r\n",
        " * the code below for is indented\r\n",
        "* nested indentations:\r\n",
        " * when while, for and if statements are nested within each other, the code has to be further indented\r\n",
        " "
      ]
    },
    {
      "cell_type": "markdown",
      "metadata": {
        "id": "qVfaCgGeh7zB"
      },
      "source": [
        "##**`\"for\" and \"while\" loops`**\r\n",
        "* choosing the right loop type makes your code more legible and can also help prevent bugs\r\n",
        "* everything that can be written with a for loop can be written with a while loop, but while loops can solve problems that for loops don't address easily\r\n",
        "* you should usually write for loops when possible; use for loops when\r\n",
        " * you know the number of iterations you need to do e.g., 500 trials,\r\n",
        " * one operation per character in a string, or\r\n",
        " * an action on every element in a list\r\n",
        "* if you can describe the problem you are trying to solve in terms of each or every element in an iterable object, aim for a for loop.\r\n",
        "* benefits of a for loop:\r\n",
        " * using a for loop when possible will decrease the rist of writing an infite loop\r\n",
        " * will generally prevent you from running into errors with incrementing counter variables "
      ]
    },
    {
      "cell_type": "markdown",
      "metadata": {
        "id": "XFakM9QCktob"
      },
      "source": [
        "##**Exception Handling**\r\n",
        "* exception handling block framework\r\n",
        "```\r\n",
        "try:\r\n",
        "...\r\n",
        "except:\r\n",
        "...\r\n",
        "finally:\r\n",
        "...\r\n",
        "```\r\n",
        "* try block:\r\n",
        " * lets you test ablock of code for errors\r\n",
        "* except block:\r\n",
        " * lets you set the respose to an error\r\n",
        "* finally block:\r\n",
        " * execute code regardless of the outcome of the try-except block"
      ]
    },
    {
      "cell_type": "markdown",
      "metadata": {
        "id": "gGqeu7cXmIut"
      },
      "source": [
        "##***Exception Handling Examples***"
      ]
    },
    {
      "cell_type": "code",
      "metadata": {
        "id": "5bezHIIdgsi6",
        "colab": {
          "base_uri": "https://localhost:8080/",
          "height": 217
        },
        "outputId": "ffa27cb0-c4c7-45b1-b9f3-811df994d528"
      },
      "source": [
        "# setup an error handling block\r\n",
        "try:\r\n",
        "  print(x_val) # without defining x_val before, we try to print the value of x_val\r\n",
        "except:\r\n",
        "  print('An exception occured')\r\n",
        "\r\n",
        "'''\r\n",
        "here, since the try block code throws an error because of x_val not being\r\n",
        "defined, the except bock is excecuted # let's try this without a try block\r\n",
        "'''\r\n",
        "print(x_val)# this raises a name error"
      ],
      "execution_count": 39,
      "outputs": [
        {
          "output_type": "stream",
          "text": [
            "An exception occured\n"
          ],
          "name": "stdout"
        },
        {
          "output_type": "error",
          "ename": "NameError",
          "evalue": "ignored",
          "traceback": [
            "\u001b[0;31m---------------------------------------------------------------------------\u001b[0m",
            "\u001b[0;31mNameError\u001b[0m                                 Traceback (most recent call last)",
            "\u001b[0;32m<ipython-input-39-09674289fd15>\u001b[0m in \u001b[0;36m<module>\u001b[0;34m()\u001b[0m\n\u001b[1;32m      9\u001b[0m \u001b[0mdefined\u001b[0m\u001b[0;34m,\u001b[0m \u001b[0mthe\u001b[0m \u001b[0;32mexcept\u001b[0m \u001b[0mbock\u001b[0m \u001b[0;32mis\u001b[0m \u001b[0mexcecuted\u001b[0m \u001b[0;31m# let's try this without a try block\u001b[0m\u001b[0;34m\u001b[0m\u001b[0;34m\u001b[0m\u001b[0m\n\u001b[1;32m     10\u001b[0m '''\n\u001b[0;32m---> 11\u001b[0;31m \u001b[0mprint\u001b[0m\u001b[0;34m(\u001b[0m\u001b[0mx_val\u001b[0m\u001b[0;34m)\u001b[0m\u001b[0;31m# this raises a name error\u001b[0m\u001b[0;34m\u001b[0m\u001b[0;34m\u001b[0m\u001b[0m\n\u001b[0m",
            "\u001b[0;31mNameError\u001b[0m: name 'x_val' is not defined"
          ]
        }
      ]
    },
    {
      "cell_type": "code",
      "metadata": {
        "colab": {
          "base_uri": "https://localhost:8080/"
        },
        "id": "RqKUrne60vKn",
        "outputId": "75fc4ee9-99e1-4913-84a2-1dae0c87b35b"
      },
      "source": [
        "# multiple exception handling\r\n",
        "try:\r\n",
        "  print(x_val)\r\n",
        "except NameError: # exceotion handling # 1\r\n",
        "  print('x_val is not defined')\r\n",
        "except:\r\n",
        "  print('something else went wrong')"
      ],
      "execution_count": 40,
      "outputs": [
        {
          "output_type": "stream",
          "text": [
            "x_val is not defined\n"
          ],
          "name": "stdout"
        }
      ]
    },
    {
      "cell_type": "code",
      "metadata": {
        "colab": {
          "base_uri": "https://localhost:8080/"
        },
        "id": "YHEGfFr71jb8",
        "outputId": "2a49aa17-8298-424e-a24c-9ba21fcc5054"
      },
      "source": [
        "# `finally` block example #1\r\n",
        "try:\r\n",
        "  print(x)\r\n",
        "except:# this excecutes if the try block has an error\r\n",
        "  print('something went wrong')\r\n",
        "finally:# this is excecuted wether an error is raised or not\r\n",
        "  print(\"The 'try except' is finished\")"
      ],
      "execution_count": 41,
      "outputs": [
        {
          "output_type": "stream",
          "text": [
            "cherry\n",
            "The 'try except' is finished\n"
          ],
          "name": "stdout"
        }
      ]
    },
    {
      "cell_type": "markdown",
      "metadata": {
        "id": "pycT0PGJ2b-4"
      },
      "source": [
        "***finally block example #2***"
      ]
    },
    {
      "cell_type": "code",
      "metadata": {
        "colab": {
          "base_uri": "https://localhost:8080/",
          "height": 217
        },
        "id": "uLYT-Pr32X0y",
        "outputId": "05a55883-2e1b-4c4e-de60-ae564ab2e2ad"
      },
      "source": [
        "try:\r\n",
        "  f = open(\"file.txt\")# open a file that exists, nut with no write permission\r\n",
        "  f.write(\"text to write\")# try to write to file\r\n",
        "except:# respond to error\r\n",
        "  print(\"Something went wrong when writing to file\")\r\n",
        "finally: # this will run regardless\r\n",
        "  f.close()"
      ],
      "execution_count": 42,
      "outputs": [
        {
          "output_type": "stream",
          "text": [
            "Something went wrong when writing to file\n"
          ],
          "name": "stdout"
        },
        {
          "output_type": "error",
          "ename": "NameError",
          "evalue": "ignored",
          "traceback": [
            "\u001b[0;31m---------------------------------------------------------------------------\u001b[0m",
            "\u001b[0;31mNameError\u001b[0m                                 Traceback (most recent call last)",
            "\u001b[0;32m<ipython-input-42-03fa3e4f9cb2>\u001b[0m in \u001b[0;36m<module>\u001b[0;34m()\u001b[0m\n\u001b[1;32m      5\u001b[0m   \u001b[0mprint\u001b[0m\u001b[0;34m(\u001b[0m\u001b[0;34m\"Something went wrong when writing to file\"\u001b[0m\u001b[0;34m)\u001b[0m\u001b[0;34m\u001b[0m\u001b[0;34m\u001b[0m\u001b[0m\n\u001b[1;32m      6\u001b[0m \u001b[0;32mfinally\u001b[0m\u001b[0;34m:\u001b[0m \u001b[0;31m# this will run regardless\u001b[0m\u001b[0;34m\u001b[0m\u001b[0;34m\u001b[0m\u001b[0m\n\u001b[0;32m----> 7\u001b[0;31m   \u001b[0mf\u001b[0m\u001b[0;34m.\u001b[0m\u001b[0mclose\u001b[0m\u001b[0;34m(\u001b[0m\u001b[0;34m)\u001b[0m\u001b[0;34m\u001b[0m\u001b[0;34m\u001b[0m\u001b[0m\n\u001b[0m",
            "\u001b[0;31mNameError\u001b[0m: name 'f' is not defined"
          ]
        }
      ]
    },
    {
      "cell_type": "markdown",
      "metadata": {
        "id": "z2P1jc-T4E1v"
      },
      "source": [
        "***raise() keyword***\r\n",
        "* you can generate a custom error if an exception occurs\r\n",
        " * this is done with the raise key word"
      ]
    },
    {
      "cell_type": "code",
      "metadata": {
        "colab": {
          "base_uri": "https://localhost:8080/",
          "height": 200
        },
        "id": "T_7sR7bZ29Cl",
        "outputId": "f3845814-7132-4912-c6ca-37404486d627"
      },
      "source": [
        "# raise exception example # 1\r\n",
        "x = -1\r\n",
        "\r\n",
        "if x < 0:\r\n",
        "  raise Exception(\"Sorry! number below zero!\") "
      ],
      "execution_count": 43,
      "outputs": [
        {
          "output_type": "error",
          "ename": "Exception",
          "evalue": "ignored",
          "traceback": [
            "\u001b[0;31m---------------------------------------------------------------------------\u001b[0m",
            "\u001b[0;31mException\u001b[0m                                 Traceback (most recent call last)",
            "\u001b[0;32m<ipython-input-43-2d709742edd8>\u001b[0m in \u001b[0;36m<module>\u001b[0;34m()\u001b[0m\n\u001b[1;32m      3\u001b[0m \u001b[0;34m\u001b[0m\u001b[0m\n\u001b[1;32m      4\u001b[0m \u001b[0;32mif\u001b[0m \u001b[0mx\u001b[0m \u001b[0;34m<\u001b[0m \u001b[0;36m0\u001b[0m\u001b[0;34m:\u001b[0m\u001b[0;34m\u001b[0m\u001b[0;34m\u001b[0m\u001b[0m\n\u001b[0;32m----> 5\u001b[0;31m   \u001b[0;32mraise\u001b[0m \u001b[0mException\u001b[0m\u001b[0;34m(\u001b[0m\u001b[0;34m\"Sorry! number below zero!\"\u001b[0m\u001b[0;34m)\u001b[0m\u001b[0;34m\u001b[0m\u001b[0;34m\u001b[0m\u001b[0m\n\u001b[0m",
            "\u001b[0;31mException\u001b[0m: Sorry! number below zero!"
          ]
        }
      ]
    },
    {
      "cell_type": "code",
      "metadata": {
        "colab": {
          "base_uri": "https://localhost:8080/",
          "height": 200
        },
        "id": "MQRvNy3A5LJc",
        "outputId": "08e2e6ba-d905-4a68-e708-fe5075f12aa8"
      },
      "source": [
        "# raise exception example #2\r\n",
        "# you can choose the specific type of Exception to raise\r\n",
        "x  = \"Hello\"\r\n",
        "\r\n",
        "if not type(x) is int:\r\n",
        "  raise TypeError(\"Only integers are allowed!\")"
      ],
      "execution_count": 44,
      "outputs": [
        {
          "output_type": "error",
          "ename": "TypeError",
          "evalue": "ignored",
          "traceback": [
            "\u001b[0;31m---------------------------------------------------------------------------\u001b[0m",
            "\u001b[0;31mTypeError\u001b[0m                                 Traceback (most recent call last)",
            "\u001b[0;32m<ipython-input-44-4391a37086c5>\u001b[0m in \u001b[0;36m<module>\u001b[0;34m()\u001b[0m\n\u001b[1;32m      4\u001b[0m \u001b[0;34m\u001b[0m\u001b[0m\n\u001b[1;32m      5\u001b[0m \u001b[0;32mif\u001b[0m \u001b[0;32mnot\u001b[0m \u001b[0mtype\u001b[0m\u001b[0;34m(\u001b[0m\u001b[0mx\u001b[0m\u001b[0;34m)\u001b[0m \u001b[0;32mis\u001b[0m \u001b[0mint\u001b[0m\u001b[0;34m:\u001b[0m\u001b[0;34m\u001b[0m\u001b[0;34m\u001b[0m\u001b[0m\n\u001b[0;32m----> 6\u001b[0;31m   \u001b[0;32mraise\u001b[0m \u001b[0mTypeError\u001b[0m\u001b[0;34m(\u001b[0m\u001b[0;34m\"Only integers are allowed!\"\u001b[0m\u001b[0;34m)\u001b[0m\u001b[0;34m\u001b[0m\u001b[0;34m\u001b[0m\u001b[0m\n\u001b[0m",
            "\u001b[0;31mTypeError\u001b[0m: Only integers are allowed!"
          ]
        }
      ]
    },
    {
      "cell_type": "markdown",
      "metadata": {
        "id": "9zE1YP2W6F31"
      },
      "source": [
        "#**Functions**\r\n",
        "* functions are reusable pieces of code\r\n",
        "* they only run when called\r\n",
        "* they make input arguments\r\n",
        "* they may return prosessed values\r\n",
        "* `def` key word is used at the begining of a functionto start defining\r\n",
        "a function\r\n",
        "* return keyword is used to send some value back after processing"
      ]
    },
    {
      "cell_type": "code",
      "metadata": {
        "colab": {
          "base_uri": "https://localhost:8080/"
        },
        "id": "E0s4yYzG587E",
        "outputId": "0fd85ebb-4f71-4017-f8b4-230a6aa078e0"
      },
      "source": [
        "# define function to calculate area of a circle\r\n",
        "# input argument is radius\r\n",
        "\r\n",
        "def area_circle(radius):\r\n",
        "\r\n",
        "  area = (22.0/7.0) * radius**2\r\n",
        "  return area\r\n",
        "print(area_circle(5))"
      ],
      "execution_count": 45,
      "outputs": [
        {
          "output_type": "stream",
          "text": [
            "78.57142857142857\n"
          ],
          "name": "stdout"
        }
      ]
    },
    {
      "cell_type": "markdown",
      "metadata": {
        "id": "BxWOE5vx7dE3"
      },
      "source": [
        "#**Scope**\r\n",
        "* a variable is only available from inside the region it is created\r\n",
        " * this is called *scope*"
      ]
    },
    {
      "cell_type": "markdown",
      "metadata": {
        "id": "n78NjPqb7urA"
      },
      "source": [
        "###**Local Scope**\r\n",
        "* a variable created inside function belongs to the local scope of that function\r\n",
        " * and can only be used inside that function"
      ]
    },
    {
      "cell_type": "code",
      "metadata": {
        "colab": {
          "base_uri": "https://localhost:8080/",
          "height": 217
        },
        "id": "-nMKOM7N7YYA",
        "outputId": "7c6763a7-58a4-471c-bd83-c430a751a851"
      },
      "source": [
        "def myfunc():\r\n",
        "  inside_variable = 300 # inside_variable is avilable only inside myfunc() and not accessible outside\r\n",
        "  print(inside_variable)\r\n",
        "\r\n",
        "myfunc() # call the function myfunc()\r\n",
        "print(inside_variable)#throws error"
      ],
      "execution_count": 47,
      "outputs": [
        {
          "output_type": "stream",
          "text": [
            "300\n"
          ],
          "name": "stdout"
        },
        {
          "output_type": "error",
          "ename": "NameError",
          "evalue": "ignored",
          "traceback": [
            "\u001b[0;31m---------------------------------------------------------------------------\u001b[0m",
            "\u001b[0;31mNameError\u001b[0m                                 Traceback (most recent call last)",
            "\u001b[0;32m<ipython-input-47-161fcb4ba1a8>\u001b[0m in \u001b[0;36m<module>\u001b[0;34m()\u001b[0m\n\u001b[1;32m      4\u001b[0m \u001b[0;34m\u001b[0m\u001b[0m\n\u001b[1;32m      5\u001b[0m \u001b[0mmyfunc\u001b[0m\u001b[0;34m(\u001b[0m\u001b[0;34m)\u001b[0m \u001b[0;31m# call the function myfunc()\u001b[0m\u001b[0;34m\u001b[0m\u001b[0;34m\u001b[0m\u001b[0m\n\u001b[0;32m----> 6\u001b[0;31m \u001b[0mprint\u001b[0m\u001b[0;34m(\u001b[0m\u001b[0minside_variable\u001b[0m\u001b[0;34m)\u001b[0m\u001b[0;31m#throws error\u001b[0m\u001b[0;34m\u001b[0m\u001b[0;34m\u001b[0m\u001b[0m\n\u001b[0m",
            "\u001b[0;31mNameError\u001b[0m: name 'inside_variable' is not defined"
          ]
        }
      ]
    },
    {
      "cell_type": "markdown",
      "metadata": {
        "id": "3cEJaY4Q80hk"
      },
      "source": [
        "* however, the local variable can be accessed from a function within\r\n",
        "the function"
      ]
    },
    {
      "cell_type": "code",
      "metadata": {
        "colab": {
          "base_uri": "https://localhost:8080/",
          "height": 217
        },
        "id": "UAteQwR38w4w",
        "outputId": "59cfff66-c034-4016-e11d-ab8be283d5fd"
      },
      "source": [
        "def myfunc():\r\n",
        "  inside_variable = 300\r\n",
        "  def myinnerfunc():# this is the inner function\r\n",
        "    print(inside_variable) # this line accesses the inside_variable\r\n",
        "\r\n",
        "  myinnerfunc() # call the function myinnerfunc()\r\n",
        "\r\n",
        "myfunc() # call the function myfunc()\r\n",
        "\r\n",
        "print(inside_variable) # but this still throws error"
      ],
      "execution_count": 61,
      "outputs": [
        {
          "output_type": "stream",
          "text": [
            "300\n"
          ],
          "name": "stdout"
        },
        {
          "output_type": "error",
          "ename": "NameError",
          "evalue": "ignored",
          "traceback": [
            "\u001b[0;31m---------------------------------------------------------------------------\u001b[0m",
            "\u001b[0;31mNameError\u001b[0m                                 Traceback (most recent call last)",
            "\u001b[0;32m<ipython-input-61-47631d309736>\u001b[0m in \u001b[0;36m<module>\u001b[0;34m()\u001b[0m\n\u001b[1;32m      8\u001b[0m \u001b[0mmyfunc\u001b[0m\u001b[0;34m(\u001b[0m\u001b[0;34m)\u001b[0m \u001b[0;31m# call the function myfunc()\u001b[0m\u001b[0;34m\u001b[0m\u001b[0;34m\u001b[0m\u001b[0m\n\u001b[1;32m      9\u001b[0m \u001b[0;34m\u001b[0m\u001b[0m\n\u001b[0;32m---> 10\u001b[0;31m \u001b[0mprint\u001b[0m\u001b[0;34m(\u001b[0m\u001b[0minside_variable\u001b[0m\u001b[0;34m)\u001b[0m \u001b[0;31m# but this still throws error\u001b[0m\u001b[0;34m\u001b[0m\u001b[0;34m\u001b[0m\u001b[0m\n\u001b[0m",
            "\u001b[0;31mNameError\u001b[0m: name 'inside_variable' is not defined"
          ]
        }
      ]
    },
    {
      "cell_type": "markdown",
      "metadata": {
        "id": "hbwQsDOd95rt"
      },
      "source": [
        "##**Global Scope**\r\n",
        "* a variable created in the main body of the Python code is a global\r\n",
        "variable and belongs to global scope.\r\n",
        "* global variables are variable from within any scope, global and local"
      ]
    },
    {
      "cell_type": "code",
      "metadata": {
        "colab": {
          "base_uri": "https://localhost:8080/"
        },
        "id": "x9nKtlos-nKo",
        "outputId": "cbb2690b-81a9-4a3c-c518-72e1bf6a07e6"
      },
      "source": [
        "outer_variable = 300\r\n",
        "\r\n",
        "def myfunc():\r\n",
        "  print(outer_variable)\r\n",
        "\r\n",
        "myfunc()\r\n",
        "\r\n",
        "print(outer_variable)"
      ],
      "execution_count": 67,
      "outputs": [
        {
          "output_type": "stream",
          "text": [
            "300\n",
            "300\n"
          ],
          "name": "stdout"
        }
      ]
    },
    {
      "cell_type": "markdown",
      "metadata": {
        "id": "DtFpZzOY_AY-"
      },
      "source": [
        "##***`\"global\" keyword`***\r\n",
        "* if you need to create a global variable, but are stuck in the local scope, you can use the `global` keyword\r\n",
        "* the global keyword makes the variable global."
      ]
    },
    {
      "cell_type": "code",
      "metadata": {
        "colab": {
          "base_uri": "https://localhost:8080/"
        },
        "id": "TKViVAsU-1ZI",
        "outputId": "ddddc977-ba37-4117-f401-1de6d13c3e56"
      },
      "source": [
        "def myfunc():\r\n",
        "  global global_variable\r\n",
        "  global_variable = 300\r\n",
        "  print(global_variable)\r\n",
        "\r\n",
        "myfunc()\r\n",
        "\r\n",
        "print(global_variable)"
      ],
      "execution_count": 68,
      "outputs": [
        {
          "output_type": "stream",
          "text": [
            "300\n",
            "300\n"
          ],
          "name": "stdout"
        }
      ]
    },
    {
      "cell_type": "markdown",
      "metadata": {
        "id": "oh9UksjmADGO"
      },
      "source": [
        "#**Lambda**\r\n",
        "* is a small anonymous function\r\n",
        "* can take any number of arguments, but can only have one expression\r\n",
        "* syntax: lambda arguments: expression"
      ]
    },
    {
      "cell_type": "code",
      "metadata": {
        "colab": {
          "base_uri": "https://localhost:8080/"
        },
        "id": "yR12XUYY_775",
        "outputId": "ba3c21ac-d3b4-447b-c33b-f19e8cd71bdd"
      },
      "source": [
        "# lambda function example #1\r\n",
        "plus_ten = lambda x : x + 10\r\n",
        "print(plus_ten(5))"
      ],
      "execution_count": 69,
      "outputs": [
        {
          "output_type": "stream",
          "text": [
            "15\n"
          ],
          "name": "stdout"
        }
      ]
    },
    {
      "cell_type": "code",
      "metadata": {
        "colab": {
          "base_uri": "https://localhost:8080/"
        },
        "id": "6lpTSNXZAqgR",
        "outputId": "1c3128f1-2714-44f1-f1ee-bad81188cb31"
      },
      "source": [
        "# lambda function example #2\r\n",
        "multiply = lambda a, b: a*b\r\n",
        "print(multiply(5, 6))"
      ],
      "execution_count": 70,
      "outputs": [
        {
          "output_type": "stream",
          "text": [
            "30\n"
          ],
          "name": "stdout"
        }
      ]
    },
    {
      "cell_type": "code",
      "metadata": {
        "colab": {
          "base_uri": "https://localhost:8080/"
        },
        "id": "s7L2INjOBErS",
        "outputId": "13ae8fd8-40a3-4de9-87c3-382c3818b636"
      },
      "source": [
        "# lambda function example #3:\r\n",
        "triple_sum = lambda a,b,c: a+b+c\r\n",
        "print(triple_sum(1,2,3))"
      ],
      "execution_count": 71,
      "outputs": [
        {
          "output_type": "stream",
          "text": [
            "6\n"
          ],
          "name": "stdout"
        }
      ]
    },
    {
      "cell_type": "code",
      "metadata": {
        "id": "up7zxvDZBffO"
      },
      "source": [
        ""
      ],
      "execution_count": 71,
      "outputs": []
    }
  ]
}