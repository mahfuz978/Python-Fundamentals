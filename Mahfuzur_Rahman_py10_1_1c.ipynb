{
  "nbformat": 4,
  "nbformat_minor": 0,
  "metadata": {
    "colab": {
      "name": "Mahfuzur_Rahman_py10_1_1c.ipynb",
      "provenance": [],
      "collapsed_sections": [],
      "authorship_tag": "ABX9TyOXN83k2o4MoAX+wM/NW0WS",
      "include_colab_link": true
    },
    "kernelspec": {
      "name": "python3",
      "display_name": "Python 3"
    }
  },
  "cells": [
    {
      "cell_type": "markdown",
      "metadata": {
        "id": "view-in-github",
        "colab_type": "text"
      },
      "source": [
        "<a href=\"https://colab.research.google.com/github/mahfuz978/TECH.I.S-Fundamentals/blob/main/Mahfuzur_Rahman_py10_1_1c.ipynb\" target=\"_parent\"><img src=\"https://colab.research.google.com/assets/colab-badge.svg\" alt=\"Open In Colab\"/></a>"
      ]
    },
    {
      "cell_type": "markdown",
      "metadata": {
        "id": "26YUrzxiwx6j"
      },
      "source": [
        "#**Type Conversions**\r\n",
        "***int to float***"
      ]
    },
    {
      "cell_type": "code",
      "metadata": {
        "id": "pgTuSXbvwiuF",
        "colab": {
          "base_uri": "https://localhost:8080/"
        },
        "outputId": "6b909159-88cc-4173-bbba-0a577a8ead13"
      },
      "source": [
        "# convert int to float\r\n",
        "x = 3 # int\r\n",
        "print(x)\r\n",
        "print(type(x))\r\n",
        "\r\n",
        "y = float(x)\r\n",
        "print(y)\r\n",
        "print(type(y))"
      ],
      "execution_count": null,
      "outputs": [
        {
          "output_type": "stream",
          "text": [
            "3\n",
            "<class 'int'>\n",
            "3.0\n",
            "<class 'float'>\n"
          ],
          "name": "stdout"
        }
      ]
    },
    {
      "cell_type": "markdown",
      "metadata": {
        "id": "i94TmVskiIKg"
      },
      "source": [
        "***float into int***"
      ]
    },
    {
      "cell_type": "code",
      "metadata": {
        "colab": {
          "base_uri": "https://localhost:8080/"
        },
        "id": "4u_HOiKNiGM0",
        "outputId": "320ab5ec-cf2d-49b5-a37a-79238b48332d"
      },
      "source": [
        "# convert float to int\r\n",
        "y  = 3.142 # float\r\n",
        "print(y)\r\n",
        "print(type(y))\r\n",
        "\r\n",
        "z = int(y)\r\n",
        "print(z)\r\n",
        "print(type(z))"
      ],
      "execution_count": null,
      "outputs": [
        {
          "output_type": "stream",
          "text": [
            "3.142\n",
            "<class 'float'>\n",
            "3\n",
            "<class 'int'>\n"
          ],
          "name": "stdout"
        }
      ]
    },
    {
      "cell_type": "markdown",
      "metadata": {
        "id": "Q7DTkVLq4dBY"
      },
      "source": [
        "***string to int***"
      ]
    },
    {
      "cell_type": "code",
      "metadata": {
        "colab": {
          "base_uri": "https://localhost:8080/"
        },
        "id": "iaIUfHZr4izi",
        "outputId": "1806b6e7-92c8-408d-d502-d4cd134ede2b"
      },
      "source": [
        "# convert string into int\r\n",
        "x = '50' # string\r\n",
        "print(x)\r\n",
        "print(type(x))\r\n",
        "\r\n",
        "y = int(x) # converting x to int\r\n",
        "print(y)\r\n",
        "print(type(y))"
      ],
      "execution_count": null,
      "outputs": [
        {
          "output_type": "stream",
          "text": [
            "50\n",
            "<class 'str'>\n",
            "50\n",
            "<class 'int'>\n"
          ],
          "name": "stdout"
        }
      ]
    },
    {
      "cell_type": "markdown",
      "metadata": {
        "id": "hMOh6BN85Jau"
      },
      "source": [
        "***int to string***"
      ]
    },
    {
      "cell_type": "code",
      "metadata": {
        "colab": {
          "base_uri": "https://localhost:8080/"
        },
        "id": "JWj1YPHb5H1y",
        "outputId": "a1e72343-cb37-47f5-cedc-5bafb2d50350"
      },
      "source": [
        "# convert int to string\r\n",
        "x = 2020\r\n",
        "print(x)\r\n",
        "print(type(x))\r\n",
        "\r\n",
        "y = str(x)\r\n",
        "print(y)\r\n",
        "print(type(y))"
      ],
      "execution_count": null,
      "outputs": [
        {
          "output_type": "stream",
          "text": [
            "2020\n",
            "<class 'int'>\n",
            "2020\n",
            "<class 'str'>\n"
          ],
          "name": "stdout"
        }
      ]
    },
    {
      "cell_type": "markdown",
      "metadata": {
        "id": "RYZ3AO2u5w-c"
      },
      "source": [
        "***string to float***"
      ]
    },
    {
      "cell_type": "code",
      "metadata": {
        "colab": {
          "base_uri": "https://localhost:8080/"
        },
        "id": "z1BP9ket5v7V",
        "outputId": "42e54495-a4fc-4107-e4d0-24ab513d59df"
      },
      "source": [
        "# convert str to float\r\n",
        "x = '3.14'\r\n",
        "print(x)\r\n",
        "print(type(x))\r\n",
        "\r\n",
        "y = float(x) # converting x to float\r\n",
        "print(y)\r\n",
        "print(type(y))"
      ],
      "execution_count": null,
      "outputs": [
        {
          "output_type": "stream",
          "text": [
            "3.14\n",
            "<class 'str'>\n",
            "3.14\n",
            "<class 'float'>\n"
          ],
          "name": "stdout"
        }
      ]
    },
    {
      "cell_type": "markdown",
      "metadata": {
        "id": "ohTryniy6oEL"
      },
      "source": [
        "***float to string***"
      ]
    },
    {
      "cell_type": "code",
      "metadata": {
        "colab": {
          "base_uri": "https://localhost:8080/"
        },
        "id": "oEhbzG9E6lGX",
        "outputId": "0f9d0ca2-92d7-4ffe-c429-5f793b5392eb"
      },
      "source": [
        "# convert float to string\r\n",
        "x = 3.14\r\n",
        "print(x)\r\n",
        "print(type(x))\r\n",
        "\r\n",
        "y = str(x)\r\n",
        "print(y)\r\n",
        "print(type(y))"
      ],
      "execution_count": null,
      "outputs": [
        {
          "output_type": "stream",
          "text": [
            "3.14\n",
            "<class 'float'>\n",
            "3.14\n",
            "<class 'str'>\n"
          ],
          "name": "stdout"
        }
      ]
    },
    {
      "cell_type": "markdown",
      "metadata": {
        "id": "ZjLRX7ZH684k"
      },
      "source": [
        "***List to tuple***"
      ]
    },
    {
      "cell_type": "code",
      "metadata": {
        "colab": {
          "base_uri": "https://localhost:8080/"
        },
        "id": "qO31MJ5W67nb",
        "outputId": "41e82afd-3098-470e-f055-85eac24a956d"
      },
      "source": [
        "# convert list to tuple\r\n",
        "new_list = [3,7,20, '@', 'TECH I.S', 'makes learning fun!']\r\n",
        "print(new_list)\r\n",
        "print(type(new_list))\r\n",
        "\r\n",
        "new_tuple = tuple(new_list)\r\n",
        "print(new_tuple)\r\n",
        "print(type(new_tuple))"
      ],
      "execution_count": null,
      "outputs": [
        {
          "output_type": "stream",
          "text": [
            "[3, 7, 20, '@', 'TECH I.S', 'makes learning fun!']\n",
            "<class 'list'>\n",
            "(3, 7, 20, '@', 'TECH I.S', 'makes learning fun!')\n",
            "<class 'tuple'>\n"
          ],
          "name": "stdout"
        }
      ]
    },
    {
      "cell_type": "markdown",
      "metadata": {
        "id": "2X_0zsdi8fm7"
      },
      "source": [
        "***tuple to list***"
      ]
    },
    {
      "cell_type": "code",
      "metadata": {
        "colab": {
          "base_uri": "https://localhost:8080/"
        },
        "id": "xHDQ_ctj8WVP",
        "outputId": "c6524fc4-ed42-4117-9f5c-11c5c5e82a14"
      },
      "source": [
        "# convert tuple to list\r\n",
        "new_tuple = 4,1,45,92,31,60,84\r\n",
        "print(new_tuple)\r\n",
        "print(type(new_tuple))\r\n",
        "\r\n",
        "new_list = list(new_tuple) # converting new_tuple to new_list\r\n",
        "print(new_list)\r\n",
        "print(type(new_list))"
      ],
      "execution_count": null,
      "outputs": [
        {
          "output_type": "stream",
          "text": [
            "(4, 1, 45, 92, 31, 60, 84)\n",
            "<class 'tuple'>\n",
            "[4, 1, 45, 92, 31, 60, 84]\n",
            "<class 'list'>\n"
          ],
          "name": "stdout"
        }
      ]
    },
    {
      "cell_type": "markdown",
      "metadata": {
        "id": "W-g0tsnd9cnx"
      },
      "source": [
        "***List to set***"
      ]
    },
    {
      "cell_type": "code",
      "metadata": {
        "colab": {
          "base_uri": "https://localhost:8080/"
        },
        "id": "f2FpPj8m9ZPS",
        "outputId": "b47eba10-6a19-457e-f22b-8cfbb3e4216b"
      },
      "source": [
        "# define list\r\n",
        "new_list = ['olivia', 'kaseem', 'caleb', 'olivia', 'owen', 'olivia']\r\n",
        "print(new_list)\r\n",
        "print(type(new_list))\r\n",
        "\r\n",
        "# convert to set\r\n",
        "new_set = set(new_list) # extracts only the unique values\r\n",
        "print(new_set)\r\n",
        "print(type(new_set))"
      ],
      "execution_count": null,
      "outputs": [
        {
          "output_type": "stream",
          "text": [
            "['olivia', 'kaseem', 'caleb', 'olivia', 'owen', 'olivia']\n",
            "<class 'list'>\n",
            "{'owen', 'caleb', 'kaseem', 'olivia'}\n",
            "<class 'set'>\n"
          ],
          "name": "stdout"
        }
      ]
    },
    {
      "cell_type": "markdown",
      "metadata": {
        "id": "pFBUkaxw-XvW"
      },
      "source": [
        "***set to list***"
      ]
    },
    {
      "cell_type": "code",
      "metadata": {
        "colab": {
          "base_uri": "https://localhost:8080/"
        },
        "id": "QqDcwCtj-S9G",
        "outputId": "c02cce44-d62f-4b86-c627-82417b1561ba"
      },
      "source": [
        "# define a set\r\n",
        "new_set = {'kaseem', 'olivia', 'caleb', 'owen'}\r\n",
        "print(new_set)\r\n",
        "print(type(new_set))\r\n",
        "\r\n",
        "# convert this set to a list\r\n",
        "new_list = list(new_set)\r\n",
        "print(new_list)\r\n",
        "print(type(new_list))"
      ],
      "execution_count": null,
      "outputs": [
        {
          "output_type": "stream",
          "text": [
            "{'owen', 'caleb', 'kaseem', 'olivia'}\n",
            "<class 'set'>\n",
            "['owen', 'caleb', 'kaseem', 'olivia']\n",
            "<class 'list'>\n"
          ],
          "name": "stdout"
        }
      ]
    },
    {
      "cell_type": "markdown",
      "metadata": {
        "id": "Ga0vdOWp_b1f"
      },
      "source": [
        "#**Flow Control**\r\n",
        "**if... elif... else...**\r\n",
        "* if, elif and else keywords are used to make decisions\r\n",
        " * executes different blocks of code based on certain conditions\r\n",
        "* comparison operators and logical operators can be used to specify these conditions"
      ]
    },
    {
      "cell_type": "code",
      "metadata": {
        "colab": {
          "base_uri": "https://localhost:8080/"
        },
        "id": "9NNbbRzA_ZLK",
        "outputId": "19d7db0c-64d1-4a70-c6e6-4027ae9f1dc2"
      },
      "source": [
        "# 'if' conditional\r\n",
        "x = 5\r\n",
        "y = 5\r\n",
        "\r\n",
        "if x == y:\r\n",
        "  print('x and y are equal')"
      ],
      "execution_count": null,
      "outputs": [
        {
          "output_type": "stream",
          "text": [
            "x and y are equal\n"
          ],
          "name": "stdout"
        }
      ]
    },
    {
      "cell_type": "code",
      "metadata": {
        "id": "6-vq0yhpBF76"
      },
      "source": [
        "# 'if' conditional\r\n",
        "x = 5\r\n",
        "y = 6\r\n",
        "\r\n",
        "if x == y:\r\n",
        "  print('x and y are equal')\r\n",
        "# no output because x and y are not equal"
      ],
      "execution_count": null,
      "outputs": []
    },
    {
      "cell_type": "code",
      "metadata": {
        "colab": {
          "base_uri": "https://localhost:8080/"
        },
        "id": "PbFl7r-EBSfw",
        "outputId": "e42b3e41-a2d9-4355-d412-fb3f8c1288b7"
      },
      "source": [
        "# 'if...else...' conditional\r\n",
        "x = 5\r\n",
        "y = 6\r\n",
        "\r\n",
        "if x == y:\r\n",
        "  print('x and y are equal')\r\n",
        "else:\r\n",
        "  print('x and y are not equal')"
      ],
      "execution_count": null,
      "outputs": [
        {
          "output_type": "stream",
          "text": [
            "x and y are not equal\n"
          ],
          "name": "stdout"
        }
      ]
    },
    {
      "cell_type": "code",
      "metadata": {
        "colab": {
          "base_uri": "https://localhost:8080/"
        },
        "id": "WCRE98ASBq89",
        "outputId": "456a98b8-577f-48b4-ad61-e6d03209285b"
      },
      "source": [
        "# 'if...elif...else...' conditional\r\n",
        "x = 6\r\n",
        "y = 3\r\n",
        "\r\n",
        "if x == y:\r\n",
        "  print('x and y are equal')\r\n",
        "elif x < y:\r\n",
        "  print('x is smaller')\r\n",
        "else:\r\n",
        "  print('y is smaller')"
      ],
      "execution_count": null,
      "outputs": [
        {
          "output_type": "stream",
          "text": [
            "y is smaller\n"
          ],
          "name": "stdout"
        }
      ]
    },
    {
      "cell_type": "markdown",
      "metadata": {
        "id": "58LmYm-ECUDF"
      },
      "source": [
        "**single line if...else...**\r\n",
        "* use if and else in a single line as shown below"
      ]
    },
    {
      "cell_type": "code",
      "metadata": {
        "colab": {
          "base_uri": "https://localhost:8080/"
        },
        "id": "9bT_wFODCL4r",
        "outputId": "44c5b989-2de8-4613-883e-ff1128e668f5"
      },
      "source": [
        "is_single = True\r\n",
        "message = 'You can date.' if is_single else 'You cannot date.'\r\n",
        "print(message)"
      ],
      "execution_count": null,
      "outputs": [
        {
          "output_type": "stream",
          "text": [
            "You can date.\n"
          ],
          "name": "stdout"
        }
      ]
    },
    {
      "cell_type": "markdown",
      "metadata": {
        "id": "uUFK254vDcOK"
      },
      "source": [
        "**\"=\" vs. \"==\"**\r\n",
        "* = is an assignment operator\r\n",
        " * is used to set values to variables\r\n",
        "* == is a comparison operator\r\n",
        " * is used to compare the equality of two objects/variables\r\n",
        "* if == is used instead of = for comparison in if statement, for instance, then a syntax error is thrown"
      ]
    },
    {
      "cell_type": "code",
      "metadata": {
        "colab": {
          "base_uri": "https://localhost:8080/"
        },
        "id": "-i2J2lTmDZFK",
        "outputId": "7aaaf080-6671-4706-830b-7dbd6794845c"
      },
      "source": [
        "# get user input for variables 'x' and 'y'\r\n",
        "x = float(input('Enter a number for x: '))# '=' is an assignment operator\r\n",
        "y = float(input('Enter a number for y: '))# '=' is an assignment operator\r\n",
        "\r\n",
        "# compare values of x and y\r\n",
        "if x == y: # '==' is a comparison operator\r\n",
        "  print('x and y are equal') # if the equality test passed\r\n",
        "  if y != 0:\r\n",
        "    print('therefore x/y is ', x/y)\r\n",
        "elif x < y:\r\n",
        "  print('x is smaller') # if x is less than y\r\n",
        "else:\r\n",
        "  print('y is smaller') # if y is less than x\r\n",
        "\r\n",
        "print('thanks')"
      ],
      "execution_count": null,
      "outputs": [
        {
          "output_type": "stream",
          "text": [
            "Enter a number for x: 4\n",
            "Enter a number for y: 6\n",
            "x is smaller\n",
            "thanks\n"
          ],
          "name": "stdout"
        }
      ]
    },
    {
      "cell_type": "markdown",
      "metadata": {
        "id": "O9D75OxoGN8F"
      },
      "source": [
        "**\"while\" loops**\r\n",
        "* the while loop executes a block of code as long as condition is true"
      ]
    },
    {
      "cell_type": "code",
      "metadata": {
        "colab": {
          "base_uri": "https://localhost:8080/"
        },
        "id": "J8W-oTYCGH1r",
        "outputId": "1f33abde-b66f-4e5b-b428-bd834ff21080"
      },
      "source": [
        "# while loop example #1 \r\n",
        "n = 0\r\n",
        "while n < 5:\r\n",
        "  print(n)\r\n",
        "  n += 1 "
      ],
      "execution_count": null,
      "outputs": [
        {
          "output_type": "stream",
          "text": [
            "0\n",
            "1\n",
            "2\n",
            "3\n",
            "4\n"
          ],
          "name": "stdout"
        }
      ]
    },
    {
      "cell_type": "markdown",
      "metadata": {
        "id": "5q3juqwtMiCR"
      },
      "source": [
        "***`\"While\" loop with \"else\" statement`***\r\n",
        "* else can be added at the end of a while loop\r\n",
        "* to run a piece of code when the while condition is no longer true"
      ]
    },
    {
      "cell_type": "code",
      "metadata": {
        "colab": {
          "base_uri": "https://localhost:8080/"
        },
        "id": "z8xObTMvL6G1",
        "outputId": "079edfba-5419-44ae-f910-f93755881ebc"
      },
      "source": [
        "# while loop example # 2 \r\n",
        "n = 0\r\n",
        "while n < 5:\r\n",
        "  print(n)\r\n",
        "  n += 1\r\n",
        "else:\r\n",
        "  print('n is not less than 5 anymore')"
      ],
      "execution_count": null,
      "outputs": [
        {
          "output_type": "stream",
          "text": [
            "0\n",
            "1\n",
            "2\n",
            "3\n",
            "4\n",
            "n is not less than 5 anymore\n"
          ],
          "name": "stdout"
        }
      ]
    },
    {
      "cell_type": "markdown",
      "metadata": {
        "id": "F9pha6lgO3fG"
      },
      "source": [
        "**\"for\" Loops**\r\n",
        "* for keyword is used along with in memebership query keyword to loop over strings, lists, tuple, and dictionaries"
      ]
    },
    {
      "cell_type": "markdown",
      "metadata": {
        "id": "V4XR03UBQCb5"
      },
      "source": [
        "***`for... in range()`***\r\n",
        "\r\n",
        "* for can be used with in and range() to generate numbers"
      ]
    },
    {
      "cell_type": "code",
      "metadata": {
        "colab": {
          "base_uri": "https://localhost:8080/"
        },
        "id": "mJkQxZzDOfYb",
        "outputId": "d03de044-3c89-4240-ee60-803101e35228"
      },
      "source": [
        "for n in range(5):\r\n",
        "  print(n)"
      ],
      "execution_count": null,
      "outputs": [
        {
          "output_type": "stream",
          "text": [
            "0\n",
            "1\n",
            "2\n",
            "3\n",
            "4\n"
          ],
          "name": "stdout"
        }
      ]
    },
    {
      "cell_type": "code",
      "metadata": {
        "colab": {
          "base_uri": "https://localhost:8080/"
        },
        "id": "6t-9K6dkRPBj",
        "outputId": "e58942c5-e163-4170-81b8-47179f44d2ab"
      },
      "source": [
        "for n in range(2,6):\r\n",
        "  print(n)"
      ],
      "execution_count": null,
      "outputs": [
        {
          "output_type": "stream",
          "text": [
            "2\n",
            "3\n",
            "4\n",
            "5\n"
          ],
          "name": "stdout"
        }
      ]
    },
    {
      "cell_type": "code",
      "metadata": {
        "colab": {
          "base_uri": "https://localhost:8080/"
        },
        "id": "lSERsiV8WT4a",
        "outputId": "89234c49-3b1b-44a7-df62-3e9b62b89101"
      },
      "source": [
        "for x in range(2, 30 , 3):\r\n",
        "  print(x)"
      ],
      "execution_count": null,
      "outputs": [
        {
          "output_type": "stream",
          "text": [
            "2\n",
            "5\n",
            "8\n",
            "11\n",
            "14\n",
            "17\n",
            "20\n",
            "23\n",
            "26\n",
            "29\n"
          ],
          "name": "stdout"
        }
      ]
    },
    {
      "cell_type": "markdown",
      "metadata": {
        "id": "gX8F4FNDWws0"
      },
      "source": [
        "***`\"for\" loops with strings`***\r\n",
        "* for loops can be used to loop over strings"
      ]
    },
    {
      "cell_type": "code",
      "metadata": {
        "colab": {
          "base_uri": "https://localhost:8080/"
        },
        "id": "yQmUGpNQWoGR",
        "outputId": "a576381b-0413-4ca4-cbe0-c782b56078fb"
      },
      "source": [
        "text = \"TECH I.S.\"\r\n",
        "for letter in text:\r\n",
        "  print(letter)"
      ],
      "execution_count": null,
      "outputs": [
        {
          "output_type": "stream",
          "text": [
            "T\n",
            "E\n",
            "C\n",
            "H\n",
            " \n",
            "I\n",
            ".\n",
            "S\n",
            ".\n"
          ],
          "name": "stdout"
        }
      ]
    },
    {
      "cell_type": "markdown",
      "metadata": {
        "id": "IlSm6MsYXiSD"
      },
      "source": [
        "\r\n",
        "***`\"for\" loop can be used with data types like lists, tuples, sets and dictionaries`***"
      ]
    },
    {
      "cell_type": "code",
      "metadata": {
        "colab": {
          "base_uri": "https://localhost:8080/"
        },
        "id": "KOl7B3MDXa5-",
        "outputId": "f57ac5c7-a834-417e-f70f-065633de05ad"
      },
      "source": [
        "# define a list\r\n",
        "fruits_list = ['apple', 'banana', 'cherry']\r\n",
        "\r\n",
        "# run a for loop to print the elements of the list\r\n",
        "for fruit in fruits_list:\r\n",
        "  print(fruit)"
      ],
      "execution_count": null,
      "outputs": [
        {
          "output_type": "stream",
          "text": [
            "apple\n",
            "banana\n",
            "cherry\n"
          ],
          "name": "stdout"
        }
      ]
    },
    {
      "cell_type": "code",
      "metadata": {
        "colab": {
          "base_uri": "https://localhost:8080/"
        },
        "id": "IkX3pyXvYjg4",
        "outputId": "2465b86a-60e4-47e7-8815-d058724998bc"
      },
      "source": [
        "# define a tuple\r\n",
        "animals_list = 'dog', 'cat', 'elephant', 'otter'\r\n",
        "\r\n",
        "# run a for loop to print the elements of the tuple\r\n",
        "for animal in animals_list:\r\n",
        "  print(animal)"
      ],
      "execution_count": null,
      "outputs": [
        {
          "output_type": "stream",
          "text": [
            "dog\n",
            "cat\n",
            "elephant\n",
            "otter\n"
          ],
          "name": "stdout"
        }
      ]
    },
    {
      "cell_type": "code",
      "metadata": {
        "colab": {
          "base_uri": "https://localhost:8080/"
        },
        "id": "Alv8Txz-Y4xE",
        "outputId": "f0f38af0-c069-43d5-d265-8677b82f5def"
      },
      "source": [
        "# define a set\r\n",
        "names = {'oilivia', 'caleb', 'kaseem'}\r\n",
        "\r\n",
        "# loop over the set with for\r\n",
        "for name in names:\r\n",
        "  print(name)"
      ],
      "execution_count": null,
      "outputs": [
        {
          "output_type": "stream",
          "text": [
            "kaseem\n",
            "oilivia\n",
            "caleb\n"
          ],
          "name": "stdout"
        }
      ]
    },
    {
      "cell_type": "code",
      "metadata": {
        "colab": {
          "base_uri": "https://localhost:8080/"
        },
        "id": "0NuKEcdpZR0v",
        "outputId": "611392b8-0d8f-48db-e612-4e3fe79a57cf"
      },
      "source": [
        "# define a dictionary\r\n",
        "translations = {'a':1, 'b':2, 'c': 3}\r\n",
        "\r\n",
        "# loop over the dictionary\r\n",
        "\r\n",
        "# keys:\r\n",
        "for entry in translations:\r\n",
        "  print(entry)\r\n",
        "\r\n",
        "# values\r\n",
        "for entry in translations.values():\r\n",
        "  print(entry)"
      ],
      "execution_count": null,
      "outputs": [
        {
          "output_type": "stream",
          "text": [
            "a\n",
            "b\n",
            "c\n",
            "1\n",
            "2\n",
            "3\n"
          ],
          "name": "stdout"
        }
      ]
    },
    {
      "cell_type": "markdown",
      "metadata": {
        "id": "KEalfpcHZ6Jj"
      },
      "source": [
        "***List comprehension***\r\n",
        "* for loops can be written in a single line in python\r\n",
        " * using list comprehension"
      ]
    },
    {
      "cell_type": "code",
      "metadata": {
        "colab": {
          "base_uri": "https://localhost:8080/"
        },
        "id": "KO88FyziZxCS",
        "outputId": "ee322a85-7dc8-4939-a085-8b69999a64a5"
      },
      "source": [
        "# create a new list of powers of 0 to 9\r\n",
        "powers = [num**2 for num in range(10)] # a for loop defined with list comprehension\r\n",
        "\r\n",
        "print(powers)"
      ],
      "execution_count": null,
      "outputs": [
        {
          "output_type": "stream",
          "text": [
            "[0, 1, 4, 9, 16, 25, 36, 49, 64, 81]\n"
          ],
          "name": "stdout"
        }
      ]
    },
    {
      "cell_type": "markdown",
      "metadata": {
        "id": "nUG4hJWOaoth"
      },
      "source": [
        "***generator object***\r\n",
        "* is not explicitly executed at creation\r\n",
        "* the formula (expression) for creating values is stored inside the generator\r\n",
        "* the values are accessed with the next function"
      ]
    },
    {
      "cell_type": "code",
      "metadata": {
        "colab": {
          "base_uri": "https://localhost:8080/"
        },
        "id": "pAnnvPTRaj-S",
        "outputId": "34a11f21-a17f-4998-f780-6cc6260c5c91"
      },
      "source": [
        "# create a generator object with powers of 0 to 9\r\n",
        "powers = (num**2 for num in range(10))\r\n",
        "print(powers)\r\n",
        "\r\n",
        "next(powers) # call trhe first value in the generator"
      ],
      "execution_count": null,
      "outputs": [
        {
          "output_type": "stream",
          "text": [
            "<generator object <genexpr> at 0x7fe37b4fc888>\n"
          ],
          "name": "stdout"
        },
        {
          "output_type": "execute_result",
          "data": {
            "text/plain": [
              "0"
            ]
          },
          "metadata": {
            "tags": []
          },
          "execution_count": 31
        }
      ]
    },
    {
      "cell_type": "code",
      "metadata": {
        "colab": {
          "base_uri": "https://localhost:8080/"
        },
        "id": "wX8G-UQ6bmEw",
        "outputId": "85a8e5af-5fa7-4505-bbff-48d2e89ff723"
      },
      "source": [
        "next(powers)"
      ],
      "execution_count": null,
      "outputs": [
        {
          "output_type": "execute_result",
          "data": {
            "text/plain": [
              "1"
            ]
          },
          "metadata": {
            "tags": []
          },
          "execution_count": 32
        }
      ]
    },
    {
      "cell_type": "code",
      "metadata": {
        "colab": {
          "base_uri": "https://localhost:8080/"
        },
        "id": "3Ru8furGbr_z",
        "outputId": "ee6ff74b-aa28-4b95-8588-9abd6c1be3e2"
      },
      "source": [
        "next(powers)"
      ],
      "execution_count": null,
      "outputs": [
        {
          "output_type": "execute_result",
          "data": {
            "text/plain": [
              "4"
            ]
          },
          "metadata": {
            "tags": []
          },
          "execution_count": 33
        }
      ]
    },
    {
      "cell_type": "code",
      "metadata": {
        "colab": {
          "base_uri": "https://localhost:8080/"
        },
        "id": "BXz9qhfAbwNo",
        "outputId": "07e7cdf7-0a8b-41f8-ee8d-5701c0cda003"
      },
      "source": [
        "next(powers)"
      ],
      "execution_count": null,
      "outputs": [
        {
          "output_type": "execute_result",
          "data": {
            "text/plain": [
              "9"
            ]
          },
          "metadata": {
            "tags": []
          },
          "execution_count": 34
        }
      ]
    },
    {
      "cell_type": "code",
      "metadata": {
        "colab": {
          "base_uri": "https://localhost:8080/"
        },
        "id": "jdy33n6Obzws",
        "outputId": "2154026c-ff9d-4d15-8908-20eea69d1bf3"
      },
      "source": [
        "next(powers)"
      ],
      "execution_count": null,
      "outputs": [
        {
          "output_type": "execute_result",
          "data": {
            "text/plain": [
              "16"
            ]
          },
          "metadata": {
            "tags": []
          },
          "execution_count": 35
        }
      ]
    },
    {
      "cell_type": "markdown",
      "metadata": {
        "id": "2Kc4FI5hb_uM"
      },
      "source": [
        "***`nested \"for\" loops`***\r\n",
        "* for loops can be nested to achieve looping over multiple lists"
      ]
    },
    {
      "cell_type": "code",
      "metadata": {
        "colab": {
          "base_uri": "https://localhost:8080/"
        },
        "id": "05eGmg8Bb4XR",
        "outputId": "3aac983d-b10a-4421-ebc5-ca12bd033d3f"
      },
      "source": [
        "adjectives = ['juicy', 'big', 'tasty'] # list 1\r\n",
        "fruits = ['apple', 'bananas', 'oranges'] # list 2\r\n",
        "\r\n",
        "for fruit in fruits:\r\n",
        "  for adjective in adjectives:\r\n",
        "    print(adjective, fruit)"
      ],
      "execution_count": null,
      "outputs": [
        {
          "output_type": "stream",
          "text": [
            "juicy apple\n",
            "big apple\n",
            "tasty apple\n",
            "juicy bananas\n",
            "big bananas\n",
            "tasty bananas\n",
            "juicy oranges\n",
            "big oranges\n",
            "tasty oranges\n"
          ],
          "name": "stdout"
        }
      ]
    },
    {
      "cell_type": "markdown",
      "metadata": {
        "id": "mG8UuK7Fc_Gd"
      },
      "source": [
        "***`\"Break\" statement`***\r\n",
        "* stops a while loop even if the while condition is true"
      ]
    },
    {
      "cell_type": "code",
      "metadata": {
        "colab": {
          "base_uri": "https://localhost:8080/"
        },
        "id": "J-hIjsX3c5Lt",
        "outputId": "26584c6d-1bc8-4eee-b1f4-2f5f02a87546"
      },
      "source": [
        "n = 0\r\n",
        "while n < 6:\r\n",
        "  print(n)\r\n",
        "  if n == 3:\r\n",
        "    break # break loop when it is equal to 3\r\n",
        "  n += 1"
      ],
      "execution_count": null,
      "outputs": [
        {
          "output_type": "stream",
          "text": [
            "0\n",
            "1\n",
            "2\n",
            "3\n"
          ],
          "name": "stdout"
        }
      ]
    },
    {
      "cell_type": "markdown",
      "metadata": {
        "id": "TdbyhJ8sdpGa"
      },
      "source": [
        "* stops a for loop before it has looped through all the items"
      ]
    },
    {
      "cell_type": "code",
      "metadata": {
        "id": "lAeJislodgE8"
      },
      "source": [
        "fruits = ['apple', 'banana', 'cherry']\r\n",
        "for fruit in fruits:\r\n",
        "  print(fruit)\r\n",
        "  if fruit == 'banana':\r\n",
        "    break # break loop after printing banana"
      ],
      "execution_count": null,
      "outputs": []
    },
    {
      "cell_type": "markdown",
      "metadata": {
        "id": "qyUFVL69fkxz"
      },
      "source": [
        "**`\"continue\" statement`**\r\n",
        "* the continue statement stops the current iteration, and continues with the next\r\n"
      ]
    },
    {
      "cell_type": "code",
      "metadata": {
        "colab": {
          "base_uri": "https://localhost:8080/"
        },
        "id": "ZJ0AssIsgBQO",
        "outputId": "c96fa84f-a329-45c0-a784-15819835cd2a"
      },
      "source": [
        "n = 0\r\n",
        "while n < 6:\r\n",
        "  n += 1\r\n",
        "  if n == 3: # skip 3\r\n",
        "    continue\r\n",
        "  print(n)"
      ],
      "execution_count": null,
      "outputs": [
        {
          "output_type": "stream",
          "text": [
            "1\n",
            "2\n",
            "4\n",
            "5\n",
            "6\n"
          ],
          "name": "stdout"
        }
      ]
    },
    {
      "cell_type": "code",
      "metadata": {
        "colab": {
          "base_uri": "https://localhost:8080/"
        },
        "id": "Ru2tZ8RagWD4",
        "outputId": "9218a5fb-e871-42da-e022-a1822437581d"
      },
      "source": [
        "fruits = ['apple', 'banana', 'cherry']\r\n",
        "for x in fruits:\r\n",
        "  if x == 'banana': # skips banana\r\n",
        "    continue\r\n",
        "  print(x)"
      ],
      "execution_count": null,
      "outputs": [
        {
          "output_type": "stream",
          "text": [
            "apple\n",
            "cherry\n"
          ],
          "name": "stdout"
        }
      ]
    },
    {
      "cell_type": "markdown",
      "metadata": {
        "id": "O1LYA17Qg2cX"
      },
      "source": [
        "# **Indentation**\r\n",
        "* matters in Python\r\n",
        "* blocks of codes are denoted by indentation\r\n",
        "* if ..., while and for code examples above shows how indentation works\r\n",
        " * the codes below if, elif and else are indented\r\n",
        " * the code below while is indented\r\n",
        " * the code below for is indented\r\n",
        "* nested indentations:\r\n",
        " * when while, for and if statements are nested within each other, the code has to be further indented\r\n",
        " "
      ]
    },
    {
      "cell_type": "markdown",
      "metadata": {
        "id": "qVfaCgGeh7zB"
      },
      "source": [
        "##**`\"for\" and \"while\" loops`**\r\n",
        "* choosing the right loop type makes your code more legible and can also help prevent bugs\r\n",
        "* everything that can be written with a for loop can be written with a while loop, but while loops can solve problems that for loops don't address easily\r\n",
        "* you should usually write for loops when possible; use for loops when\r\n",
        " * you know the number of iterations you need to do e.g., 500 trials,\r\n",
        " * one operation per character in a string, or\r\n",
        " * an action on every element in a list\r\n",
        "* if you can describe the problem you are trying to solve in terms of each or every element in an iterable object, aim for a for loop.\r\n",
        "* benefits of a for loop:\r\n",
        " * using a for loop when possible will decrease the rist of writing an infite loop\r\n",
        " * will generally prevent you from running into errors with incrementing counter variables "
      ]
    },
    {
      "cell_type": "markdown",
      "metadata": {
        "id": "XFakM9QCktob"
      },
      "source": [
        "##**Exception Handling**\r\n",
        "* exception handling block framework\r\n",
        "```\r\n",
        "try:\r\n",
        "...\r\n",
        "except:\r\n",
        "...\r\n",
        "finally:\r\n",
        "...\r\n",
        "```\r\n",
        "* try block:\r\n",
        " * lets you test ablock of code for errors\r\n",
        "* except block:\r\n",
        " * lets you set the respose to an error\r\n",
        "* finally block:\r\n",
        " * execute code regardless of the outcome of the try-except block"
      ]
    },
    {
      "cell_type": "markdown",
      "metadata": {
        "id": "gGqeu7cXmIut"
      },
      "source": [
        "##***Exception Handling Examples***"
      ]
    },
    {
      "cell_type": "code",
      "metadata": {
        "id": "5bezHIIdgsi6"
      },
      "source": [
        "# setup an error handling block\r\n",
        "try:\r\n",
        "  print(x_val) # without defining x_val before, we try to print the value of x_val\r\n",
        "except:\r\n",
        "  print('An exception occured')\r\n",
        "\r\n",
        "'''\r\n",
        "here, since the try block code throws an error because"
      ],
      "execution_count": null,
      "outputs": []
    }
  ]
}