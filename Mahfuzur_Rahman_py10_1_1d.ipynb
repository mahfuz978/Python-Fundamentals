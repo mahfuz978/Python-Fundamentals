{
  "nbformat": 4,
  "nbformat_minor": 0,
  "metadata": {
    "colab": {
      "name": "Mahfuzur_Rahman_py10_1_1d.ipynb",
      "provenance": [],
      "collapsed_sections": [],
      "authorship_tag": "ABX9TyP8Ku/xeLEdYYgMIExWNUFl",
      "include_colab_link": true
    },
    "kernelspec": {
      "name": "python3",
      "display_name": "Python 3"
    }
  },
  "cells": [
    {
      "cell_type": "markdown",
      "metadata": {
        "id": "view-in-github",
        "colab_type": "text"
      },
      "source": [
        "<a href=\"https://colab.research.google.com/github/mahfuz978/TECH.I.S-Fundamentals/blob/main/Mahfuzur_Rahman_py10_1_1d.ipynb\" target=\"_parent\"><img src=\"https://colab.research.google.com/assets/colab-badge.svg\" alt=\"Open In Colab\"/></a>"
      ]
    },
    {
      "cell_type": "markdown",
      "metadata": {
        "id": "9842ELNPCenX"
      },
      "source": [
        "#**Python Module**\r\n",
        "* modules are files that have python code in them\r\n",
        " * and can be imported into other code files\r\n",
        "* a module is a a file containing a set of functions you want to include in you application\r\n",
        " * a module is the same as a code library\r\n",
        "* to create a module, just save the code you want in a file with the file extension `.py`"
      ]
    },
    {
      "cell_type": "markdown",
      "metadata": {
        "id": "8xlWjBJ5DSTL"
      },
      "source": [
        "##**Create a Module**\r\n",
        "* make a file `mymodule.py` and put the following code in it\r\n",
        "\r\n",
        "```\r\n",
        "def greeting(name):\r\n",
        "  print(\"Hello \" + name)\r\n",
        "\r\n",
        "```\r\n",
        "* then we can import the module we created using the import statement"
      ]
    },
    {
      "cell_type": "markdown",
      "metadata": {
        "id": "rPs-d--CGlOM"
      },
      "source": [
        "## **Use a Module**"
      ]
    },
    {
      "cell_type": "code",
      "metadata": {
        "colab": {
          "base_uri": "https://localhost:8080/"
        },
        "id": "6KDEuezLCWJ2",
        "outputId": "5c58d1d2-32bf-4aa0-e063-c6aa98edd0e8"
      },
      "source": [
        "# import model\r\n",
        "import mymodule\r\n",
        "\r\n",
        "# use the function greeting from mymodule\r\n",
        "mymodule.greeting(\"Jill\")\r\n"
      ],
      "execution_count": 1,
      "outputs": [
        {
          "output_type": "stream",
          "text": [
            "Hello Jill\n"
          ],
          "name": "stdout"
        }
      ]
    },
    {
      "cell_type": "markdown",
      "metadata": {
        "id": "Nl83BCWzKppL"
      },
      "source": [
        "##**Aliasing a Module**\r\n",
        "* you can create an alias when you import a module, using the as keyword"
      ]
    },
    {
      "cell_type": "code",
      "metadata": {
        "colab": {
          "base_uri": "https://localhost:8080/"
        },
        "id": "_3Jw_FpwHFbm",
        "outputId": "05369812-6b2c-403c-f78e-2eb91b22e29a"
      },
      "source": [
        "# import mymodule with alias 'mm'\r\n",
        "import mymodule as mm\r\n",
        "\r\n",
        "# call the function greeting from alias 'mm'\r\n",
        "mm.greeting('Jill')"
      ],
      "execution_count": 2,
      "outputs": [
        {
          "output_type": "stream",
          "text": [
            "Hello Jill\n"
          ],
          "name": "stdout"
        }
      ]
    },
    {
      "cell_type": "markdown",
      "metadata": {
        "id": "E_ygdk5PMATZ"
      },
      "source": [
        "#**Buil-in Modules**\r\n",
        "###**Datetime module - Built-in Module**\r\n",
        "* a date in Python is not a dtatype of its own, but we can import a module named `datetime` to work with dates as date objects\r\n",
        "\r\n",
        "#####***Python Date - .now()***"
      ]
    },
    {
      "cell_type": "code",
      "metadata": {
        "colab": {
          "base_uri": "https://localhost:8080/"
        },
        "id": "-gPAPfDxL-_2",
        "outputId": "96ccb681-7242-46cc-cbc1-35fe5d4fb502"
      },
      "source": [
        "import datetime\r\n",
        "\r\n",
        "time_now = datetime.datetime.now()\r\n",
        "\r\n",
        "print(time_now)\r\n",
        "\r\n",
        "print(time_now.year)\r\n",
        "\r\n",
        "print(time_now.day)\r\n",
        "\r\n",
        "print(time_now.strftime(\"%A\"))"
      ],
      "execution_count": 3,
      "outputs": [
        {
          "output_type": "stream",
          "text": [
            "2020-12-23 15:51:30.733939\n",
            "2020\n",
            "23\n",
            "Wednesday\n"
          ],
          "name": "stdout"
        }
      ]
    },
    {
      "cell_type": "markdown",
      "metadata": {
        "id": "HLIcIUhPOkHF"
      },
      "source": [
        "#####***Create a Datetime Object***"
      ]
    },
    {
      "cell_type": "code",
      "metadata": {
        "colab": {
          "base_uri": "https://localhost:8080/"
        },
        "id": "5-EL01f9OQrV",
        "outputId": "372cbb82-fb78-4440-b3d1-76407687773c"
      },
      "source": [
        "new_date = datetime.datetime(2020, 12, 2)\r\n",
        "\r\n",
        "print(new_date)"
      ],
      "execution_count": 4,
      "outputs": [
        {
          "output_type": "stream",
          "text": [
            "2020-12-02 00:00:00\n"
          ],
          "name": "stdout"
        }
      ]
    },
    {
      "cell_type": "markdown",
      "metadata": {
        "id": "SHttbsjSPjdp"
      },
      "source": [
        "#####***String format Time - `strftime`***\r\n",
        "* the datetime object has a method for formatting date objectsintp readable strings\r\n",
        "* the method is called `strftime()`, and takes one parameter, format, to specify the format of the returned string"
      ]
    },
    {
      "cell_type": "code",
      "metadata": {
        "colab": {
          "base_uri": "https://localhost:8080/"
        },
        "id": "nxACZkjZPPTH",
        "outputId": "a3c8794f-707d-4590-c18c-61519bc4a748"
      },
      "source": [
        "# create data\r\n",
        "x = datetime.datetime(2018,6,1)\r\n",
        "\r\n",
        "# get the weekday name\r\n",
        "print(x.strftime(\"%A\"))\r\n",
        "\r\n",
        "#month\r\n",
        "print(x.strftime(\"%B\"))\r\n",
        "\r\n",
        "#weekday\r\n",
        "print(x.strftime(\"%d\"))\r\n",
        "\r\n",
        "# Year\r\n",
        "print(x.strftime(\"%Y\"))"
      ],
      "execution_count": 5,
      "outputs": [
        {
          "output_type": "stream",
          "text": [
            "Friday\n",
            "June\n",
            "01\n",
            "2018\n"
          ],
          "name": "stdout"
        }
      ]
    },
    {
      "cell_type": "code",
      "metadata": {
        "id": "wroGZX2kQZto"
      },
      "source": [
        "import math"
      ],
      "execution_count": 6,
      "outputs": []
    },
    {
      "cell_type": "code",
      "metadata": {
        "colab": {
          "base_uri": "https://localhost:8080/"
        },
        "id": "diWyUt--RusH",
        "outputId": "b3062e26-3292-49ce-8b25-dc7fa0dcf05b"
      },
      "source": [
        "sq_root = math.sqrt(64)\r\n",
        "\r\n",
        "print(sq_root)"
      ],
      "execution_count": 7,
      "outputs": [
        {
          "output_type": "stream",
          "text": [
            "8.0\n"
          ],
          "name": "stdout"
        }
      ]
    },
    {
      "cell_type": "code",
      "metadata": {
        "colab": {
          "base_uri": "https://localhost:8080/"
        },
        "id": "imIsFt3CR4CY",
        "outputId": "73c057c2-f35b-47a7-c736-0cbd3514b5dd"
      },
      "source": [
        "round_higher = math.ceil(1.4)\r\n",
        "round_lower = math.floor(1.4)\r\n",
        "\r\n",
        "print(round_higher)\r\n",
        "print(round_lower)"
      ],
      "execution_count": 8,
      "outputs": [
        {
          "output_type": "stream",
          "text": [
            "2\n",
            "1\n"
          ],
          "name": "stdout"
        }
      ]
    },
    {
      "cell_type": "code",
      "metadata": {
        "colab": {
          "base_uri": "https://localhost:8080/"
        },
        "id": "JVA_uGfDSlck",
        "outputId": "532c012b-d1b4-4ce0-a0b0-06cc6dd68bba"
      },
      "source": [
        "pi_value = math.pi\r\n",
        "\r\n",
        "print(pi_value)"
      ],
      "execution_count": 9,
      "outputs": [
        {
          "output_type": "stream",
          "text": [
            "3.141592653589793\n"
          ],
          "name": "stdout"
        }
      ]
    },
    {
      "cell_type": "code",
      "metadata": {
        "colab": {
          "base_uri": "https://localhost:8080/"
        },
        "id": "M6vCexX_Srmy",
        "outputId": "de41ac1a-eb7b-44cb-817d-69f6da990c6c"
      },
      "source": [
        "import random\r\n",
        "\r\n",
        "random_integer = random.randint(0,9)\r\n",
        "print(random_integer)"
      ],
      "execution_count": 10,
      "outputs": [
        {
          "output_type": "stream",
          "text": [
            "2\n"
          ],
          "name": "stdout"
        }
      ]
    },
    {
      "cell_type": "code",
      "metadata": {
        "colab": {
          "base_uri": "https://localhost:8080/"
        },
        "id": "0qp3c6WHS5Uf",
        "outputId": "b22ef3c6-cf27-4ab7-9c12-55e65425e19c"
      },
      "source": [
        "random_number = random.randrange(9)\r\n",
        "print(random_number)"
      ],
      "execution_count": 11,
      "outputs": [
        {
          "output_type": "stream",
          "text": [
            "8\n"
          ],
          "name": "stdout"
        }
      ]
    },
    {
      "cell_type": "code",
      "metadata": {
        "id": "T9ui1NYQTCZG"
      },
      "source": [
        ""
      ],
      "execution_count": 11,
      "outputs": []
    }
  ]
}