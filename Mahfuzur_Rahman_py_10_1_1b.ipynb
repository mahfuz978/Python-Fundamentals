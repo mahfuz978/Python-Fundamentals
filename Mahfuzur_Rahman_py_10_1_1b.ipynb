{
  "nbformat": 4,
  "nbformat_minor": 0,
  "metadata": {
    "colab": {
      "name": "Mahfuzur_Rahman_py_10_1-1b.ipynb",
      "provenance": [],
      "collapsed_sections": [],
      "authorship_tag": "ABX9TyNkcmZ/l0F22zJ27sucjRin",
      "include_colab_link": true
    },
    "kernelspec": {
      "name": "python3",
      "display_name": "Python 3"
    }
  },
  "cells": [
    {
      "cell_type": "markdown",
      "metadata": {
        "id": "view-in-github",
        "colab_type": "text"
      },
      "source": [
        "<a href=\"https://colab.research.google.com/github/mahfuz978/TECH.I.S-Fundamentals/blob/main/Mahfuzur_Rahman_py_10_1_1b.ipynb\" target=\"_parent\"><img src=\"https://colab.research.google.com/assets/colab-badge.svg\" alt=\"Open In Colab\"/></a>"
      ]
    },
    {
      "cell_type": "markdown",
      "metadata": {
        "id": "tT6Y2yh188A2"
      },
      "source": [
        "#**Strings**\r\n",
        "* strings are *ordered* sequence of characters\r\n",
        "* strings are *immutable*\r\n",
        " * i.e. cannot be modified after being created"
      ]
    },
    {
      "cell_type": "markdown",
      "metadata": {
        "id": "_evPEmUB_7KO"
      },
      "source": [
        "**Defining Strings**"
      ]
    },
    {
      "cell_type": "code",
      "metadata": {
        "id": "MLgNXYXn8WKT",
        "colab": {
          "base_uri": "https://localhost:8080/"
        },
        "outputId": "4a937229-9fda-418f-84af-d038ffd2bbec"
      },
      "source": [
        "name_one = 'TECH I.S.' # singe quotes\r\n",
        "print(name_one)\r\n",
        "\r\n",
        "name_two = \"TECH I.S.\" # double quotes\r\n",
        "print(name_two)\r\n",
        "\r\n",
        "name_three =\"\"\"\r\n",
        "multiline\r\n",
        "support with triple single quotes or double\r\n",
        "\"\"\"\r\n",
        "print(name_three)\r\n",
        "\r\n",
        "name_four = 'Hello! i am \"MAHFUZUR\", a Tech I.S student.'\r\n",
        "print(name_four)\r\n"
      ],
      "execution_count": 24,
      "outputs": [
        {
          "output_type": "stream",
          "text": [
            "TECH I.S.\n",
            "TECH I.S.\n",
            "\n",
            "multiline\n",
            "support with triple single quotes or double\n",
            "\n",
            "Hello! i am \"MAHFUZUR\", a Tech I.S student.\n"
          ],
          "name": "stdout"
        }
      ]
    },
    {
      "cell_type": "markdown",
      "metadata": {
        "id": "9aq_wH9L_5Lg"
      },
      "source": [
        "**String Immutability Test**"
      ]
    },
    {
      "cell_type": "code",
      "metadata": {
        "colab": {
          "base_uri": "https://localhost:8080/",
          "height": 217
        },
        "id": "IE0aTYdb_qMV",
        "outputId": "107500b5-fcc4-46ec-9ae4-6ec02d25b96d"
      },
      "source": [
        "# define_string\r\n",
        "s = 'hello'\r\n",
        "s[0] = 'y' # it shows error because it doesn't support item assignment/ can't be moved"
      ],
      "execution_count": 26,
      "outputs": [
        {
          "output_type": "error",
          "ename": "TypeError",
          "evalue": "ignored",
          "traceback": [
            "\u001b[0;31m---------------------------------------------------------------------------\u001b[0m",
            "\u001b[0;31mTypeError\u001b[0m                                 Traceback (most recent call last)",
            "\u001b[0;32m<ipython-input-26-a3cbf0fdce1b>\u001b[0m in \u001b[0;36m<module>\u001b[0;34m()\u001b[0m\n\u001b[1;32m      1\u001b[0m \u001b[0;31m# define_string\u001b[0m\u001b[0;34m\u001b[0m\u001b[0;34m\u001b[0m\u001b[0;34m\u001b[0m\u001b[0m\n\u001b[1;32m      2\u001b[0m \u001b[0ms\u001b[0m \u001b[0;34m=\u001b[0m \u001b[0;34m'hello'\u001b[0m\u001b[0;34m\u001b[0m\u001b[0;34m\u001b[0m\u001b[0m\n\u001b[0;32m----> 3\u001b[0;31m \u001b[0ms\u001b[0m\u001b[0;34m[\u001b[0m\u001b[0;36m0\u001b[0m\u001b[0;34m]\u001b[0m \u001b[0;34m=\u001b[0m \u001b[0;34m'y'\u001b[0m \u001b[0;31m# it shows error because it doesn't support item assignment/ can't be moved\u001b[0m\u001b[0;34m\u001b[0m\u001b[0;34m\u001b[0m\u001b[0m\n\u001b[0m",
            "\u001b[0;31mTypeError\u001b[0m: 'str' object does not support item assignment"
          ]
        }
      ]
    },
    {
      "cell_type": "code",
      "metadata": {
        "colab": {
          "base_uri": "https://localhost:8080/"
        },
        "id": "Cc8IWEUwArNA",
        "outputId": "d65722ca-8f65-4875-eb5b-5cf0b7e5555d"
      },
      "source": [
        "\"\"\"\r\n",
        "however, rebinding works\r\n",
        "reassigning s with 'y' concatenatedwith 'ello' extracted from s\r\n",
        "\"\"\"\r\n",
        "s = 'y'+ s[1:len(s)] + 'w'\r\n",
        "print(s)"
      ],
      "execution_count": 27,
      "outputs": [
        {
          "output_type": "stream",
          "text": [
            "yellow\n"
          ],
          "name": "stdout"
        }
      ]
    },
    {
      "cell_type": "markdown",
      "metadata": {
        "id": "_Tj4c0hPCwWM"
      },
      "source": [
        "**String Concatenation**"
      ]
    },
    {
      "cell_type": "code",
      "metadata": {
        "colab": {
          "base_uri": "https://localhost:8080/"
        },
        "id": "GXdiAXQFCFdb",
        "outputId": "f6ed2094-7ea0-4235-b2b6-9a5712392616"
      },
      "source": [
        "first_name = 'Mahfuzur'\r\n",
        "last_name = 'Rahman'\r\n",
        "full_name = first_name + \" \" + last_name\r\n",
        "print(full_name)"
      ],
      "execution_count": 28,
      "outputs": [
        {
          "output_type": "stream",
          "text": [
            "Mahfuzur Rahman\n"
          ],
          "name": "stdout"
        }
      ]
    },
    {
      "cell_type": "markdown",
      "metadata": {
        "id": "0nX-XLVPDkYb"
      },
      "source": [
        "**String Multiplication**"
      ]
    },
    {
      "cell_type": "code",
      "metadata": {
        "colab": {
          "base_uri": "https://localhost:8080/"
        },
        "id": "TycUmr3_DSC1",
        "outputId": "f98e4de0-7771-49a9-9467-834fcef88726"
      },
      "source": [
        "name = 'Hyato '\r\n",
        "print(name)\r\n",
        "name_thrice = name*3\r\n",
        "print(name_thrice)\r\n",
        "print(name*4)\r\n",
        "print(name*10)"
      ],
      "execution_count": 29,
      "outputs": [
        {
          "output_type": "stream",
          "text": [
            "Hyato \n",
            "Hyato Hyato Hyato \n",
            "Hyato Hyato Hyato Hyato \n",
            "Hyato Hyato Hyato Hyato Hyato Hyato Hyato Hyato Hyato Hyato \n"
          ],
          "name": "stdout"
        }
      ]
    },
    {
      "cell_type": "markdown",
      "metadata": {
        "id": "-R8EcVRMEN17"
      },
      "source": [
        "**String Length**"
      ]
    },
    {
      "cell_type": "code",
      "metadata": {
        "colab": {
          "base_uri": "https://localhost:8080/"
        },
        "id": "LJLIbGO8EBoP",
        "outputId": "201bb57e-19f7-48b2-c017-52208a5fb87e"
      },
      "source": [
        "# to check the length of the string\r\n",
        "name = 'Mahfuzur Rahman'\r\n",
        "len(name)"
      ],
      "execution_count": 30,
      "outputs": [
        {
          "output_type": "execute_result",
          "data": {
            "text/plain": [
              "15"
            ]
          },
          "metadata": {
            "tags": []
          },
          "execution_count": 30
        }
      ]
    },
    {
      "cell_type": "code",
      "metadata": {
        "colab": {
          "base_uri": "https://localhost:8080/"
        },
        "id": "523wBCzNEapw",
        "outputId": "a7d5840f-5d0d-4974-a75d-68f716c66bd3"
      },
      "source": [
        "counter = 0\r\n",
        "for c in \"Mahfuzur Rahman\":\r\n",
        "  counter += 1\r\n",
        "print(counter)"
      ],
      "execution_count": 31,
      "outputs": [
        {
          "output_type": "stream",
          "text": [
            "15\n"
          ],
          "name": "stdout"
        }
      ]
    },
    {
      "cell_type": "markdown",
      "metadata": {
        "id": "xVGcXYeHFpnn"
      },
      "source": [
        "**String Indexing**"
      ]
    },
    {
      "cell_type": "code",
      "metadata": {
        "colab": {
          "base_uri": "https://localhost:8080/",
          "height": 304
        },
        "id": "12HUSLiSFGHx",
        "outputId": "9152b830-9271-4f2a-f579-3ea89b0b92ae"
      },
      "source": [
        "# define a string\r\n",
        "s = \"abc\"\r\n",
        "\r\n",
        "# indexing starts from 0 in python\r\n",
        "\r\n",
        "# use square brackets and the index number to access the the data\r\n",
        "print(s[0])\r\n",
        "print(s[1])\r\n",
        "print(s[2])\r\n",
        "\r\n",
        "print(s[-1])\r\n",
        "print(s[-2])\r\n",
        "print(s[-3])\r\n",
        "\r\n",
        "print(s[3]) # this will give you an error because it doesn't exist"
      ],
      "execution_count": 32,
      "outputs": [
        {
          "output_type": "stream",
          "text": [
            "a\n",
            "b\n",
            "c\n",
            "c\n",
            "b\n",
            "a\n"
          ],
          "name": "stdout"
        },
        {
          "output_type": "error",
          "ename": "IndexError",
          "evalue": "ignored",
          "traceback": [
            "\u001b[0;31m---------------------------------------------------------------------------\u001b[0m",
            "\u001b[0;31mIndexError\u001b[0m                                Traceback (most recent call last)",
            "\u001b[0;32m<ipython-input-32-e7535490fba1>\u001b[0m in \u001b[0;36m<module>\u001b[0;34m()\u001b[0m\n\u001b[1;32m     13\u001b[0m \u001b[0mprint\u001b[0m\u001b[0;34m(\u001b[0m\u001b[0ms\u001b[0m\u001b[0;34m[\u001b[0m\u001b[0;34m-\u001b[0m\u001b[0;36m3\u001b[0m\u001b[0;34m]\u001b[0m\u001b[0;34m)\u001b[0m\u001b[0;34m\u001b[0m\u001b[0;34m\u001b[0m\u001b[0m\n\u001b[1;32m     14\u001b[0m \u001b[0;34m\u001b[0m\u001b[0m\n\u001b[0;32m---> 15\u001b[0;31m \u001b[0mprint\u001b[0m\u001b[0;34m(\u001b[0m\u001b[0ms\u001b[0m\u001b[0;34m[\u001b[0m\u001b[0;36m3\u001b[0m\u001b[0;34m]\u001b[0m\u001b[0;34m)\u001b[0m \u001b[0;31m# this will give you an error because it doesn't exist\u001b[0m\u001b[0;34m\u001b[0m\u001b[0;34m\u001b[0m\u001b[0m\n\u001b[0m",
            "\u001b[0;31mIndexError\u001b[0m: string index out of range"
          ]
        }
      ]
    },
    {
      "cell_type": "markdown",
      "metadata": {
        "id": "QbgDwWNIGygS"
      },
      "source": [
        "**String Slicing**\r\n",
        "* extract sub-selections of a string\r\n",
        "* slice strings using format `[start:stop:step]`\r\n",
        " * step = 1 by default\r\n",
        " * you may also omit numbers and use only colons (:)\r\n"
      ]
    },
    {
      "cell_type": "code",
      "metadata": {
        "colab": {
          "base_uri": "https://localhost:8080/"
        },
        "id": "qs8M4UKQGmtI",
        "outputId": "18be5c53-1d25-4848-f790-9a7d92efc4ff"
      },
      "source": [
        "s = \"abcdefgh\"\r\n",
        "\r\n",
        "print(s[3:6])\r\n",
        "print(s[3:6:1])\r\n",
        "print(s[3:6:2])\r\n",
        "print(s[::])\r\n",
        "print(s[::-1])\r\n",
        "print(s[4:1:-2])"
      ],
      "execution_count": 33,
      "outputs": [
        {
          "output_type": "stream",
          "text": [
            "def\n",
            "def\n",
            "df\n",
            "abcdefgh\n",
            "hgfedcba\n",
            "ec\n"
          ],
          "name": "stdout"
        }
      ]
    },
    {
      "cell_type": "markdown",
      "metadata": {
        "id": "Lhbd1moZ-Mc0"
      },
      "source": [
        "#**Lists**\r\n",
        "\r\n",
        "* lists are ordered sequences od objects\r\n",
        " * they are mutable"
      ]
    },
    {
      "cell_type": "code",
      "metadata": {
        "id": "FpFMtRE3JEvW",
        "colab": {
          "base_uri": "https://localhost:8080/"
        },
        "outputId": "f9999973-8eb0-4bce-a3c3-2d1530210919"
      },
      "source": [
        "# define a list\r\n",
        "new_list = [3,7,20,'@ ', 'TECH I.S.', ' makes learning fun!']\r\n",
        "\r\n",
        "# view list \r\n",
        "print(new_list)\r\n"
      ],
      "execution_count": 34,
      "outputs": [
        {
          "output_type": "stream",
          "text": [
            "[3, 7, 20, '@ ', 'TECH I.S.', ' makes learning fun!']\n"
          ],
          "name": "stdout"
        }
      ]
    },
    {
      "cell_type": "markdown",
      "metadata": {
        "id": "laAl7NVn_egb"
      },
      "source": [
        "***Accessing List Elements***\r\n",
        "* indexing in lists works just like strings \r\n",
        "* indexing starts from zero"
      ]
    },
    {
      "cell_type": "code",
      "metadata": {
        "colab": {
          "base_uri": "https://localhost:8080/"
        },
        "id": "9PUd63lC_RvO",
        "outputId": "65d3e732-66a2-4e84-b438-7d40b439e1e6"
      },
      "source": [
        "# define a list\r\n",
        "new_list = [3,7,20,'@', 'TECH I.S.', 'makes learning fun!']\r\n",
        "\r\n",
        "print(new_list[0]) # will print the first element\r\n",
        "print(new_list[1]) # will print the second element\r\n",
        "print(new_list[2]) # will print the third element\r\n",
        "print(new_list[3]) # will print the fourth element\r\n",
        "\r\n",
        "print(new_list[-1]) # will print the first element from opposite direction\r\n",
        "print(new_list[-2]) # will print the second element from opposite direction\r\n",
        "print(new_list[-3]) # will print the third element from opposite direction\r\n",
        "print(new_list[-4]) # will print the fourth element from opposite direction"
      ],
      "execution_count": 35,
      "outputs": [
        {
          "output_type": "stream",
          "text": [
            "3\n",
            "7\n",
            "20\n",
            "@\n",
            "makes learning fun!\n",
            "TECH I.S.\n",
            "@\n",
            "20\n"
          ],
          "name": "stdout"
        }
      ]
    },
    {
      "cell_type": "markdown",
      "metadata": {
        "id": "3phnFCx-Ds11"
      },
      "source": [
        "***Nested Lists***\r\n",
        "* lists can be embedded inside lists\r\n",
        " * multiple nesting is also supported"
      ]
    },
    {
      "cell_type": "code",
      "metadata": {
        "colab": {
          "base_uri": "https://localhost:8080/"
        },
        "id": "AV0T7YlODYgS",
        "outputId": "a05e80e9-d7ed-4897-a923-6d60f148a5de"
      },
      "source": [
        "# define nested lists\r\n",
        "nested_list = [\r\n",
        "               [1,2,3],\r\n",
        "               ['a', 'b', 'c'],\r\n",
        "               [True, False, 7],\r\n",
        "              ]\r\n",
        "\r\n",
        "# check nested list \r\n",
        "print(nested_list)"
      ],
      "execution_count": 36,
      "outputs": [
        {
          "output_type": "stream",
          "text": [
            "[[1, 2, 3], ['a', 'b', 'c'], [True, False, 7]]\n"
          ],
          "name": "stdout"
        }
      ]
    },
    {
      "cell_type": "markdown",
      "metadata": {
        "id": "t_eGIPyzEpE6"
      },
      "source": [
        "***List Mutablity Test***"
      ]
    },
    {
      "cell_type": "code",
      "metadata": {
        "colab": {
          "base_uri": "https://localhost:8080/"
        },
        "id": "Ds38JFBGEhT5",
        "outputId": "388f3fa1-c545-45b9-a1e0-ea765cc9c981"
      },
      "source": [
        "# define list\r\n",
        "new_list = [3,7,20,'@', 'TECH I.S.', 'makes learning fun!']\r\n",
        "\r\n",
        "# try changing content in the list\r\n",
        "new_list[2] = 'one' # accepts change\r\n",
        "\r\n",
        "# check list\r\n",
        "print(new_list)"
      ],
      "execution_count": 37,
      "outputs": [
        {
          "output_type": "stream",
          "text": [
            "[3, 7, 'one', '@', 'TECH I.S.', 'makes learning fun!']\n"
          ],
          "name": "stdout"
        }
      ]
    },
    {
      "cell_type": "markdown",
      "metadata": {
        "id": "eN5ghvonKwKH"
      },
      "source": [
        "***Append to list***\r\n",
        "* append can add *only one* element at the end of the list at a time"
      ]
    },
    {
      "cell_type": "code",
      "metadata": {
        "colab": {
          "base_uri": "https://localhost:8080/"
        },
        "id": "-nO411Y2KraE",
        "outputId": "233044a4-c8ea-4cbf-f153-a100e9773666"
      },
      "source": [
        "# define a list\r\n",
        "new_list = [3,7,20,'@', 'TECH I.S.', 'makes learning fun']\r\n",
        "\r\n",
        "# print new list\r\n",
        "print(new_list)"
      ],
      "execution_count": 38,
      "outputs": [
        {
          "output_type": "stream",
          "text": [
            "[3, 7, 20, '@', 'TECH I.S.', 'makes learning fun']\n"
          ],
          "name": "stdout"
        }
      ]
    },
    {
      "cell_type": "code",
      "metadata": {
        "colab": {
          "base_uri": "https://localhost:8080/"
        },
        "id": "IXBAt1H2LXYV",
        "outputId": "d19cd763-e503-4b9f-80dd-d507e0999e4f"
      },
      "source": [
        "# append 'wohoo' to the new_list\r\n",
        "new_list.append('wohoo!')\r\n",
        "\r\n",
        "# check the appended value\r\n",
        "print(new_list)"
      ],
      "execution_count": 39,
      "outputs": [
        {
          "output_type": "stream",
          "text": [
            "[3, 7, 20, '@', 'TECH I.S.', 'makes learning fun', 'wohoo!']\n"
          ],
          "name": "stdout"
        }
      ]
    },
    {
      "cell_type": "markdown",
      "metadata": {
        "id": "tcR4jS2WMBhG"
      },
      "source": [
        "***Extend List***\r\n",
        "* used to add multiple elements at the end of the list"
      ]
    },
    {
      "cell_type": "code",
      "metadata": {
        "colab": {
          "base_uri": "https://localhost:8080/"
        },
        "id": "PXEZyvxKLspX",
        "outputId": "8634c817-977c-408a-c2a1-c9cb68e803c5"
      },
      "source": [
        "# define a list\r\n",
        "new_list = [3,7,20, 'TECH I.S.', 'makes learning fun!']\r\n",
        "\r\n",
        "print(new_list)"
      ],
      "execution_count": 40,
      "outputs": [
        {
          "output_type": "stream",
          "text": [
            "[3, 7, 20, 'TECH I.S.', 'makes learning fun!']\n"
          ],
          "name": "stdout"
        }
      ]
    },
    {
      "cell_type": "code",
      "metadata": {
        "colab": {
          "base_uri": "https://localhost:8080/"
        },
        "id": "xBz5pmQAM70h",
        "outputId": "2da3554b-4100-4bf4-be98-3d67cce942d3"
      },
      "source": [
        "# extend the new_list variable with multiple elements ina an array\r\n",
        "new_list.extend(['let,s', 'do', 'this!'])\r\n",
        "# note: multiple elements have to be input in array\r\n",
        "\r\n",
        "print(new_list)"
      ],
      "execution_count": 41,
      "outputs": [
        {
          "output_type": "stream",
          "text": [
            "[3, 7, 20, 'TECH I.S.', 'makes learning fun!', 'let,s', 'do', 'this!']\n"
          ],
          "name": "stdout"
        }
      ]
    },
    {
      "cell_type": "markdown",
      "metadata": {
        "id": "PyrTAMTFA2zj"
      },
      "source": [
        "***Insert To List***\r\n",
        "* can add an element at a given position in the list\r\n",
        "* can add only one element at the time\r\n",
        "* two arguments:\r\n",
        " * first argument specifies the position\r\n",
        " * second argument specifies the element to be inserted "
      ]
    },
    {
      "cell_type": "code",
      "metadata": {
        "id": "fXoia_qlNTk3",
        "colab": {
          "base_uri": "https://localhost:8080/"
        },
        "outputId": "51d05c5e-1043-4f95-e9d8-ea8393f6a73e"
      },
      "source": [
        "# define list\r\n",
        "new_list = [3,7,20,'@', 'TECH I.S.', 'makes learning fun!']\r\n",
        "\r\n",
        "# insert element 'Chocolate' at spot 3 in a new_list\r\n",
        "new_list.insert(3, 'Chocolate')\r\n",
        "\r\n",
        "# check insertion\r\n",
        "print(new_list)"
      ],
      "execution_count": 42,
      "outputs": [
        {
          "output_type": "stream",
          "text": [
            "[3, 7, 20, 'Chocolate', '@', 'TECH I.S.', 'makes learning fun!']\n"
          ],
          "name": "stdout"
        }
      ]
    },
    {
      "cell_type": "code",
      "metadata": {
        "id": "BISAxjPnFVs7"
      },
      "source": [
        "new_list.insert(4,'cookies')"
      ],
      "execution_count": 43,
      "outputs": []
    },
    {
      "cell_type": "code",
      "metadata": {
        "colab": {
          "base_uri": "https://localhost:8080/"
        },
        "id": "H1N8lUqNFoMU",
        "outputId": "65ba9cdc-9e6e-4dfa-f138-399a88ebbe00"
      },
      "source": [
        "print(new_list)"
      ],
      "execution_count": 44,
      "outputs": [
        {
          "output_type": "stream",
          "text": [
            "[3, 7, 20, 'Chocolate', 'cookies', '@', 'TECH I.S.', 'makes learning fun!']\n"
          ],
          "name": "stdout"
        }
      ]
    },
    {
      "cell_type": "markdown",
      "metadata": {
        "id": "1OO3xs7NFuy7"
      },
      "source": [
        "***Remove from List***\r\n",
        "* used to remove an element from the list\r\n",
        " * in the case of multiple occurrences, only the first is removed"
      ]
    },
    {
      "cell_type": "code",
      "metadata": {
        "colab": {
          "base_uri": "https://localhost:8080/"
        },
        "id": "iysCMkjfFq6T",
        "outputId": "d21d8562-4a17-4065-bf98-0f186818df64"
      },
      "source": [
        "# define list\r\n",
        "new_list = [3,7,20,'@', 'TECH I.S.', 'makes learning fun']\r\n",
        "\r\n",
        "# remove 20 from the new list\r\n",
        "new_list.remove(20)\r\n",
        "\r\n",
        "# check removal\r\n",
        "print(new_list)"
      ],
      "execution_count": 45,
      "outputs": [
        {
          "output_type": "stream",
          "text": [
            "[3, 7, '@', 'TECH I.S.', 'makes learning fun']\n"
          ],
          "name": "stdout"
        }
      ]
    },
    {
      "cell_type": "markdown",
      "metadata": {
        "id": "RL6LhZgRGlef"
      },
      "source": [
        "***Pop from List***\r\n",
        "* can remove an element from any position in the list\r\n",
        " * removes index item\r\n",
        "* element is not specified like in remove() method, inly the index option"
      ]
    },
    {
      "cell_type": "code",
      "metadata": {
        "id": "TDBW4Q_aGjSo",
        "colab": {
          "base_uri": "https://localhost:8080/"
        },
        "outputId": "19317644-8ccc-4220-c9b9-922252809f39"
      },
      "source": [
        "# define list\r\n",
        "new_list = [3,7,20,'@', 'TECH I.S.', 'makes lerning fun!']\r\n",
        "\r\n",
        "# pop spot 2 from list\r\n",
        "new_list.pop(2)\r\n",
        "\r\n",
        "# check listr\r\n",
        "print(new_list)"
      ],
      "execution_count": 46,
      "outputs": [
        {
          "output_type": "stream",
          "text": [
            "[3, 7, '@', 'TECH I.S.', 'makes lerning fun!']\n"
          ],
          "name": "stdout"
        }
      ]
    },
    {
      "cell_type": "markdown",
      "metadata": {
        "id": "r1cj7_bZJt9L"
      },
      "source": [
        "***remove() vs. pop()***\r\n",
        "*  the remove() function removes an element by identification\r\n",
        " * new_list.remove(element_to_remove)\r\n",
        "* the pop() function removes an element by index indentification\r\n",
        " * new_list.remove(index_number_to_remove)\r\n"
      ]
    },
    {
      "cell_type": "markdown",
      "metadata": {
        "id": "aMoe7YP9ooSw"
      },
      "source": [
        "***List Slicing***\r\n",
        "* used to extract a sub-selection of the list\r\n",
        " * index access works like string indexing and slicing"
      ]
    },
    {
      "cell_type": "code",
      "metadata": {
        "id": "VS3PHn8_JpeO",
        "colab": {
          "base_uri": "https://localhost:8080/"
        },
        "outputId": "b5284381-104b-4f58-92b5-7a704270ddac"
      },
      "source": [
        "# define list\r\n",
        "new_list = [3,7,20,'@', 'TECH I.S.', 'makes learning fun!']\r\n",
        "\r\n",
        "# extract combinations of new_list extracts\r\n",
        "print(new_list[:4])\r\n",
        "print(new_list[2:])\r\n",
        "print(new_list[1:5])\r\n",
        "print(new_list[:])"
      ],
      "execution_count": 47,
      "outputs": [
        {
          "output_type": "stream",
          "text": [
            "[3, 7, 20, '@']\n",
            "[20, '@', 'TECH I.S.', 'makes learning fun!']\n",
            "[7, 20, '@', 'TECH I.S.']\n",
            "[3, 7, 20, '@', 'TECH I.S.', 'makes learning fun!']\n"
          ],
          "name": "stdout"
        }
      ]
    },
    {
      "cell_type": "markdown",
      "metadata": {
        "id": "CSvVc74Ip3cW"
      },
      "source": [
        "***Reverse a List***\r\n",
        "* used to reverse the elements of a list\r\n",
        "* can be done in two ways\r\n",
        " * by modifying the original list\r\n",
        " * without modifying the original list"
      ]
    },
    {
      "cell_type": "code",
      "metadata": {
        "colab": {
          "base_uri": "https://localhost:8080/"
        },
        "id": "W8f9nauLpv0X",
        "outputId": "bd3661df-9e06-460d-d674-3f3946732dd9"
      },
      "source": [
        "# define list\r\n",
        "new_list = [3, 7, 20, '@', 'TECH I.S.', 'MAKES LEARNING FUN']\r\n",
        "\r\n",
        "# without modifying the original list\r\n",
        "print(new_list[::-1])\r\n",
        "print(new_list) # this is the unmodified one in the middle\r\n",
        "\r\n",
        "# modify the original list\r\n",
        "new_list.reverse()\r\n",
        "print(new_list)"
      ],
      "execution_count": 48,
      "outputs": [
        {
          "output_type": "stream",
          "text": [
            "['MAKES LEARNING FUN', 'TECH I.S.', '@', 20, 7, 3]\n",
            "[3, 7, 20, '@', 'TECH I.S.', 'MAKES LEARNING FUN']\n",
            "['MAKES LEARNING FUN', 'TECH I.S.', '@', 20, 7, 3]\n"
          ],
          "name": "stdout"
        }
      ]
    },
    {
      "cell_type": "markdown",
      "metadata": {
        "id": "mTSnCpiRra7D"
      },
      "source": [
        "***Length of a List***\r\n",
        "* returns the number of elements in the list"
      ]
    },
    {
      "cell_type": "code",
      "metadata": {
        "colab": {
          "base_uri": "https://localhost:8080/"
        },
        "id": "3DOXApSarKRN",
        "outputId": "52e74148-bc5f-4563-cfda-d1cffdc0e00c"
      },
      "source": [
        "# define list\r\n",
        "new_list = [3,7,20, '@', 'TECHI.S.', 'makes learning really fun!']\r\n",
        "\r\n",
        "# print length of new_list\r\n",
        "len(new_list)"
      ],
      "execution_count": 49,
      "outputs": [
        {
          "output_type": "execute_result",
          "data": {
            "text/plain": [
              "6"
            ]
          },
          "metadata": {
            "tags": []
          },
          "execution_count": 49
        }
      ]
    },
    {
      "cell_type": "markdown",
      "metadata": {
        "id": "Fpmle8hPsRQx"
      },
      "source": [
        "***Min & Max Values of a List***\r\n",
        "* min() returns the *minimum* value in the list\r\n",
        "* max() returns the *maximum* value in the list\r\n",
        "* NOTE: both methods accept only *homogeneous* lists\r\n",
        " * i.e. list having elements of similar data types"
      ]
    },
    {
      "cell_type": "code",
      "metadata": {
        "colab": {
          "base_uri": "https://localhost:8080/"
        },
        "id": "qX4nMrpcsO6H",
        "outputId": "1e44974a-fc4a-4fc0-f633-d15e1aa149e8"
      },
      "source": [
        "# define list\r\n",
        "new_list = [8,12,7,10,53,33,21,99]\r\n",
        "\r\n",
        "# check min and max of new list\r\n",
        "print(min(new_list))\r\n",
        "print(max(new_list))\r\n",
        "\r\n",
        "# define list\r\n",
        "new_list = ['x', '10', '99', 'twenty', '%$', '--']\r\n",
        "\r\n",
        "# check the min and max of new_list\r\n",
        "print(min(new_list))\r\n",
        "print(max(new_list))"
      ],
      "execution_count": 50,
      "outputs": [
        {
          "output_type": "stream",
          "text": [
            "7\n",
            "99\n",
            "%$\n",
            "x\n"
          ],
          "name": "stdout"
        }
      ]
    },
    {
      "cell_type": "markdown",
      "metadata": {
        "id": "y3HyHIIOvTjr"
      },
      "source": [
        "***Count of an Element***\r\n",
        "* returns the number of uccurrences of a given element in the list"
      ]
    },
    {
      "cell_type": "code",
      "metadata": {
        "colab": {
          "base_uri": "https://localhost:8080/"
        },
        "id": "Lu3SUJ1Mt6XF",
        "outputId": "8003d383-6464-47af-93c0-2762f7212130"
      },
      "source": [
        "# define list\r\n",
        "new_list = [3, 4 , 7, 7 , 8, 90]\r\n",
        "\r\n",
        "# count the number of uccurences of 7\r\n",
        "print(new_list.count(7))\r\n",
        "\r\n",
        "# count the number of uccurences of 10\r\n",
        "print(new_list.count(4))"
      ],
      "execution_count": 51,
      "outputs": [
        {
          "output_type": "stream",
          "text": [
            "2\n",
            "1\n"
          ],
          "name": "stdout"
        }
      ]
    },
    {
      "cell_type": "markdown",
      "metadata": {
        "id": "mf5yj-Lu8CcS"
      },
      "source": [
        "***Concatenate Lists***\r\n",
        "* used to merge two lists and return a single list"
      ]
    },
    {
      "cell_type": "code",
      "metadata": {
        "colab": {
          "base_uri": "https://localhost:8080/"
        },
        "id": "Kk05z5Lb7951",
        "outputId": "c7f11944-9a28-4dbb-8e8a-06230956a21f"
      },
      "source": [
        "# define two lists\r\n",
        "first_list = ['three', 'hundred']\r\n",
        "print(first_list)\r\n",
        "\r\n",
        "second_list = ['words', 'in', 'a', 'paragraph']\r\n",
        "print(second_list)\r\n",
        "\r\n",
        "# concatenate lists\r\n",
        "combined_list = first_list + second_list\r\n",
        "print(combined_list)"
      ],
      "execution_count": 52,
      "outputs": [
        {
          "output_type": "stream",
          "text": [
            "['three', 'hundred']\n",
            "['words', 'in', 'a', 'paragraph']\n",
            "['three', 'hundred', 'words', 'in', 'a', 'paragraph']\n"
          ],
          "name": "stdout"
        }
      ]
    },
    {
      "cell_type": "markdown",
      "metadata": {
        "id": "xUIjMt8u-JKi"
      },
      "source": [
        "***Multiply List Content***\r\n",
        "* allows duplicating the list n times\r\n",
        "* resultant list is the original list iterated n times\r\n"
      ]
    },
    {
      "cell_type": "code",
      "metadata": {
        "colab": {
          "base_uri": "https://localhost:8080/"
        },
        "id": "uakxOt-O9tcF",
        "outputId": "da370225-c3df-4944-f33d-1b5a84ca8934"
      },
      "source": [
        "# define list\r\n",
        "new_list = [3,4,5,'I a']\r\n",
        "\r\n",
        "# multiply list\r\n",
        "print(new_list*2)\r\n",
        "print(new_list*3)"
      ],
      "execution_count": 53,
      "outputs": [
        {
          "output_type": "stream",
          "text": [
            "[3, 4, 5, 'I a', 3, 4, 5, 'I a']\n",
            "[3, 4, 5, 'I a', 3, 4, 5, 'I a', 3, 4, 5, 'I a']\n"
          ],
          "name": "stdout"
        }
      ]
    },
    {
      "cell_type": "markdown",
      "metadata": {
        "id": "tRFEG78P_PHT"
      },
      "source": [
        "***Location of the first Occurence***\r\n",
        "* index() method returns the positionof the first uccurence of the given element\r\n",
        "* optional parameters:\r\n",
        " * the begin index and\r\n",
        " * the end index\r\n",
        "* when optional arguments are given:\r\n",
        " * the element is searched only in the sub-list bound by begin and end indices\r\n",
        "* When not supplied,\r\n",
        " * the element is searched in the whole list"
      ]
    },
    {
      "cell_type": "code",
      "metadata": {
        "colab": {
          "base_uri": "https://localhost:8080/"
        },
        "id": "hymg0tKJ_FUA",
        "outputId": "69085abd-7ab5-4c67-e9c4-8fb8f5f9840e"
      },
      "source": [
        "new_list = [3,7,20, '@', 'TECH I.S.', 'makes learning really fun!']\r\n",
        "\r\n",
        "# search index of 'TECH I.S.'\r\n",
        "print(new_list.index('TECH I.S.'))\r\n",
        "\r\n",
        "# search '@' with optional arguments\r\n",
        "print(new_list.index('@', 1,4)) "
      ],
      "execution_count": 54,
      "outputs": [
        {
          "output_type": "stream",
          "text": [
            "4\n",
            "3\n"
          ],
          "name": "stdout"
        }
      ]
    },
    {
      "cell_type": "markdown",
      "metadata": {
        "id": "LluQnM1FBU9C"
      },
      "source": [
        "***Sort a List in Place***\r\n",
        "* sort method sorts the list in ascending order\r\n",
        " * can only be performed on homogeneous lists, i.e. lists having elements of similar data type"
      ]
    },
    {
      "cell_type": "code",
      "metadata": {
        "colab": {
          "base_uri": "https://localhost:8080/"
        },
        "id": "TDppFUXdA8ec",
        "outputId": "31f9af55-c5f9-41ce-d500-caef121c91b7"
      },
      "source": [
        "# define list\r\n",
        "new_list = [4,2,6,5,0,1]\r\n",
        "\r\n",
        "# check unsorted list\r\n",
        "print(new_list)\r\n",
        "\r\n",
        "# sort list\r\n",
        "new_list.sort()\r\n",
        "\r\n",
        "# check sorted list\r\n",
        "print(new_list)\r\n",
        "\r\n"
      ],
      "execution_count": 55,
      "outputs": [
        {
          "output_type": "stream",
          "text": [
            "[4, 2, 6, 5, 0, 1]\n",
            "[0, 1, 2, 4, 5, 6]\n"
          ],
          "name": "stdout"
        }
      ]
    },
    {
      "cell_type": "markdown",
      "metadata": {
        "id": "cYudLK-GgOxo"
      },
      "source": [
        "***Create copy of Sorted List***\r\n",
        "* leave the original list unsorted\r\n",
        " * but create a new list with sorted items"
      ]
    },
    {
      "cell_type": "code",
      "metadata": {
        "id": "kKJB0-csCXTg",
        "colab": {
          "base_uri": "https://localhost:8080/"
        },
        "outputId": "f0203015-e5e6-4840-c2ba-1c93ac4d7dd2"
      },
      "source": [
        "new_list = [1,3,7,3,9,8,0]\r\n",
        "\r\n",
        "# put the sorted list in its own variable\r\n",
        "# sorted_list = new_list.sort()\r\n",
        "# # or\r\n",
        "new_sorted_list = sorted(new_list)\r\n",
        "\r\n",
        "# check original list\r\n",
        "print(new_list)\r\n",
        "\r\n",
        "# print sorted list\r\n",
        "# print(sorted_list)\r\n",
        "print(new_sorted_list)"
      ],
      "execution_count": 56,
      "outputs": [
        {
          "output_type": "stream",
          "text": [
            "[1, 3, 7, 3, 9, 8, 0]\n",
            "[0, 1, 3, 3, 7, 8, 9]\n"
          ],
          "name": "stdout"
        }
      ]
    },
    {
      "cell_type": "markdown",
      "metadata": {
        "id": "G4LB4y6Mh_S7"
      },
      "source": [
        "***Erase List Content***"
      ]
    },
    {
      "cell_type": "code",
      "metadata": {
        "colab": {
          "base_uri": "https://localhost:8080/"
        },
        "id": "v5twJa0LhZcR",
        "outputId": "dbdeb617-c573-439b-aefe-99c832eda3ad"
      },
      "source": [
        "# define list\r\n",
        "new_list  = [6,4,5,9,0]\r\n",
        "\r\n",
        "# check un-sorted list\r\n",
        "print(new_list)\r\n",
        "\r\n",
        "# clear list\r\n",
        "new_list.clear()\r\n",
        "\r\n",
        "# check cleared list\r\n",
        "print(new_list)"
      ],
      "execution_count": 57,
      "outputs": [
        {
          "output_type": "stream",
          "text": [
            "[6, 4, 5, 9, 0]\n",
            "[]\n"
          ],
          "name": "stdout"
        }
      ]
    },
    {
      "cell_type": "markdown",
      "metadata": {
        "id": "uyIs6hS_icYP"
      },
      "source": [
        "#**Tuples**\r\n",
        "* tuples are ordered sequences of objects\r\n",
        " * they are immutable\r\n",
        " * i.e. their content can not be changed after creation"
      ]
    },
    {
      "cell_type": "markdown",
      "metadata": {
        "id": "FGM6o2H5i4Ko"
      },
      "source": [
        "***Define a Tuple***"
      ]
    },
    {
      "cell_type": "code",
      "metadata": {
        "colab": {
          "base_uri": "https://localhost:8080/"
        },
        "id": "sRohMzcoiakT",
        "outputId": "a05065a9-28a9-40a2-90a8-22a539c0922f"
      },
      "source": [
        "# create a new tuple - without specifying brackets\r\n",
        "new_tuple_one = 1,2,3,4\r\n",
        "\r\n",
        "# print tuple\r\n",
        "print(new_tuple_one)"
      ],
      "execution_count": 58,
      "outputs": [
        {
          "output_type": "stream",
          "text": [
            "(1, 2, 3, 4)\n"
          ],
          "name": "stdout"
        }
      ]
    },
    {
      "cell_type": "code",
      "metadata": {
        "colab": {
          "base_uri": "https://localhost:8080/"
        },
        "id": "aAWLaIYyjPQN",
        "outputId": "17984935-517a-4c3c-ae4a-83579594e45a"
      },
      "source": [
        "# create a new tuple with brackets\r\n",
        "new_tuple_two = (5, 6, 'python', 8)\r\n",
        "\r\n",
        "# print tuple\r\n",
        "print(new_tuple_two)"
      ],
      "execution_count": 59,
      "outputs": [
        {
          "output_type": "stream",
          "text": [
            "(5, 6, 'python', 8)\n"
          ],
          "name": "stdout"
        }
      ]
    },
    {
      "cell_type": "code",
      "metadata": {
        "colab": {
          "base_uri": "https://localhost:8080/"
        },
        "id": "WWGORCGBjk9t",
        "outputId": "10ccd735-13e3-4e8a-bc59-ef0632394852"
      },
      "source": [
        "# create empty tuple\r\n",
        "empty_tuple = ()\r\n",
        "\r\n",
        "print(empty_tuple)"
      ],
      "execution_count": 60,
      "outputs": [
        {
          "output_type": "stream",
          "text": [
            "()\n"
          ],
          "name": "stdout"
        }
      ]
    },
    {
      "cell_type": "code",
      "metadata": {
        "colab": {
          "base_uri": "https://localhost:8080/"
        },
        "id": "tK2Uo7K1jwfU",
        "outputId": "75741bd1-c5dd-4d76-c2f3-b771d88d865b"
      },
      "source": [
        "# create tuple using constructor\r\n",
        "new_tuple_three = tuple(('apple', 'banana', 'cherry'))\r\n",
        "\r\n",
        "print(new_tuple_three)"
      ],
      "execution_count": 61,
      "outputs": [
        {
          "output_type": "stream",
          "text": [
            "('apple', 'banana', 'cherry')\n"
          ],
          "name": "stdout"
        }
      ]
    },
    {
      "cell_type": "code",
      "metadata": {
        "colab": {
          "base_uri": "https://localhost:8080/"
        },
        "id": "btfmq7kLkM-I",
        "outputId": "1163ba05-d904-44ea-f1fe-71e756545738"
      },
      "source": [
        "# single element tuples\r\n",
        "new_tuple_wrong = ('apple') # wrong single element tuple\r\n",
        "print(type(new_tuple_wrong)) # outputs string\r\n",
        "print(new_tuple_wrong)\r\n",
        "\r\n",
        "new_tuple_right = ('apple',)\r\n",
        "print(type(new_tuple_right))\r\n",
        "print(new_tuple_right)"
      ],
      "execution_count": 62,
      "outputs": [
        {
          "output_type": "stream",
          "text": [
            "<class 'str'>\n",
            "apple\n",
            "<class 'tuple'>\n",
            "('apple',)\n"
          ],
          "name": "stdout"
        }
      ]
    },
    {
      "cell_type": "markdown",
      "metadata": {
        "id": "2pQYG6_dk7dY"
      },
      "source": [
        "***Indexing Tuple***\r\n",
        "* indexing in tuples works just like strings"
      ]
    },
    {
      "cell_type": "code",
      "metadata": {
        "colab": {
          "base_uri": "https://localhost:8080/",
          "height": 356
        },
        "id": "3Z8goP1Kk4tV",
        "outputId": "4b02465c-e95c-46c5-e7f1-6ff8a3405e19"
      },
      "source": [
        "# define a tuple\r\n",
        "new_tuple = 'apples' , 'bananas', 'oranges', 'berry', 'mango'\r\n",
        "\r\n",
        "print(new_tuple[0])\r\n",
        "print(new_tuple[1])\r\n",
        "print(new_tuple[2])\r\n",
        "print(new_tuple[3])\r\n",
        "print(new_tuple[4])\r\n",
        "\r\n",
        "print(new_tuple[-1])\r\n",
        "print(new_tuple[-2])\r\n",
        "print(new_tuple[-3])\r\n",
        "print(new_tuple[-4])\r\n",
        "\r\n",
        "print(new_tuple[5])# this will throw error because there is no fifth element"
      ],
      "execution_count": 63,
      "outputs": [
        {
          "output_type": "stream",
          "text": [
            "apples\n",
            "bananas\n",
            "oranges\n",
            "berry\n",
            "mango\n",
            "mango\n",
            "berry\n",
            "oranges\n",
            "bananas\n"
          ],
          "name": "stdout"
        },
        {
          "output_type": "error",
          "ename": "IndexError",
          "evalue": "ignored",
          "traceback": [
            "\u001b[0;31m---------------------------------------------------------------------------\u001b[0m",
            "\u001b[0;31mIndexError\u001b[0m                                Traceback (most recent call last)",
            "\u001b[0;32m<ipython-input-63-777815a43b0e>\u001b[0m in \u001b[0;36m<module>\u001b[0;34m()\u001b[0m\n\u001b[1;32m     13\u001b[0m \u001b[0mprint\u001b[0m\u001b[0;34m(\u001b[0m\u001b[0mnew_tuple\u001b[0m\u001b[0;34m[\u001b[0m\u001b[0;34m-\u001b[0m\u001b[0;36m4\u001b[0m\u001b[0;34m]\u001b[0m\u001b[0;34m)\u001b[0m\u001b[0;34m\u001b[0m\u001b[0;34m\u001b[0m\u001b[0m\n\u001b[1;32m     14\u001b[0m \u001b[0;34m\u001b[0m\u001b[0m\n\u001b[0;32m---> 15\u001b[0;31m \u001b[0mprint\u001b[0m\u001b[0;34m(\u001b[0m\u001b[0mnew_tuple\u001b[0m\u001b[0;34m[\u001b[0m\u001b[0;36m5\u001b[0m\u001b[0;34m]\u001b[0m\u001b[0;34m)\u001b[0m\u001b[0;31m# this will throw error because there is no fifth element\u001b[0m\u001b[0;34m\u001b[0m\u001b[0;34m\u001b[0m\u001b[0m\n\u001b[0m",
            "\u001b[0;31mIndexError\u001b[0m: tuple index out of range"
          ]
        }
      ]
    },
    {
      "cell_type": "markdown",
      "metadata": {
        "id": "BKNzP2FWmYAC"
      },
      "source": [
        "***Tuple Immutability Test***"
      ]
    },
    {
      "cell_type": "code",
      "metadata": {
        "colab": {
          "base_uri": "https://localhost:8080/",
          "height": 200
        },
        "id": "A7qoh5QqmNr1",
        "outputId": "e644224f-4f82-4f70-c2ba-df4c14b9cbd0"
      },
      "source": [
        "# define Tuple\r\n",
        "new_tuple = (1,7,'$', 'Summers', 'Winters')\r\n",
        "\r\n",
        "# try changing tuple content\r\n",
        "new_tuple[4] = 'h'# it will not let you because tuples can't be changed"
      ],
      "execution_count": 64,
      "outputs": [
        {
          "output_type": "error",
          "ename": "TypeError",
          "evalue": "ignored",
          "traceback": [
            "\u001b[0;31m---------------------------------------------------------------------------\u001b[0m",
            "\u001b[0;31mTypeError\u001b[0m                                 Traceback (most recent call last)",
            "\u001b[0;32m<ipython-input-64-a823b37e5c13>\u001b[0m in \u001b[0;36m<module>\u001b[0;34m()\u001b[0m\n\u001b[1;32m      3\u001b[0m \u001b[0;34m\u001b[0m\u001b[0m\n\u001b[1;32m      4\u001b[0m \u001b[0;31m# try changing tuple content\u001b[0m\u001b[0;34m\u001b[0m\u001b[0;34m\u001b[0m\u001b[0;34m\u001b[0m\u001b[0m\n\u001b[0;32m----> 5\u001b[0;31m \u001b[0mnew_tuple\u001b[0m\u001b[0;34m[\u001b[0m\u001b[0;36m4\u001b[0m\u001b[0;34m]\u001b[0m \u001b[0;34m=\u001b[0m \u001b[0;34m'h'\u001b[0m\u001b[0;31m# it will not let you because tuples can't be changed\u001b[0m\u001b[0;34m\u001b[0m\u001b[0;34m\u001b[0m\u001b[0m\n\u001b[0m",
            "\u001b[0;31mTypeError\u001b[0m: 'tuple' object does not support item assignment"
          ]
        }
      ]
    },
    {
      "cell_type": "markdown",
      "metadata": {
        "id": "D_cq-BHqm9iK"
      },
      "source": [
        "***Concatenation of Tuples***\r\n",
        "* tuples are immutable, hence the data stored in a tuple can't be edited\r\n",
        "* but it is possible to merge two tuples to create a new tuple"
      ]
    },
    {
      "cell_type": "code",
      "metadata": {
        "colab": {
          "base_uri": "https://localhost:8080/"
        },
        "id": "20PrlfmOmy4W",
        "outputId": "1aa6c8bc-0d7c-4bfd-ef7c-c148769f9608"
      },
      "source": [
        "# define two new tuple\r\n",
        "new_tuple_one = 9,5,6,4,2,1\r\n",
        "new_tuple_two = 'a', 5, 7, 6, 3, 1\r\n",
        "\r\n",
        "print(new_tuple_one)\r\n",
        "print(new_tuple_two)\r\n",
        "\r\n",
        "# add a new element\r\n",
        "merged_tuple = new_tuple_one + new_tuple_two\r\n",
        "\r\n",
        "# check merged tuple\r\n",
        "print(merged_tuple)"
      ],
      "execution_count": 65,
      "outputs": [
        {
          "output_type": "stream",
          "text": [
            "(9, 5, 6, 4, 2, 1)\n",
            "('a', 5, 7, 6, 3, 1)\n",
            "(9, 5, 6, 4, 2, 1, 'a', 5, 7, 6, 3, 1)\n"
          ],
          "name": "stdout"
        }
      ]
    },
    {
      "cell_type": "markdown",
      "metadata": {
        "id": "zQ8tIJIroRMp"
      },
      "source": [
        "***Multiplication (Duplication) of Tuples***\r\n",
        "* duplicated the content of a tuple, the specified number of times"
      ]
    },
    {
      "cell_type": "code",
      "metadata": {
        "colab": {
          "base_uri": "https://localhost:8080/"
        },
        "id": "VOvafBV9oN55",
        "outputId": "ed671f6d-e3dc-41b9-cf2c-1867bb0d1e60"
      },
      "source": [
        "# define tuple\r\n",
        "new_tuple = 'a', 5, 7, 6, 3, 1\r\n",
        "\r\n",
        "print(new_tuple)\r\n",
        "\r\n",
        "# multiply and print result\r\n",
        "print(new_tuple*2)\r\n",
        "print(new_tuple*3)"
      ],
      "execution_count": 66,
      "outputs": [
        {
          "output_type": "stream",
          "text": [
            "('a', 5, 7, 6, 3, 1)\n",
            "('a', 5, 7, 6, 3, 1, 'a', 5, 7, 6, 3, 1)\n",
            "('a', 5, 7, 6, 3, 1, 'a', 5, 7, 6, 3, 1, 'a', 5, 7, 6, 3, 1)\n"
          ],
          "name": "stdout"
        }
      ]
    },
    {
      "cell_type": "markdown",
      "metadata": {
        "id": "8JrjJhtVpMJK"
      },
      "source": [
        "***Length of a Tuple***"
      ]
    },
    {
      "cell_type": "code",
      "metadata": {
        "colab": {
          "base_uri": "https://localhost:8080/"
        },
        "id": "9gSLsB4-pG_2",
        "outputId": "7e12f831-5a9a-4c87-f960-40564003bafe"
      },
      "source": [
        "# define a tuple\r\n",
        "new_tuple = 'a', 5, 7, 6, 3, 1\r\n",
        "\r\n",
        "len(new_tuple)"
      ],
      "execution_count": 67,
      "outputs": [
        {
          "output_type": "execute_result",
          "data": {
            "text/plain": [
              "6"
            ]
          },
          "metadata": {
            "tags": []
          },
          "execution_count": 67
        }
      ]
    },
    {
      "cell_type": "markdown",
      "metadata": {
        "id": "2m-vMP9dpjIy"
      },
      "source": [
        "***Min & Max Values of a Tuple***\r\n",
        "* min() returns the minimum value in the tuple\r\n",
        "* max() returns the maximum value in the tuple\r\n",
        "* both methods accept only homogeneous tuples\r\n",
        " * i.e. tuples having elements of similar data type"
      ]
    },
    {
      "cell_type": "code",
      "metadata": {
        "colab": {
          "base_uri": "https://localhost:8080/"
        },
        "id": "8qIejWovphRO",
        "outputId": "a735f3c2-a4a0-48d2-951a-8bb24eaac8eb"
      },
      "source": [
        "# define tuple\r\n",
        "new_tuple = 8,12,7,10,52,33,21,99\r\n",
        "\r\n",
        "# check min and max of new_tuple\r\n",
        "print(min(new_tuple))\r\n",
        "print(max(new_tuple))\r\n",
        "\r\n",
        "# define list\r\n",
        "new_tuple = 'x', '10', '99', 'twenty', '%$', '--'\r\n",
        "\r\n",
        "# check min and max of new list\r\n",
        "print(min(new_tuple))\r\n",
        "print(max(new_tuple))"
      ],
      "execution_count": 68,
      "outputs": [
        {
          "output_type": "stream",
          "text": [
            "7\n",
            "99\n",
            "%$\n",
            "x\n"
          ],
          "name": "stdout"
        }
      ]
    },
    {
      "cell_type": "markdown",
      "metadata": {
        "id": "u5G6G9EWrelb"
      },
      "source": [
        "***Count of an Element in a Tuple***\r\n"
      ]
    },
    {
      "cell_type": "code",
      "metadata": {
        "colab": {
          "base_uri": "https://localhost:8080/"
        },
        "id": "bnSEbWEsrUT5",
        "outputId": "4a34fe0f-6727-48ee-81a5-dc5c9b6b5258"
      },
      "source": [
        "# define tuple\r\n",
        "new_tuple = 5,3,6,3,1,3,2,3\r\n",
        "\r\n",
        "# count the number of 3s in the tuple\r\n",
        "print(new_tuple.count(3))"
      ],
      "execution_count": 69,
      "outputs": [
        {
          "output_type": "stream",
          "text": [
            "4\n"
          ],
          "name": "stdout"
        }
      ]
    },
    {
      "cell_type": "markdown",
      "metadata": {
        "id": "wOOGYrp2r9ay"
      },
      "source": [
        "***Location of First Occurence***"
      ]
    },
    {
      "cell_type": "code",
      "metadata": {
        "colab": {
          "base_uri": "https://localhost:8080/"
        },
        "id": "WirwsES3r8ZU",
        "outputId": "f51f54ab-abf8-402f-e5f4-b3f66adb9aeb"
      },
      "source": [
        "print(new_tuple.index(3)) # this will tell you in which index '3' shows up first"
      ],
      "execution_count": 70,
      "outputs": [
        {
          "output_type": "stream",
          "text": [
            "1\n"
          ],
          "name": "stdout"
        }
      ]
    },
    {
      "cell_type": "markdown",
      "metadata": {
        "id": "OZsZoGUbsdAj"
      },
      "source": [
        "***Delete a Tuple***\r\n",
        "* you cannot remove the elements in a tuple\r\n",
        "* but you can delete an entire tuple"
      ]
    },
    {
      "cell_type": "code",
      "metadata": {
        "colab": {
          "base_uri": "https://localhost:8080/",
          "height": 217
        },
        "id": "96-jL7I4sMY4",
        "outputId": "1a7326ae-0466-4430-9969-87b182186acb"
      },
      "source": [
        "new_tuple = 5,3,6,3,1,3,2,3\r\n",
        "\r\n",
        "print(new_tuple)\r\n",
        "\r\n",
        "# to delete the tuple\r\n",
        "del(new_tuple)\r\n",
        "\r\n",
        "# check deletion\r\n",
        "print(new_tuple)# error because it has been deleted/ nothing there"
      ],
      "execution_count": 71,
      "outputs": [
        {
          "output_type": "stream",
          "text": [
            "(5, 3, 6, 3, 1, 3, 2, 3)\n"
          ],
          "name": "stdout"
        },
        {
          "output_type": "error",
          "ename": "NameError",
          "evalue": "ignored",
          "traceback": [
            "\u001b[0;31m---------------------------------------------------------------------------\u001b[0m",
            "\u001b[0;31mNameError\u001b[0m                                 Traceback (most recent call last)",
            "\u001b[0;32m<ipython-input-71-2467024f77bc>\u001b[0m in \u001b[0;36m<module>\u001b[0;34m()\u001b[0m\n\u001b[1;32m      7\u001b[0m \u001b[0;34m\u001b[0m\u001b[0m\n\u001b[1;32m      8\u001b[0m \u001b[0;31m# check deletion\u001b[0m\u001b[0;34m\u001b[0m\u001b[0;34m\u001b[0m\u001b[0;34m\u001b[0m\u001b[0m\n\u001b[0;32m----> 9\u001b[0;31m \u001b[0mprint\u001b[0m\u001b[0;34m(\u001b[0m\u001b[0mnew_tuple\u001b[0m\u001b[0;34m)\u001b[0m\u001b[0;31m# error because it has been deleted/ nothing there\u001b[0m\u001b[0;34m\u001b[0m\u001b[0;34m\u001b[0m\u001b[0m\n\u001b[0m",
            "\u001b[0;31mNameError\u001b[0m: name 'new_tuple' is not defined"
          ]
        }
      ]
    },
    {
      "cell_type": "markdown",
      "metadata": {
        "id": "DKIqZL6qtUNv"
      },
      "source": [
        "#**Identity Operators**\r\n",
        "* used to compare objects\r\n",
        " * not if they are equal\r\n",
        " * but if they are actually the same object\r\n",
        "   * *with the same memory location*\r\n",
        "* two identity operators are:\r\n",
        " * is\r\n",
        " * is not"
      ]
    },
    {
      "cell_type": "code",
      "metadata": {
        "colab": {
          "base_uri": "https://localhost:8080/"
        },
        "id": "rQ-ZfaaXtKmY",
        "outputId": "be1f3394-7f84-4acd-b535-ef741e48ac5e"
      },
      "source": [
        "# define lists\r\n",
        "x = ['apple', 'banana']\r\n",
        "y = ['apple', 'banana']\r\n",
        "z = x\r\n",
        "\r\n",
        "# 'is' test\r\n",
        "print(x is z)\r\n",
        "\r\n",
        "# 'is'test\r\n",
        "print(x is y)\r\n",
        "\r\n",
        "# equality test\r\n",
        "print(x == y)\r\n",
        "\r\n",
        "# 'is not' test\r\n",
        "print(x is not y)"
      ],
      "execution_count": 72,
      "outputs": [
        {
          "output_type": "stream",
          "text": [
            "True\n",
            "False\n",
            "True\n",
            "True\n"
          ],
          "name": "stdout"
        }
      ]
    },
    {
      "cell_type": "markdown",
      "metadata": {
        "id": "UUjRQQnJumlM"
      },
      "source": [
        "#**Membership Operators**\r\n",
        "* used to yest if a sequence has specified object\r\n",
        "* two membership operators are:\r\n",
        " * in\r\n",
        " * not in"
      ]
    },
    {
      "cell_type": "code",
      "metadata": {
        "colab": {
          "base_uri": "https://localhost:8080/"
        },
        "id": "T9Yr74X7uj3W",
        "outputId": "c8618d42-5453-4624-b68e-719721973086"
      },
      "source": [
        "# define list \r\n",
        "x  = ['apple', 'banana']\r\n",
        "\r\n",
        "# 'in' test\r\n",
        "print('banana' in x)\r\n",
        "\r\n",
        "# 'in' text\r\n",
        "print('pineapple' in x)\r\n",
        "\r\n",
        "# 'not in' test\r\n",
        "print('pineapple' not in x)"
      ],
      "execution_count": 73,
      "outputs": [
        {
          "output_type": "stream",
          "text": [
            "True\n",
            "False\n",
            "True\n"
          ],
          "name": "stdout"
        }
      ]
    },
    {
      "cell_type": "code",
      "metadata": {
        "id": "gcUvqRJRvaTM"
      },
      "source": [
        ""
      ],
      "execution_count": 73,
      "outputs": []
    }
  ]
}