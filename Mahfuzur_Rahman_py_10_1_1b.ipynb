{
  "nbformat": 4,
  "nbformat_minor": 0,
  "metadata": {
    "colab": {
      "name": "Mahfuzur_Rahman_py_10_1-1b.ipynb",
      "provenance": [],
      "collapsed_sections": [],
      "authorship_tag": "ABX9TyN0PQe/XJydMG0y+Bla93TN",
      "include_colab_link": true
    },
    "kernelspec": {
      "name": "python3",
      "display_name": "Python 3"
    }
  },
  "cells": [
    {
      "cell_type": "markdown",
      "metadata": {
        "id": "view-in-github",
        "colab_type": "text"
      },
      "source": [
        "<a href=\"https://colab.research.google.com/github/mahfuz978/TECH.I.S-Fundamentals/blob/main/Mahfuzur_Rahman_py_10_1_1b.ipynb\" target=\"_parent\"><img src=\"https://colab.research.google.com/assets/colab-badge.svg\" alt=\"Open In Colab\"/></a>"
      ]
    },
    {
      "cell_type": "markdown",
      "metadata": {
        "id": "tT6Y2yh188A2"
      },
      "source": [
        "#**Strings**\r\n",
        "* strings are *ordered* sequence of characters\r\n",
        "* strings are *immutable*\r\n",
        " * i.e. cannot be modified after being created"
      ]
    },
    {
      "cell_type": "markdown",
      "metadata": {
        "id": "_evPEmUB_7KO"
      },
      "source": [
        "**Defining Strings**"
      ]
    },
    {
      "cell_type": "code",
      "metadata": {
        "id": "MLgNXYXn8WKT",
        "colab": {
          "base_uri": "https://localhost:8080/"
        },
        "outputId": "3510cdb9-6a1a-45ad-a180-b5f0baa9adc0"
      },
      "source": [
        "name_one = 'TECH I.S.' # singe quotes\r\n",
        "print(name_one)\r\n",
        "\r\n",
        "name_two = \"TECH I.S.\" # double quotes\r\n",
        "print(name_two)\r\n",
        "\r\n",
        "name_three =\"\"\"\r\n",
        "multiline\r\n",
        "support with triple single quotes\r\n",
        "\"\"\"\r\n",
        "print(name_three)\r\n",
        "\r\n",
        "name_four = 'Hello! i am \"MAHFUZUR\", a Tech I.S student.'\r\n",
        "print(name_four)\r\n"
      ],
      "execution_count": null,
      "outputs": [
        {
          "output_type": "stream",
          "text": [
            "TECH I.S.\n",
            "TECH I.S.\n",
            "\n",
            "multiline\n",
            "support with triple single quotes\n",
            "\n",
            "Hello! i am \"MAHFUZUR\", a Tech I.S student.\n"
          ],
          "name": "stdout"
        }
      ]
    },
    {
      "cell_type": "markdown",
      "metadata": {
        "id": "9aq_wH9L_5Lg"
      },
      "source": [
        "**String Immutability Test**"
      ]
    },
    {
      "cell_type": "code",
      "metadata": {
        "colab": {
          "base_uri": "https://localhost:8080/",
          "height": 201
        },
        "id": "IE0aTYdb_qMV",
        "outputId": "b721cf24-3745-4e14-e713-4a84c7b6a6ac"
      },
      "source": [
        "# define_string\r\n",
        "s = 'hello'\r\n",
        "s[0] = 'y' # it shows error because it can't be sliced- hence immutable"
      ],
      "execution_count": null,
      "outputs": [
        {
          "output_type": "error",
          "ename": "TypeError",
          "evalue": "ignored",
          "traceback": [
            "\u001b[0;31m---------------------------------------------------------------------------\u001b[0m",
            "\u001b[0;31mTypeError\u001b[0m                                 Traceback (most recent call last)",
            "\u001b[0;32m<ipython-input-2-a5aa30c1a993>\u001b[0m in \u001b[0;36m<module>\u001b[0;34m()\u001b[0m\n\u001b[1;32m      1\u001b[0m \u001b[0;31m# define_string\u001b[0m\u001b[0;34m\u001b[0m\u001b[0;34m\u001b[0m\u001b[0;34m\u001b[0m\u001b[0m\n\u001b[1;32m      2\u001b[0m \u001b[0ms\u001b[0m \u001b[0;34m=\u001b[0m \u001b[0;34m'hello'\u001b[0m\u001b[0;34m\u001b[0m\u001b[0;34m\u001b[0m\u001b[0m\n\u001b[0;32m----> 3\u001b[0;31m \u001b[0ms\u001b[0m\u001b[0;34m[\u001b[0m\u001b[0;36m0\u001b[0m\u001b[0;34m]\u001b[0m \u001b[0;34m=\u001b[0m \u001b[0;34m'y'\u001b[0m \u001b[0;31m# it shows error because it can't be sliced- hence immutable\u001b[0m\u001b[0;34m\u001b[0m\u001b[0;34m\u001b[0m\u001b[0m\n\u001b[0m",
            "\u001b[0;31mTypeError\u001b[0m: 'str' object does not support item assignment"
          ]
        }
      ]
    },
    {
      "cell_type": "code",
      "metadata": {
        "colab": {
          "base_uri": "https://localhost:8080/"
        },
        "id": "Cc8IWEUwArNA",
        "outputId": "9ece7fa1-4b38-44b6-a638-b04a01ead067"
      },
      "source": [
        "\"\"\"\r\n",
        "however, rebinding works\r\n",
        "reassigning s with 'y' concatenatedwith 'ello' extracted from s\r\n",
        "\"\"\"\r\n",
        "s = 'y'+ s[1:len(s)] + 'w'\r\n",
        "print(s)"
      ],
      "execution_count": null,
      "outputs": [
        {
          "output_type": "stream",
          "text": [
            "yellow\n"
          ],
          "name": "stdout"
        }
      ]
    },
    {
      "cell_type": "markdown",
      "metadata": {
        "id": "_Tj4c0hPCwWM"
      },
      "source": [
        "**String Concatenation**"
      ]
    },
    {
      "cell_type": "code",
      "metadata": {
        "colab": {
          "base_uri": "https://localhost:8080/"
        },
        "id": "GXdiAXQFCFdb",
        "outputId": "fa554fc7-12b8-426b-f382-529f79b2b9a5"
      },
      "source": [
        "first_name = 'Mahfuzur'\r\n",
        "last_name = 'Rahman'\r\n",
        "full_name = first_name + \" \" + last_name\r\n",
        "print(full_name)"
      ],
      "execution_count": null,
      "outputs": [
        {
          "output_type": "stream",
          "text": [
            "Mahfuzur Rahman\n"
          ],
          "name": "stdout"
        }
      ]
    },
    {
      "cell_type": "markdown",
      "metadata": {
        "id": "0nX-XLVPDkYb"
      },
      "source": [
        "**String Multiplication**"
      ]
    },
    {
      "cell_type": "code",
      "metadata": {
        "colab": {
          "base_uri": "https://localhost:8080/"
        },
        "id": "TycUmr3_DSC1",
        "outputId": "2d8e0794-a0fc-4af0-e7aa-18c18a006127"
      },
      "source": [
        "name = 'Hyato '\r\n",
        "print(name)\r\n",
        "name_thrice = name*3\r\n",
        "print(name_thrice)\r\n",
        "print(name*4)\r\n",
        "print(name*10)"
      ],
      "execution_count": null,
      "outputs": [
        {
          "output_type": "stream",
          "text": [
            "Hyato \n",
            "Hyato Hyato Hyato \n",
            "Hyato Hyato Hyato Hyato \n",
            "Hyato Hyato Hyato Hyato Hyato Hyato Hyato Hyato Hyato Hyato \n"
          ],
          "name": "stdout"
        }
      ]
    },
    {
      "cell_type": "markdown",
      "metadata": {
        "id": "-R8EcVRMEN17"
      },
      "source": [
        "**String Length**"
      ]
    },
    {
      "cell_type": "code",
      "metadata": {
        "colab": {
          "base_uri": "https://localhost:8080/"
        },
        "id": "LJLIbGO8EBoP",
        "outputId": "8d7aff62-3e48-4d64-fcad-55c56acbac4d"
      },
      "source": [
        "# to check the length of the string\r\n",
        "name = 'Mahfuzur Rahman'\r\n",
        "len(name)"
      ],
      "execution_count": null,
      "outputs": [
        {
          "output_type": "execute_result",
          "data": {
            "text/plain": [
              "15"
            ]
          },
          "metadata": {
            "tags": []
          },
          "execution_count": 9
        }
      ]
    },
    {
      "cell_type": "code",
      "metadata": {
        "colab": {
          "base_uri": "https://localhost:8080/"
        },
        "id": "523wBCzNEapw",
        "outputId": "47e7658b-76cf-4b35-dda1-4c4fa6dbeffa"
      },
      "source": [
        "counter = 0\r\n",
        "for c in \"Mahfuzur Rahman\":\r\n",
        "  counter += 1\r\n",
        "print(counter)"
      ],
      "execution_count": null,
      "outputs": [
        {
          "output_type": "stream",
          "text": [
            "15\n"
          ],
          "name": "stdout"
        }
      ]
    },
    {
      "cell_type": "markdown",
      "metadata": {
        "id": "xVGcXYeHFpnn"
      },
      "source": [
        "**String Indexing**"
      ]
    },
    {
      "cell_type": "code",
      "metadata": {
        "colab": {
          "base_uri": "https://localhost:8080/",
          "height": 305
        },
        "id": "12HUSLiSFGHx",
        "outputId": "7f597312-8635-428e-f8c1-2bc622d35eb9"
      },
      "source": [
        "# define a string\r\n",
        "s = \"abc\"\r\n",
        "\r\n",
        "# indexing starts from 0 in python\r\n",
        "\r\n",
        "# use square brackets and the index number to access the the data\r\n",
        "print(s[0])\r\n",
        "print(s[1])\r\n",
        "print(s[2])\r\n",
        "\r\n",
        "print(s[-1])\r\n",
        "print(s[-2])\r\n",
        "print(s[-3])\r\n",
        "\r\n",
        "print(s[3]) # this will give you an error"
      ],
      "execution_count": null,
      "outputs": [
        {
          "output_type": "stream",
          "text": [
            "a\n",
            "b\n",
            "c\n",
            "c\n",
            "b\n",
            "a\n"
          ],
          "name": "stdout"
        },
        {
          "output_type": "error",
          "ename": "IndexError",
          "evalue": "ignored",
          "traceback": [
            "\u001b[0;31m---------------------------------------------------------------------------\u001b[0m",
            "\u001b[0;31mIndexError\u001b[0m                                Traceback (most recent call last)",
            "\u001b[0;32m<ipython-input-11-c8cb415dcd6d>\u001b[0m in \u001b[0;36m<module>\u001b[0;34m()\u001b[0m\n\u001b[1;32m     13\u001b[0m \u001b[0mprint\u001b[0m\u001b[0;34m(\u001b[0m\u001b[0ms\u001b[0m\u001b[0;34m[\u001b[0m\u001b[0;34m-\u001b[0m\u001b[0;36m3\u001b[0m\u001b[0;34m]\u001b[0m\u001b[0;34m)\u001b[0m\u001b[0;34m\u001b[0m\u001b[0;34m\u001b[0m\u001b[0m\n\u001b[1;32m     14\u001b[0m \u001b[0;34m\u001b[0m\u001b[0m\n\u001b[0;32m---> 15\u001b[0;31m \u001b[0mprint\u001b[0m\u001b[0;34m(\u001b[0m\u001b[0ms\u001b[0m\u001b[0;34m[\u001b[0m\u001b[0;36m3\u001b[0m\u001b[0;34m]\u001b[0m\u001b[0;34m)\u001b[0m \u001b[0;31m# this will give you an error\u001b[0m\u001b[0;34m\u001b[0m\u001b[0;34m\u001b[0m\u001b[0m\n\u001b[0m",
            "\u001b[0;31mIndexError\u001b[0m: string index out of range"
          ]
        }
      ]
    },
    {
      "cell_type": "markdown",
      "metadata": {
        "id": "QbgDwWNIGygS"
      },
      "source": [
        "**String Slicing**\r\n",
        "* extract sub-selections of a string\r\n",
        "* slice strings using format `[start:stop:step]`\r\n",
        " * step = 1 by default\r\n",
        " * you may also omit numbers and use only colons (:)\r\n"
      ]
    },
    {
      "cell_type": "code",
      "metadata": {
        "colab": {
          "base_uri": "https://localhost:8080/"
        },
        "id": "qs8M4UKQGmtI",
        "outputId": "0aaf4559-3a04-4676-e5ca-759aefa83043"
      },
      "source": [
        "s = \"abcdefgh\"\r\n",
        "\r\n",
        "print(s[3:6])\r\n",
        "print(s[3:6:1])\r\n",
        "print(s[3:6:2])\r\n",
        "print(s[::])\r\n",
        "print(s[::-1])\r\n",
        "print(s[4:1:-2])"
      ],
      "execution_count": null,
      "outputs": [
        {
          "output_type": "stream",
          "text": [
            "def\n",
            "def\n",
            "df\n",
            "abcdefgh\n",
            "hgfedcba\n",
            "ec\n"
          ],
          "name": "stdout"
        }
      ]
    },
    {
      "cell_type": "markdown",
      "metadata": {
        "id": "Lhbd1moZ-Mc0"
      },
      "source": [
        "#**Lists**\r\n",
        "\r\n",
        "* lists are ordered sequences od objects\r\n",
        " * they are mutable"
      ]
    },
    {
      "cell_type": "code",
      "metadata": {
        "id": "FpFMtRE3JEvW",
        "colab": {
          "base_uri": "https://localhost:8080/"
        },
        "outputId": "9ba889ab-9f18-4271-d5ed-c56921356dc3"
      },
      "source": [
        "# define a list\r\n",
        "new_list = [3,7,20,'@ ', 'TECH I.S.', ' makes learning fun!']\r\n",
        "\r\n",
        "# view list \r\n",
        "print(new_list)\r\n"
      ],
      "execution_count": 1,
      "outputs": [
        {
          "output_type": "stream",
          "text": [
            "[3, 7, 20, '@ ', 'TECH I.S.', ' makes learning fun!']\n"
          ],
          "name": "stdout"
        }
      ]
    },
    {
      "cell_type": "markdown",
      "metadata": {
        "id": "laAl7NVn_egb"
      },
      "source": [
        "***Accessing List Elements***\r\n",
        "* indexing in lists works just like strings \r\n",
        "* indexing starts from zero"
      ]
    },
    {
      "cell_type": "code",
      "metadata": {
        "id": "9PUd63lC_RvO"
      },
      "source": [
        "# define a list\r\n",
        "new_list = [3,7,20,'@', 'TECH I.S.', 'makes learning fun!']\r\n",
        "\r\n",
        "print(new_list[]) # will print the first element\r\n",
        "print(new_list[]) # will print the second element\r\n",
        "print(new_list[]) # will print the third element\r\n",
        "print(new_list[]) # will print the fourth element\r\n",
        "\r\n",
        "print(new_list[]) # will print the first element from opposite direction\r\n",
        "print(new_list[]) # will print the second element from opposite direction\r\n",
        "print(new_list[]) # will print the third element from opposite direction\r\n",
        "print(new_list[]) # will print the "
      ],
      "execution_count": null,
      "outputs": []
    }
  ]
}