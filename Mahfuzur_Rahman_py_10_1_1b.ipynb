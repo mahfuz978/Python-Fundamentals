{
  "nbformat": 4,
  "nbformat_minor": 0,
  "metadata": {
    "colab": {
      "name": "Mahfuzur_Rahman_py_10_1-1b.ipynb",
      "provenance": [],
      "collapsed_sections": [],
      "authorship_tag": "ABX9TyP2rkrmftMK0wdMmcVI42BU",
      "include_colab_link": true
    },
    "kernelspec": {
      "name": "python3",
      "display_name": "Python 3"
    }
  },
  "cells": [
    {
      "cell_type": "markdown",
      "metadata": {
        "id": "view-in-github",
        "colab_type": "text"
      },
      "source": [
        "<a href=\"https://colab.research.google.com/github/mahfuz978/TECH.I.S-Fundamentals/blob/main/Mahfuzur_Rahman_py_10_1_1b.ipynb\" target=\"_parent\"><img src=\"https://colab.research.google.com/assets/colab-badge.svg\" alt=\"Open In Colab\"/></a>"
      ]
    },
    {
      "cell_type": "markdown",
      "metadata": {
        "id": "tT6Y2yh188A2"
      },
      "source": [
        "#**Strings**\r\n",
        "* strings are *ordered* sequence of characters\r\n",
        "* strings are *immutable*\r\n",
        " * i.e. cannot be modified after being created"
      ]
    },
    {
      "cell_type": "markdown",
      "metadata": {
        "id": "_evPEmUB_7KO"
      },
      "source": [
        "**Defining Strings**"
      ]
    },
    {
      "cell_type": "code",
      "metadata": {
        "id": "MLgNXYXn8WKT",
        "colab": {
          "base_uri": "https://localhost:8080/"
        },
        "outputId": "f4170b7a-c3d3-46fb-f034-35aae51c1c89"
      },
      "source": [
        "name_one = 'TECH I.S.' # singe quotes\r\n",
        "print(name_one)\r\n",
        "\r\n",
        "name_two = \"TECH I.S.\" # double quotes\r\n",
        "print(name_two)\r\n",
        "\r\n",
        "name_three =\"\"\"\r\n",
        "multiline\r\n",
        "support with triple single quotes or double\r\n",
        "\"\"\"\r\n",
        "print(name_three)\r\n",
        "\r\n",
        "name_four = 'Hello! i am \"MAHFUZUR\", a Tech I.S student.'\r\n",
        "print(name_four)\r\n"
      ],
      "execution_count": null,
      "outputs": [
        {
          "output_type": "stream",
          "text": [
            "TECH I.S.\n",
            "TECH I.S.\n",
            "\n",
            "multiline\n",
            "support with triple single quotes or double\n",
            "\n",
            "Hello! i am \"MAHFUZUR\", a Tech I.S student.\n"
          ],
          "name": "stdout"
        }
      ]
    },
    {
      "cell_type": "markdown",
      "metadata": {
        "id": "9aq_wH9L_5Lg"
      },
      "source": [
        "**String Immutability Test**"
      ]
    },
    {
      "cell_type": "code",
      "metadata": {
        "colab": {
          "base_uri": "https://localhost:8080/",
          "height": 201
        },
        "id": "IE0aTYdb_qMV",
        "outputId": "4e54f4a7-d563-4e8d-fbb1-72baeed7b4e1"
      },
      "source": [
        "# define_string\r\n",
        "s = 'hello'\r\n",
        "s[0] = 'y' # it shows error because it doesn't support item assignment/ can't be moved"
      ],
      "execution_count": null,
      "outputs": [
        {
          "output_type": "error",
          "ename": "TypeError",
          "evalue": "ignored",
          "traceback": [
            "\u001b[0;31m---------------------------------------------------------------------------\u001b[0m",
            "\u001b[0;31mTypeError\u001b[0m                                 Traceback (most recent call last)",
            "\u001b[0;32m<ipython-input-2-a3cbf0fdce1b>\u001b[0m in \u001b[0;36m<module>\u001b[0;34m()\u001b[0m\n\u001b[1;32m      1\u001b[0m \u001b[0;31m# define_string\u001b[0m\u001b[0;34m\u001b[0m\u001b[0;34m\u001b[0m\u001b[0;34m\u001b[0m\u001b[0m\n\u001b[1;32m      2\u001b[0m \u001b[0ms\u001b[0m \u001b[0;34m=\u001b[0m \u001b[0;34m'hello'\u001b[0m\u001b[0;34m\u001b[0m\u001b[0;34m\u001b[0m\u001b[0m\n\u001b[0;32m----> 3\u001b[0;31m \u001b[0ms\u001b[0m\u001b[0;34m[\u001b[0m\u001b[0;36m0\u001b[0m\u001b[0;34m]\u001b[0m \u001b[0;34m=\u001b[0m \u001b[0;34m'y'\u001b[0m \u001b[0;31m# it shows error because it doesn't support item assignment/ can't be moved\u001b[0m\u001b[0;34m\u001b[0m\u001b[0;34m\u001b[0m\u001b[0m\n\u001b[0m",
            "\u001b[0;31mTypeError\u001b[0m: 'str' object does not support item assignment"
          ]
        }
      ]
    },
    {
      "cell_type": "code",
      "metadata": {
        "colab": {
          "base_uri": "https://localhost:8080/"
        },
        "id": "Cc8IWEUwArNA",
        "outputId": "45ffd817-7f1f-44a6-bece-8a6b25bd59fa"
      },
      "source": [
        "\"\"\"\r\n",
        "however, rebinding works\r\n",
        "reassigning s with 'y' concatenatedwith 'ello' extracted from s\r\n",
        "\"\"\"\r\n",
        "s = 'y'+ s[1:len(s)] + 'w'\r\n",
        "print(s)"
      ],
      "execution_count": null,
      "outputs": [
        {
          "output_type": "stream",
          "text": [
            "yellow\n"
          ],
          "name": "stdout"
        }
      ]
    },
    {
      "cell_type": "markdown",
      "metadata": {
        "id": "_Tj4c0hPCwWM"
      },
      "source": [
        "**String Concatenation**"
      ]
    },
    {
      "cell_type": "code",
      "metadata": {
        "colab": {
          "base_uri": "https://localhost:8080/"
        },
        "id": "GXdiAXQFCFdb",
        "outputId": "c2bf621e-ffc8-42dd-d448-0fd96fd52a02"
      },
      "source": [
        "first_name = 'Mahfuzur'\r\n",
        "last_name = 'Rahman'\r\n",
        "full_name = first_name + \" \" + last_name\r\n",
        "print(full_name)"
      ],
      "execution_count": null,
      "outputs": [
        {
          "output_type": "stream",
          "text": [
            "Mahfuzur Rahman\n"
          ],
          "name": "stdout"
        }
      ]
    },
    {
      "cell_type": "markdown",
      "metadata": {
        "id": "0nX-XLVPDkYb"
      },
      "source": [
        "**String Multiplication**"
      ]
    },
    {
      "cell_type": "code",
      "metadata": {
        "colab": {
          "base_uri": "https://localhost:8080/"
        },
        "id": "TycUmr3_DSC1",
        "outputId": "5b809a0e-71fb-48cf-f046-294d2d11953c"
      },
      "source": [
        "name = 'Hyato '\r\n",
        "print(name)\r\n",
        "name_thrice = name*3\r\n",
        "print(name_thrice)\r\n",
        "print(name*4)\r\n",
        "print(name*10)"
      ],
      "execution_count": null,
      "outputs": [
        {
          "output_type": "stream",
          "text": [
            "Hyato \n",
            "Hyato Hyato Hyato \n",
            "Hyato Hyato Hyato Hyato \n",
            "Hyato Hyato Hyato Hyato Hyato Hyato Hyato Hyato Hyato Hyato \n"
          ],
          "name": "stdout"
        }
      ]
    },
    {
      "cell_type": "markdown",
      "metadata": {
        "id": "-R8EcVRMEN17"
      },
      "source": [
        "**String Length**"
      ]
    },
    {
      "cell_type": "code",
      "metadata": {
        "colab": {
          "base_uri": "https://localhost:8080/"
        },
        "id": "LJLIbGO8EBoP",
        "outputId": "9bfebaea-54a2-49ed-c1db-9a11591bfe8c"
      },
      "source": [
        "# to check the length of the string\r\n",
        "name = 'Mahfuzur Rahman'\r\n",
        "len(name)"
      ],
      "execution_count": null,
      "outputs": [
        {
          "output_type": "execute_result",
          "data": {
            "text/plain": [
              "15"
            ]
          },
          "metadata": {
            "tags": []
          },
          "execution_count": 6
        }
      ]
    },
    {
      "cell_type": "code",
      "metadata": {
        "colab": {
          "base_uri": "https://localhost:8080/"
        },
        "id": "523wBCzNEapw",
        "outputId": "e269247d-8da9-4f9c-9501-514146853482"
      },
      "source": [
        "counter = 0\r\n",
        "for c in \"Mahfuzur Rahman\":\r\n",
        "  counter += 1\r\n",
        "print(counter)"
      ],
      "execution_count": null,
      "outputs": [
        {
          "output_type": "stream",
          "text": [
            "15\n"
          ],
          "name": "stdout"
        }
      ]
    },
    {
      "cell_type": "markdown",
      "metadata": {
        "id": "xVGcXYeHFpnn"
      },
      "source": [
        "**String Indexing**"
      ]
    },
    {
      "cell_type": "code",
      "metadata": {
        "colab": {
          "base_uri": "https://localhost:8080/",
          "height": 305
        },
        "id": "12HUSLiSFGHx",
        "outputId": "ce525cdf-6240-4250-aaa1-dc3e76be7698"
      },
      "source": [
        "# define a string\r\n",
        "s = \"abc\"\r\n",
        "\r\n",
        "# indexing starts from 0 in python\r\n",
        "\r\n",
        "# use square brackets and the index number to access the the data\r\n",
        "print(s[0])\r\n",
        "print(s[1])\r\n",
        "print(s[2])\r\n",
        "\r\n",
        "print(s[-1])\r\n",
        "print(s[-2])\r\n",
        "print(s[-3])\r\n",
        "\r\n",
        "print(s[3]) # this will give you an error because it doesn't exist"
      ],
      "execution_count": null,
      "outputs": [
        {
          "output_type": "stream",
          "text": [
            "a\n",
            "b\n",
            "c\n",
            "c\n",
            "b\n",
            "a\n"
          ],
          "name": "stdout"
        },
        {
          "output_type": "error",
          "ename": "IndexError",
          "evalue": "ignored",
          "traceback": [
            "\u001b[0;31m---------------------------------------------------------------------------\u001b[0m",
            "\u001b[0;31mIndexError\u001b[0m                                Traceback (most recent call last)",
            "\u001b[0;32m<ipython-input-9-e7535490fba1>\u001b[0m in \u001b[0;36m<module>\u001b[0;34m()\u001b[0m\n\u001b[1;32m     13\u001b[0m \u001b[0mprint\u001b[0m\u001b[0;34m(\u001b[0m\u001b[0ms\u001b[0m\u001b[0;34m[\u001b[0m\u001b[0;34m-\u001b[0m\u001b[0;36m3\u001b[0m\u001b[0;34m]\u001b[0m\u001b[0;34m)\u001b[0m\u001b[0;34m\u001b[0m\u001b[0;34m\u001b[0m\u001b[0m\n\u001b[1;32m     14\u001b[0m \u001b[0;34m\u001b[0m\u001b[0m\n\u001b[0;32m---> 15\u001b[0;31m \u001b[0mprint\u001b[0m\u001b[0;34m(\u001b[0m\u001b[0ms\u001b[0m\u001b[0;34m[\u001b[0m\u001b[0;36m3\u001b[0m\u001b[0;34m]\u001b[0m\u001b[0;34m)\u001b[0m \u001b[0;31m# this will give you an error because it doesn't exist\u001b[0m\u001b[0;34m\u001b[0m\u001b[0;34m\u001b[0m\u001b[0m\n\u001b[0m",
            "\u001b[0;31mIndexError\u001b[0m: string index out of range"
          ]
        }
      ]
    },
    {
      "cell_type": "markdown",
      "metadata": {
        "id": "QbgDwWNIGygS"
      },
      "source": [
        "**String Slicing**\r\n",
        "* extract sub-selections of a string\r\n",
        "* slice strings using format `[start:stop:step]`\r\n",
        " * step = 1 by default\r\n",
        " * you may also omit numbers and use only colons (:)\r\n"
      ]
    },
    {
      "cell_type": "code",
      "metadata": {
        "colab": {
          "base_uri": "https://localhost:8080/"
        },
        "id": "qs8M4UKQGmtI",
        "outputId": "12efdd9d-4c8c-44b8-f54e-428a3995098e"
      },
      "source": [
        "s = \"abcdefgh\"\r\n",
        "\r\n",
        "print(s[3:6])\r\n",
        "print(s[3:6:1])\r\n",
        "print(s[3:6:2])\r\n",
        "print(s[::])\r\n",
        "print(s[::-1])\r\n",
        "print(s[4:1:-2])"
      ],
      "execution_count": null,
      "outputs": [
        {
          "output_type": "stream",
          "text": [
            "def\n",
            "def\n",
            "df\n",
            "abcdefgh\n",
            "hgfedcba\n",
            "ec\n"
          ],
          "name": "stdout"
        }
      ]
    },
    {
      "cell_type": "markdown",
      "metadata": {
        "id": "Lhbd1moZ-Mc0"
      },
      "source": [
        "#**Lists**\r\n",
        "\r\n",
        "* lists are ordered sequences od objects\r\n",
        " * they are mutable"
      ]
    },
    {
      "cell_type": "code",
      "metadata": {
        "id": "FpFMtRE3JEvW",
        "colab": {
          "base_uri": "https://localhost:8080/"
        },
        "outputId": "868d814a-5bd0-4d63-c507-6734fd9c0ec9"
      },
      "source": [
        "# define a list\r\n",
        "new_list = [3,7,20,'@ ', 'TECH I.S.', ' makes learning fun!']\r\n",
        "\r\n",
        "# view list \r\n",
        "print(new_list)\r\n"
      ],
      "execution_count": null,
      "outputs": [
        {
          "output_type": "stream",
          "text": [
            "[3, 7, 20, '@ ', 'TECH I.S.', ' makes learning fun!']\n"
          ],
          "name": "stdout"
        }
      ]
    },
    {
      "cell_type": "markdown",
      "metadata": {
        "id": "laAl7NVn_egb"
      },
      "source": [
        "***Accessing List Elements***\r\n",
        "* indexing in lists works just like strings \r\n",
        "* indexing starts from zero"
      ]
    },
    {
      "cell_type": "code",
      "metadata": {
        "colab": {
          "base_uri": "https://localhost:8080/"
        },
        "id": "9PUd63lC_RvO",
        "outputId": "d1c99339-0e89-4f95-9c76-dbf1d0c98d14"
      },
      "source": [
        "# define a list\r\n",
        "new_list = [3,7,20,'@', 'TECH I.S.', 'makes learning fun!']\r\n",
        "\r\n",
        "print(new_list[0]) # will print the first element\r\n",
        "print(new_list[1]) # will print the second element\r\n",
        "print(new_list[2]) # will print the third element\r\n",
        "print(new_list[3]) # will print the fourth element\r\n",
        "\r\n",
        "print(new_list[-1]) # will print the first element from opposite direction\r\n",
        "print(new_list[-2]) # will print the second element from opposite direction\r\n",
        "print(new_list[-3]) # will print the third element from opposite direction\r\n",
        "print(new_list[-4]) # will print the fourth element from opposite direction"
      ],
      "execution_count": null,
      "outputs": [
        {
          "output_type": "stream",
          "text": [
            "3\n",
            "7\n",
            "20\n",
            "@\n",
            "makes learning fun!\n",
            "TECH I.S.\n",
            "@\n",
            "20\n"
          ],
          "name": "stdout"
        }
      ]
    },
    {
      "cell_type": "markdown",
      "metadata": {
        "id": "3phnFCx-Ds11"
      },
      "source": [
        "***Nested Lists***\r\n",
        "* lists can be embedded inside lists\r\n",
        " * multiple nesting is also supported"
      ]
    },
    {
      "cell_type": "code",
      "metadata": {
        "colab": {
          "base_uri": "https://localhost:8080/"
        },
        "id": "AV0T7YlODYgS",
        "outputId": "ffacc79d-2c17-4a86-f172-4593905c3483"
      },
      "source": [
        "# define nested lists\r\n",
        "nested_list = [\r\n",
        "               [1,2,3],\r\n",
        "               ['a', 'b', 'c'],\r\n",
        "               [True, False, 7],\r\n",
        "              ]\r\n",
        "\r\n",
        "# check nested list \r\n",
        "print(nested_list)"
      ],
      "execution_count": null,
      "outputs": [
        {
          "output_type": "stream",
          "text": [
            "[[1, 2, 3], ['a', 'b', 'c'], [True, False, 7]]\n"
          ],
          "name": "stdout"
        }
      ]
    },
    {
      "cell_type": "markdown",
      "metadata": {
        "id": "t_eGIPyzEpE6"
      },
      "source": [
        "***List Mutablity Test***"
      ]
    },
    {
      "cell_type": "code",
      "metadata": {
        "colab": {
          "base_uri": "https://localhost:8080/"
        },
        "id": "Ds38JFBGEhT5",
        "outputId": "b47862f3-9e27-4917-80e8-728744a3218d"
      },
      "source": [
        "# define list\r\n",
        "new_list = [3,7,20,'@', 'TECH I.S.', 'makes learning fun!']\r\n",
        "\r\n",
        "# try changing content in the list\r\n",
        "new_list[2] = 'one' # accepts change\r\n",
        "\r\n",
        "# check list\r\n",
        "print(new_list)"
      ],
      "execution_count": null,
      "outputs": [
        {
          "output_type": "stream",
          "text": [
            "[3, 7, 'one', '@', 'TECH I.S.', 'makes learning fun!']\n"
          ],
          "name": "stdout"
        }
      ]
    },
    {
      "cell_type": "markdown",
      "metadata": {
        "id": "eN5ghvonKwKH"
      },
      "source": [
        "***Append to list***\r\n",
        "* append can add *only one* element at the end of the list at a time"
      ]
    },
    {
      "cell_type": "code",
      "metadata": {
        "colab": {
          "base_uri": "https://localhost:8080/"
        },
        "id": "-nO411Y2KraE",
        "outputId": "4d9aae8f-0b4f-4fbd-c601-3474088478d5"
      },
      "source": [
        "# define a list\r\n",
        "new_list = [3,7,20,'@', 'TECH I.S.', 'makes learning fun']\r\n",
        "\r\n",
        "# print new list\r\n",
        "print(new_list)"
      ],
      "execution_count": null,
      "outputs": [
        {
          "output_type": "stream",
          "text": [
            "[3, 7, 20, '@', 'TECH I.S.', 'makes learning fun']\n"
          ],
          "name": "stdout"
        }
      ]
    },
    {
      "cell_type": "code",
      "metadata": {
        "colab": {
          "base_uri": "https://localhost:8080/"
        },
        "id": "IXBAt1H2LXYV",
        "outputId": "58089108-9fca-4fbe-cff7-55a0cad351a3"
      },
      "source": [
        "# append 'wohoo' to the new_list\r\n",
        "new_list.append('wohoo!')\r\n",
        "\r\n",
        "# check the appended value\r\n",
        "print(new_list)"
      ],
      "execution_count": null,
      "outputs": [
        {
          "output_type": "stream",
          "text": [
            "[3, 7, 20, '@', 'TECH I.S.', 'makes learning fun', 'wohoo!']\n"
          ],
          "name": "stdout"
        }
      ]
    },
    {
      "cell_type": "markdown",
      "metadata": {
        "id": "tcR4jS2WMBhG"
      },
      "source": [
        "***Extend List***\r\n",
        "* used to add multiple elements at the end of the list"
      ]
    },
    {
      "cell_type": "code",
      "metadata": {
        "colab": {
          "base_uri": "https://localhost:8080/"
        },
        "id": "PXEZyvxKLspX",
        "outputId": "bb5696b9-03c2-46c9-f4ff-f75a24270fb9"
      },
      "source": [
        "# define a list\r\n",
        "new_list = [3,7,20, 'TECH I.S.', 'makes learning fun!']\r\n",
        "\r\n",
        "print(new_list)"
      ],
      "execution_count": null,
      "outputs": [
        {
          "output_type": "stream",
          "text": [
            "[3, 7, 20, 'TECH I.S.', 'makes learning fun!']\n"
          ],
          "name": "stdout"
        }
      ]
    },
    {
      "cell_type": "code",
      "metadata": {
        "colab": {
          "base_uri": "https://localhost:8080/"
        },
        "id": "xBz5pmQAM70h",
        "outputId": "6bd08062-2149-47ee-d183-43eeffedf4b4"
      },
      "source": [
        "# extend the new_list variable with multiple elements ina an array\r\n",
        "new_list.extend(['let,s', 'do', 'this!'])\r\n",
        "# note: multiple elements have to be input in array\r\n",
        "\r\n",
        "print(new_list)"
      ],
      "execution_count": null,
      "outputs": [
        {
          "output_type": "stream",
          "text": [
            "[3, 7, 20, 'TECH I.S.', 'makes learning fun!', 'let,s', 'do', 'this!', 'let,s', 'do', 'this!']\n"
          ],
          "name": "stdout"
        }
      ]
    },
    {
      "cell_type": "markdown",
      "metadata": {
        "id": "PyrTAMTFA2zj"
      },
      "source": [
        "***Insert To List***\r\n",
        "* can add an element at a given position in the list\r\n",
        "* can add only one element at the time\r\n",
        "* two arguments:\r\n",
        " * first argument specifies the position\r\n",
        " * second argument specifies the element to be inserted "
      ]
    },
    {
      "cell_type": "code",
      "metadata": {
        "id": "fXoia_qlNTk3",
        "colab": {
          "base_uri": "https://localhost:8080/"
        },
        "outputId": "8bea1acf-1d26-4f8c-da2e-a913c1499751"
      },
      "source": [
        "# define list\r\n",
        "new_list = [3,7,20,'@', 'TECH I.S.', 'makes learning fun!']\r\n",
        "\r\n",
        "# insert element 'Chocolate' at spot 3 in a new_list\r\n",
        "new_list.insert(3, 'Chocolate')\r\n",
        "\r\n",
        "# check insertion\r\n",
        "print(new_list)"
      ],
      "execution_count": null,
      "outputs": [
        {
          "output_type": "stream",
          "text": [
            "[3, 7, 20, 'Chocolate', '@', 'TECH I.S.', 'makes learning fun!']\n"
          ],
          "name": "stdout"
        }
      ]
    },
    {
      "cell_type": "code",
      "metadata": {
        "id": "BISAxjPnFVs7"
      },
      "source": [
        "new_list.insert(4,'cookies')"
      ],
      "execution_count": null,
      "outputs": []
    },
    {
      "cell_type": "code",
      "metadata": {
        "colab": {
          "base_uri": "https://localhost:8080/"
        },
        "id": "H1N8lUqNFoMU",
        "outputId": "618c586b-73b2-4a27-9d67-1ffd35c767e8"
      },
      "source": [
        "print(new_list)"
      ],
      "execution_count": null,
      "outputs": [
        {
          "output_type": "stream",
          "text": [
            "[3, 7, 20, 'Chocolate', 'cookies', '@', 'TECH I.S.', 'makes learning fun!']\n"
          ],
          "name": "stdout"
        }
      ]
    },
    {
      "cell_type": "markdown",
      "metadata": {
        "id": "1OO3xs7NFuy7"
      },
      "source": [
        "***Remove from List***\r\n",
        "* used to remove an element from the list\r\n",
        " * in the case of multiple occurrences, only the first is removed"
      ]
    },
    {
      "cell_type": "code",
      "metadata": {
        "colab": {
          "base_uri": "https://localhost:8080/"
        },
        "id": "iysCMkjfFq6T",
        "outputId": "e0903121-6b2f-4d0e-d11e-8ac17cca7fde"
      },
      "source": [
        "# define list\r\n",
        "new_list = [3,7,20,'@', 'TECH I.S.', 'makes learning fun']\r\n",
        "\r\n",
        "# remove 20 from the new list\r\n",
        "new_list.remove(20)\r\n",
        "\r\n",
        "# check removal\r\n",
        "print(new_list)"
      ],
      "execution_count": null,
      "outputs": [
        {
          "output_type": "stream",
          "text": [
            "[3, 7, '@', 'TECH I.S.', 'makes learning fun']\n"
          ],
          "name": "stdout"
        }
      ]
    },
    {
      "cell_type": "markdown",
      "metadata": {
        "id": "RL6LhZgRGlef"
      },
      "source": [
        "***Pop from List***\r\n",
        "* can remove an element from any position in the list\r\n",
        " * removes index item\r\n",
        "* element is not specified like in remove() method, inly the index option"
      ]
    },
    {
      "cell_type": "code",
      "metadata": {
        "id": "TDBW4Q_aGjSo",
        "colab": {
          "base_uri": "https://localhost:8080/"
        },
        "outputId": "9a56f730-79c0-44f7-879c-ffd940ba6ff3"
      },
      "source": [
        "# define list\r\n",
        "new_list = [3,7,20,'@', 'TECH I.S.', 'makes lerning fun!']\r\n",
        "\r\n",
        "# pop spot 2 from list\r\n",
        "new_list.pop(2)\r\n",
        "\r\n",
        "# check listr\r\n",
        "print(new_list)"
      ],
      "execution_count": null,
      "outputs": [
        {
          "output_type": "stream",
          "text": [
            "[3, 7, '@', 'TECH I.S.', 'makes lerning fun!']\n"
          ],
          "name": "stdout"
        }
      ]
    },
    {
      "cell_type": "markdown",
      "metadata": {
        "id": "r1cj7_bZJt9L"
      },
      "source": [
        "***remove() vs. pop()***\r\n",
        "*  the remove() function removes an element by identification\r\n",
        " * new_list.remove(element_to_remove)\r\n",
        "* the pop() function removes an element by index indentification\r\n",
        " * new_list.remove(index_number_to_remove)\r\n"
      ]
    },
    {
      "cell_type": "markdown",
      "metadata": {
        "id": "aMoe7YP9ooSw"
      },
      "source": [
        "***List Slicing***\r\n",
        "* used to extract a sub-selection of the list\r\n",
        " * index access works like string indexing and slicing"
      ]
    },
    {
      "cell_type": "code",
      "metadata": {
        "id": "VS3PHn8_JpeO",
        "colab": {
          "base_uri": "https://localhost:8080/"
        },
        "outputId": "651fd412-9467-4c13-ba54-bfb84fcffb6b"
      },
      "source": [
        "# define list\r\n",
        "new_list = [3,7,20,'@', 'TECH I.S.', 'makes learning fun!']\r\n",
        "\r\n",
        "# extract combinations of new_list extracts\r\n",
        "print(new_list[:4])\r\n",
        "print(new_list[2:])\r\n",
        "print(new_list[1:5])\r\n",
        "print(new_list[:])"
      ],
      "execution_count": 1,
      "outputs": [
        {
          "output_type": "stream",
          "text": [
            "[3, 7, 20, '@']\n",
            "[20, '@', 'TECH I.S.', 'makes learning fun!']\n",
            "[7, 20, '@', 'TECH I.S.']\n",
            "[3, 7, 20, '@', 'TECH I.S.', 'makes learning fun!']\n"
          ],
          "name": "stdout"
        }
      ]
    },
    {
      "cell_type": "markdown",
      "metadata": {
        "id": "CSvVc74Ip3cW"
      },
      "source": [
        "***Reverse a List***\r\n",
        "* used to reverse the elements of a list\r\n",
        "* can be done in two ways\r\n",
        " * by modifying the original list\r\n",
        " * without modifying the original list"
      ]
    },
    {
      "cell_type": "code",
      "metadata": {
        "colab": {
          "base_uri": "https://localhost:8080/"
        },
        "id": "W8f9nauLpv0X",
        "outputId": "0a39b4ef-92a4-406d-a9d4-8eff3aa07162"
      },
      "source": [
        "# define list\r\n",
        "new_list = [3, 7, 20, '@', 'TECH I.S.', 'MAKES LEARNING FUN']\r\n",
        "\r\n",
        "# without modifying the original list\r\n",
        "print(new_list[::-1])\r\n",
        "print(new_list) # this is the unmodified one in the middle\r\n",
        "\r\n",
        "# modify the original list\r\n",
        "new_list.reverse()\r\n",
        "print(new_list)"
      ],
      "execution_count": 2,
      "outputs": [
        {
          "output_type": "stream",
          "text": [
            "['MAKES LEARNING FUN', 'TECH I.S.', '@', 20, 7, 3]\n",
            "[3, 7, 20, '@', 'TECH I.S.', 'MAKES LEARNING FUN']\n",
            "['MAKES LEARNING FUN', 'TECH I.S.', '@', 20, 7, 3]\n"
          ],
          "name": "stdout"
        }
      ]
    },
    {
      "cell_type": "markdown",
      "metadata": {
        "id": "mTSnCpiRra7D"
      },
      "source": [
        "***Length of a List***\r\n",
        "* returns the number of elements in the list"
      ]
    },
    {
      "cell_type": "code",
      "metadata": {
        "colab": {
          "base_uri": "https://localhost:8080/"
        },
        "id": "3DOXApSarKRN",
        "outputId": "ec991ebe-2d27-48b2-da8c-a8647f630739"
      },
      "source": [
        "# define list\r\n",
        "new_list = [3,7,20, '@', 'TECHI.S.', 'makes learning really fun!']\r\n",
        "\r\n",
        "# print length of new_list\r\n",
        "len(new_list)"
      ],
      "execution_count": 3,
      "outputs": [
        {
          "output_type": "execute_result",
          "data": {
            "text/plain": [
              "6"
            ]
          },
          "metadata": {
            "tags": []
          },
          "execution_count": 3
        }
      ]
    },
    {
      "cell_type": "markdown",
      "metadata": {
        "id": "Fpmle8hPsRQx"
      },
      "source": [
        "***Min & Max Values of a List***\r\n",
        "* min() returns the *minimum* value in the list\r\n",
        "* max() returns the *maximum* value in the list\r\n",
        "* NOTE: both methods accept only *homogeneous* lists\r\n",
        " * i.e. list having elements of similar data types"
      ]
    },
    {
      "cell_type": "code",
      "metadata": {
        "colab": {
          "base_uri": "https://localhost:8080/"
        },
        "id": "qX4nMrpcsO6H",
        "outputId": "9295cac8-1cf8-4134-cf0e-bfa48676b2d9"
      },
      "source": [
        "# define list\r\n",
        "new_list = [8,12,7,10,53,33,21,99]\r\n",
        "\r\n",
        "# check min and max of new list\r\n",
        "print(min(new_list))\r\n",
        "print(max(new_list))\r\n",
        "\r\n",
        "# define list\r\n",
        "new_list = ['x', '10', '99', 'twenty', '%$', '--']\r\n",
        "\r\n",
        "# check the min and max of new_list\r\n",
        "print(min(new_list))\r\n",
        "print(max(new_list))"
      ],
      "execution_count": 4,
      "outputs": [
        {
          "output_type": "stream",
          "text": [
            "7\n",
            "99\n",
            "%$\n",
            "x\n"
          ],
          "name": "stdout"
        }
      ]
    },
    {
      "cell_type": "markdown",
      "metadata": {
        "id": "y3HyHIIOvTjr"
      },
      "source": [
        "***Count of an Element***\r\n",
        "* returns the number of uccurrences of a given element in the list"
      ]
    },
    {
      "cell_type": "code",
      "metadata": {
        "colab": {
          "base_uri": "https://localhost:8080/"
        },
        "id": "Lu3SUJ1Mt6XF",
        "outputId": "c9215201-322b-4334-821c-bb65d30a5fbe"
      },
      "source": [
        "# define list\r\n",
        "new_list = [3, 4 , 7, 7 , 8, 90]\r\n",
        "\r\n",
        "# count the number of uccurences of 7\r\n",
        "print(new_list.count(7))\r\n",
        "\r\n",
        "# count the number of uccurences of 10\r\n",
        "print(new_list.count(4))"
      ],
      "execution_count": 5,
      "outputs": [
        {
          "output_type": "stream",
          "text": [
            "2\n",
            "1\n"
          ],
          "name": "stdout"
        }
      ]
    },
    {
      "cell_type": "markdown",
      "metadata": {
        "id": "mf5yj-Lu8CcS"
      },
      "source": [
        "***Concatenate Lists***\r\n",
        "* used to merge two lists and return a single list"
      ]
    },
    {
      "cell_type": "code",
      "metadata": {
        "colab": {
          "base_uri": "https://localhost:8080/"
        },
        "id": "Kk05z5Lb7951",
        "outputId": "aba22827-b84e-401b-df06-dad6a379d15e"
      },
      "source": [
        "# define two lists\r\n",
        "first_list = ['three', 'hundred']\r\n",
        "print(first_list)\r\n",
        "\r\n",
        "second_list = ['words', 'in', 'a', 'paragraph']\r\n",
        "print(second_list)\r\n",
        "\r\n",
        "# concatenate lists\r\n",
        "combined_list = first_list + second_list\r\n",
        "print(combined_list)"
      ],
      "execution_count": 6,
      "outputs": [
        {
          "output_type": "stream",
          "text": [
            "['three', 'hundred']\n",
            "['words', 'in', 'a', 'paragraph']\n",
            "['three', 'hundred', 'words', 'in', 'a', 'paragraph']\n"
          ],
          "name": "stdout"
        }
      ]
    },
    {
      "cell_type": "markdown",
      "metadata": {
        "id": "xUIjMt8u-JKi"
      },
      "source": [
        "***Multiply List Content***\r\n",
        "* allows duplicating the list n times\r\n",
        "* resultant list is the original list iterated n times\r\n"
      ]
    },
    {
      "cell_type": "code",
      "metadata": {
        "colab": {
          "base_uri": "https://localhost:8080/"
        },
        "id": "uakxOt-O9tcF",
        "outputId": "35e29c7b-8b43-4b05-ffbf-5ca527c9788f"
      },
      "source": [
        "# define list\r\n",
        "new_list = [3,4,5,'I a']\r\n",
        "\r\n",
        "# multiply list\r\n",
        "print(new_list*2)\r\n",
        "print(new_list*3)"
      ],
      "execution_count": 7,
      "outputs": [
        {
          "output_type": "stream",
          "text": [
            "[3, 4, 5, 'I a', 3, 4, 5, 'I a']\n",
            "[3, 4, 5, 'I a', 3, 4, 5, 'I a', 3, 4, 5, 'I a']\n"
          ],
          "name": "stdout"
        }
      ]
    },
    {
      "cell_type": "markdown",
      "metadata": {
        "id": "tRFEG78P_PHT"
      },
      "source": [
        "***Location of the first Occurence***\r\n",
        "* index() method returns the positionof the first uccurence of the given element\r\n",
        "* optional parameters:\r\n",
        " * the begin index and\r\n",
        " * the end index\r\n",
        "* when optional arguments are given:\r\n",
        " * the element is searched only in the sub-list bound by begin and end indices\r\n",
        "* When not supplied,\r\n",
        " * the element is searched in the whole list"
      ]
    },
    {
      "cell_type": "code",
      "metadata": {
        "colab": {
          "base_uri": "https://localhost:8080/"
        },
        "id": "hymg0tKJ_FUA",
        "outputId": "0e564f0c-a31f-49ea-df7d-6cad3bb71562"
      },
      "source": [
        "new_list = [3,7,20, '@', 'TECH I.S.', 'makes learning really fun!']\r\n",
        "\r\n",
        "# search index of 'TECH I.S.'\r\n",
        "print(new_list.index('TECH I.S.'))\r\n",
        "\r\n",
        "# search '@' with optional arguments\r\n",
        "print(new_list.index('@', 1,4)) "
      ],
      "execution_count": 9,
      "outputs": [
        {
          "output_type": "stream",
          "text": [
            "4\n",
            "3\n"
          ],
          "name": "stdout"
        }
      ]
    },
    {
      "cell_type": "markdown",
      "metadata": {
        "id": "LluQnM1FBU9C"
      },
      "source": [
        "***Sort a List in Place***\r\n",
        "* sort method sorts the list in ascending order\r\n",
        " * can only be performed on homogeneous lists, i.e. lists having elements of similar data type"
      ]
    },
    {
      "cell_type": "code",
      "metadata": {
        "colab": {
          "base_uri": "https://localhost:8080/"
        },
        "id": "TDppFUXdA8ec",
        "outputId": "c20200b2-2a5e-4c8a-dd47-ecf47d9fb6f8"
      },
      "source": [
        "# define list\r\n",
        "new_list = [4,2,6,5,0,1]\r\n",
        "\r\n",
        "# check unsorted list\r\n",
        "print(new_list)\r\n",
        "\r\n",
        "# sort list\r\n",
        "new_list.sort()\r\n",
        "\r\n",
        "# check sorted list\r\n",
        "print(new_list)\r\n",
        "\r\n"
      ],
      "execution_count": 10,
      "outputs": [
        {
          "output_type": "stream",
          "text": [
            "[4, 2, 6, 5, 0, 1]\n",
            "[0, 1, 2, 4, 5, 6]\n"
          ],
          "name": "stdout"
        }
      ]
    },
    {
      "cell_type": "code",
      "metadata": {
        "id": "kKJB0-csCXTg"
      },
      "source": [
        ""
      ],
      "execution_count": null,
      "outputs": []
    }
  ]
}