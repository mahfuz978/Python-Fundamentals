{
  "nbformat": 4,
  "nbformat_minor": 0,
  "metadata": {
    "colab": {
      "name": "Mahfuzur_rahman_py10_1_1e.ipynb",
      "provenance": [],
      "collapsed_sections": [],
      "authorship_tag": "ABX9TyPpba04jMJuy4HUrEGIOowx",
      "include_colab_link": true
    },
    "kernelspec": {
      "name": "python3",
      "display_name": "Python 3"
    }
  },
  "cells": [
    {
      "cell_type": "markdown",
      "metadata": {
        "id": "view-in-github",
        "colab_type": "text"
      },
      "source": [
        "<a href=\"https://colab.research.google.com/github/mahfuz978/TECH.I.S-Fundamentals/blob/main/Mahfuzur_rahman_py10_1_1e.ipynb\" target=\"_parent\"><img src=\"https://colab.research.google.com/assets/colab-badge.svg\" alt=\"Open In Colab\"/></a>"
      ]
    },
    {
      "cell_type": "code",
      "metadata": {
        "id": "-oD7Xe2A3K-m"
      },
      "source": [
        "file_path = '/content/Machine_Learning_AI.txt'"
      ],
      "execution_count": 1,
      "outputs": []
    },
    {
      "cell_type": "code",
      "metadata": {
        "id": "dG3gvxd13jWQ"
      },
      "source": [
        "#  code to open file\r\n",
        "our_text_file = open(file_path, 'r')"
      ],
      "execution_count": 2,
      "outputs": []
    },
    {
      "cell_type": "code",
      "metadata": {
        "colab": {
          "base_uri": "https://localhost:8080/"
        },
        "id": "HT4mvdZ_3xOY",
        "outputId": "223f0761-6181-4167-ce49-deabd14b666d"
      },
      "source": [
        "# gather info about the file we opened in the previous code cell\r\n",
        "print(our_text_file.name)\r\n",
        "print(our_text_file.mode)"
      ],
      "execution_count": 3,
      "outputs": [
        {
          "output_type": "stream",
          "text": [
            "/content/Machine_Learning_AI.txt\n",
            "r\n"
          ],
          "name": "stdout"
        }
      ]
    },
    {
      "cell_type": "code",
      "metadata": {
        "colab": {
          "base_uri": "https://localhost:8080/"
        },
        "id": "6HZTzVnD4NJV",
        "outputId": "3d28af9c-9678-4a8f-f221-5921f40636ec"
      },
      "source": [
        "# close the open file\r\n",
        "our_text_file.close"
      ],
      "execution_count": 4,
      "outputs": [
        {
          "output_type": "execute_result",
          "data": {
            "text/plain": [
              "<function TextIOWrapper.close>"
            ]
          },
          "metadata": {
            "tags": []
          },
          "execution_count": 4
        }
      ]
    },
    {
      "cell_type": "code",
      "metadata": {
        "colab": {
          "base_uri": "https://localhost:8080/"
        },
        "id": "grNfnjd04WIb",
        "outputId": "786c8bfc-5b63-4c48-bea9-62d4480fd16d"
      },
      "source": [
        "# code pattern for opening a file using `with` keyword\r\n",
        "with open(\"/content/Machine_Learning_AI.txt\", 'r') as active_file:\r\n",
        "  file_content = active_file.read()\r\n",
        "  print(file_content)\r\n",
        "\r\n",
        "# here: 'active_file' is the file object\r\n",
        "# 'open' is the file opening keyword\r\n",
        "# '.read()' reads the content of the text file"
      ],
      "execution_count": 5,
      "outputs": [
        {
          "output_type": "stream",
          "text": [
            "Unit 1: Introduction To Python - \n",
            "\n",
            "Intro to the Python Programming language\n",
            "Control structures and functions\n",
            "Importing libraries - Numpy and Pandas Basics\n",
            "Data wrangling and cleaning\n",
            "Exploratory Data Analysis and descriptive statistics\n",
            "\n",
            "Unit 2: Database Management - \n",
            "\n",
            "Introduction to Databases and SQL\n",
            "Retrieving data with SQL\n",
            "Writing SQL Queries\n",
            "Functions and aggregations\n",
            "Joins in SQL\n",
            "\n",
            "Unit 3: Statistics and Data Visualisation - \n",
            "\n",
            "Data Visualisation using matplotlib/seaborn\n",
            "Plotting Data distributions\n",
            "Introduction to probability\n",
            "Discrete and Continuous probability distributions\n",
            "Inferential Statistics and Hypothesis testing\n",
            "\n",
            "Unit 4: Machine Learning:\n",
            "\n",
            "Introduction to machine learning models \n",
            "Simple and Multiple Regression Models\n",
            "Logistic Regression\n",
            "ROC and AUC analysis\n",
            "KNN and Naive Bayes classifier\n",
            "SVM Classification and Regression\n",
            "Tree Based models:\n",
            "- Decision trees\n",
            "- Truncation and pruning\n",
            "- Random Forests and Bagged models\n",
            "- Gradient Boosted models\n",
            "Feature selection methods \n",
            "Model evaluation and hyper parameter tuning \n",
            "Unsupervised Learning:\n",
            "- Clustering (K means and Hierarchical)\n",
            "- Principal Component Analysis\n",
            "Recommender Systems\n",
            "\n",
            "Unit 5 - Artificial Intelligence:\n",
            "\n",
            "Intro to Neural Networks\n",
            "Types of Neural Networks\n",
            "Image classification\n",
            "Deep Learning Neural Networks\n",
            "\n",
            "Intro to NLP\n",
            "Basic Lexical processing\n",
            "Text classification / Topic modelling / Document summarisation\n",
            "Reinforcement Learning Models\n",
            "\n",
            "Notes:\n",
            "\n",
            "Unit 5 could probability be split in 2 depending on how comprehensive the coverage is\n",
            "\n",
            "\n"
          ],
          "name": "stdout"
        }
      ]
    },
    {
      "cell_type": "code",
      "metadata": {
        "colab": {
          "base_uri": "https://localhost:8080/"
        },
        "id": "BtW7b1-w44-6",
        "outputId": "9fce18a0-e441-48c6-bdc6-29643adde545"
      },
      "source": [
        "# check if the file is closed\r\n",
        "print(active_file.closed)"
      ],
      "execution_count": 6,
      "outputs": [
        {
          "output_type": "stream",
          "text": [
            "True\n"
          ],
          "name": "stdout"
        }
      ]
    },
    {
      "cell_type": "code",
      "metadata": {
        "colab": {
          "base_uri": "https://localhost:8080/"
        },
        "id": "31a9I1Ds6CCf",
        "outputId": "9f13950f-1161-4cf2-e8ec-f21ea606c768"
      },
      "source": [
        "# check if content is saved for later use\r\n",
        "print(file_content)"
      ],
      "execution_count": 7,
      "outputs": [
        {
          "output_type": "stream",
          "text": [
            "Unit 1: Introduction To Python - \n",
            "\n",
            "Intro to the Python Programming language\n",
            "Control structures and functions\n",
            "Importing libraries - Numpy and Pandas Basics\n",
            "Data wrangling and cleaning\n",
            "Exploratory Data Analysis and descriptive statistics\n",
            "\n",
            "Unit 2: Database Management - \n",
            "\n",
            "Introduction to Databases and SQL\n",
            "Retrieving data with SQL\n",
            "Writing SQL Queries\n",
            "Functions and aggregations\n",
            "Joins in SQL\n",
            "\n",
            "Unit 3: Statistics and Data Visualisation - \n",
            "\n",
            "Data Visualisation using matplotlib/seaborn\n",
            "Plotting Data distributions\n",
            "Introduction to probability\n",
            "Discrete and Continuous probability distributions\n",
            "Inferential Statistics and Hypothesis testing\n",
            "\n",
            "Unit 4: Machine Learning:\n",
            "\n",
            "Introduction to machine learning models \n",
            "Simple and Multiple Regression Models\n",
            "Logistic Regression\n",
            "ROC and AUC analysis\n",
            "KNN and Naive Bayes classifier\n",
            "SVM Classification and Regression\n",
            "Tree Based models:\n",
            "- Decision trees\n",
            "- Truncation and pruning\n",
            "- Random Forests and Bagged models\n",
            "- Gradient Boosted models\n",
            "Feature selection methods \n",
            "Model evaluation and hyper parameter tuning \n",
            "Unsupervised Learning:\n",
            "- Clustering (K means and Hierarchical)\n",
            "- Principal Component Analysis\n",
            "Recommender Systems\n",
            "\n",
            "Unit 5 - Artificial Intelligence:\n",
            "\n",
            "Intro to Neural Networks\n",
            "Types of Neural Networks\n",
            "Image classification\n",
            "Deep Learning Neural Networks\n",
            "\n",
            "Intro to NLP\n",
            "Basic Lexical processing\n",
            "Text classification / Topic modelling / Document summarisation\n",
            "Reinforcement Learning Models\n",
            "\n",
            "Notes:\n",
            "\n",
            "Unit 5 could probability be split in 2 depending on how comprehensive the coverage is\n",
            "\n",
            "\n"
          ],
          "name": "stdout"
        }
      ]
    },
    {
      "cell_type": "code",
      "metadata": {
        "colab": {
          "base_uri": "https://localhost:8080/"
        },
        "id": "USVHYBTa6PJS",
        "outputId": "a313ef3b-8990-4292-f193-147f107b1cc0"
      },
      "source": [
        "# check the length of the file content (number of characters of the file)\r\n",
        "print(len(file_content))"
      ],
      "execution_count": 8,
      "outputs": [
        {
          "output_type": "stream",
          "text": [
            "1517\n"
          ],
          "name": "stdout"
        }
      ]
    },
    {
      "cell_type": "code",
      "metadata": {
        "colab": {
          "base_uri": "https://localhost:8080/"
        },
        "id": "0zrvD2C76h2n",
        "outputId": "c3bbc5c9-c9ad-489a-f0cb-51b5a67dd6a5"
      },
      "source": [
        "# open file using the `with` keyword\r\n",
        "with open('/content/Machine_Learning_AI.txt','r') as active_file:\r\n",
        "\r\n",
        "  # convert file content to a list\r\n",
        "  file_content_list = active_file.readlines()\r\n",
        "\r\n",
        "  # output single elements from the list\r\n",
        "  # (they correspond to lines of the text file)\r\n",
        "\r\n",
        "  print(file_content_list[0]) # prints the first line\r\n",
        "  print(file_content_list[10]) # prints the 11th line\r\n",
        "  print(file_content_list[54])# prints the 55th line"
      ],
      "execution_count": 9,
      "outputs": [
        {
          "output_type": "stream",
          "text": [
            "Unit 1: Introduction To Python - \n",
            "\n",
            "Introduction to Databases and SQL\n",
            "\n",
            "Reinforcement Learning Models\n",
            "\n"
          ],
          "name": "stdout"
        }
      ]
    },
    {
      "cell_type": "code",
      "metadata": {
        "colab": {
          "base_uri": "https://localhost:8080/"
        },
        "id": "-JEhucd28ALD",
        "outputId": "4f2134fa-fedf-4f63-a1b7-f468fc47feac"
      },
      "source": [
        "with open('/content/Machine_Learning_AI.txt', 'r') as active_file:\r\n",
        "\r\n",
        "  # convert file content to a list using `.readlines()`\r\n",
        "  file_content_list = active_file.readlines()\r\n",
        "\r\n",
        "  # print all the file lines as a list\r\n",
        "  print(file_content_list)\r\n",
        "\r\n",
        "  # get the number of lines in the file\r\n",
        "  print(len(file_content_list))"
      ],
      "execution_count": 10,
      "outputs": [
        {
          "output_type": "stream",
          "text": [
            "['Unit 1: Introduction To Python - \\n', '\\n', 'Intro to the Python Programming language\\n', 'Control structures and functions\\n', 'Importing libraries - Numpy and Pandas Basics\\n', 'Data wrangling and cleaning\\n', 'Exploratory Data Analysis and descriptive statistics\\n', '\\n', 'Unit 2: Database Management - \\n', '\\n', 'Introduction to Databases and SQL\\n', 'Retrieving data with SQL\\n', 'Writing SQL Queries\\n', 'Functions and aggregations\\n', 'Joins in SQL\\n', '\\n', 'Unit 3: Statistics and Data Visualisation - \\n', '\\n', 'Data Visualisation using matplotlib/seaborn\\n', 'Plotting Data distributions\\n', 'Introduction to probability\\n', 'Discrete and Continuous probability distributions\\n', 'Inferential Statistics and Hypothesis testing\\n', '\\n', 'Unit 4: Machine Learning:\\n', '\\n', 'Introduction to machine learning models \\n', 'Simple and Multiple Regression Models\\n', 'Logistic Regression\\n', 'ROC and AUC analysis\\n', 'KNN and Naive Bayes classifier\\n', 'SVM Classification and Regression\\n', 'Tree Based models:\\n', '- Decision trees\\n', '- Truncation and pruning\\n', '- Random Forests and Bagged models\\n', '- Gradient Boosted models\\n', 'Feature selection methods \\n', 'Model evaluation and hyper parameter tuning \\n', 'Unsupervised Learning:\\n', '- Clustering (K means and Hierarchical)\\n', '- Principal Component Analysis\\n', 'Recommender Systems\\n', '\\n', 'Unit 5 - Artificial Intelligence:\\n', '\\n', 'Intro to Neural Networks\\n', 'Types of Neural Networks\\n', 'Image classification\\n', 'Deep Learning Neural Networks\\n', '\\n', 'Intro to NLP\\n', 'Basic Lexical processing\\n', 'Text classification / Topic modelling / Document summarisation\\n', 'Reinforcement Learning Models\\n', '\\n', 'Notes:\\n', '\\n', 'Unit 5 could probability be split in 2 depending on how comprehensive the coverage is\\n', '\\n']\n",
            "60\n"
          ],
          "name": "stdout"
        }
      ]
    },
    {
      "cell_type": "code",
      "metadata": {
        "colab": {
          "base_uri": "https://localhost:8080/"
        },
        "id": "WQHlW5IZ83Tg",
        "outputId": "8bbe65bb-dd29-4379-fe5b-91e8beaff7da"
      },
      "source": [
        "# setup for loop to scroll through all the lines in the file content list\r\n",
        "for line in file_content_list:\r\n",
        "  print(len(line)) # print the length of each line"
      ],
      "execution_count": 11,
      "outputs": [
        {
          "output_type": "stream",
          "text": [
            "34\n",
            "1\n",
            "41\n",
            "33\n",
            "46\n",
            "28\n",
            "53\n",
            "1\n",
            "31\n",
            "1\n",
            "34\n",
            "25\n",
            "20\n",
            "27\n",
            "13\n",
            "1\n",
            "45\n",
            "1\n",
            "44\n",
            "28\n",
            "28\n",
            "50\n",
            "46\n",
            "1\n",
            "26\n",
            "1\n",
            "41\n",
            "38\n",
            "20\n",
            "21\n",
            "31\n",
            "34\n",
            "19\n",
            "17\n",
            "25\n",
            "35\n",
            "26\n",
            "27\n",
            "45\n",
            "23\n",
            "40\n",
            "31\n",
            "20\n",
            "1\n",
            "34\n",
            "1\n",
            "25\n",
            "25\n",
            "21\n",
            "30\n",
            "1\n",
            "13\n",
            "25\n",
            "63\n",
            "30\n",
            "1\n",
            "7\n",
            "1\n",
            "86\n",
            "1\n"
          ],
          "name": "stdout"
        }
      ]
    },
    {
      "cell_type": "code",
      "metadata": {
        "id": "fpeS7qv09hdw"
      },
      "source": [
        "# code pattern to create a new file and write to it\r\n",
        "with open ('new_file.txt', 'x') as file_to_write:\r\n",
        "  file_to_write.write('this is line 0\\n')\r\n",
        "  file_to_write.write('this is line 1\\n')"
      ],
      "execution_count": 12,
      "outputs": []
    },
    {
      "cell_type": "code",
      "metadata": {
        "colab": {
          "base_uri": "https://localhost:8080/"
        },
        "id": "K8lgT3h3-fgw",
        "outputId": "36b5d49c-f1af-49e5-a62c-3626a06915c3"
      },
      "source": [
        "help(open)"
      ],
      "execution_count": 13,
      "outputs": [
        {
          "output_type": "stream",
          "text": [
            "Help on built-in function open in module io:\n",
            "\n",
            "open(file, mode='r', buffering=-1, encoding=None, errors=None, newline=None, closefd=True, opener=None)\n",
            "    Open file and return a stream.  Raise IOError upon failure.\n",
            "    \n",
            "    file is either a text or byte string giving the name (and the path\n",
            "    if the file isn't in the current working directory) of the file to\n",
            "    be opened or an integer file descriptor of the file to be\n",
            "    wrapped. (If a file descriptor is given, it is closed when the\n",
            "    returned I/O object is closed, unless closefd is set to False.)\n",
            "    \n",
            "    mode is an optional string that specifies the mode in which the file\n",
            "    is opened. It defaults to 'r' which means open for reading in text\n",
            "    mode.  Other common values are 'w' for writing (truncating the file if\n",
            "    it already exists), 'x' for creating and writing to a new file, and\n",
            "    'a' for appending (which on some Unix systems, means that all writes\n",
            "    append to the end of the file regardless of the current seek position).\n",
            "    In text mode, if encoding is not specified the encoding used is platform\n",
            "    dependent: locale.getpreferredencoding(False) is called to get the\n",
            "    current locale encoding. (For reading and writing raw bytes use binary\n",
            "    mode and leave encoding unspecified.) The available modes are:\n",
            "    \n",
            "    ========= ===============================================================\n",
            "    Character Meaning\n",
            "    --------- ---------------------------------------------------------------\n",
            "    'r'       open for reading (default)\n",
            "    'w'       open for writing, truncating the file first\n",
            "    'x'       create a new file and open it for writing\n",
            "    'a'       open for writing, appending to the end of the file if it exists\n",
            "    'b'       binary mode\n",
            "    't'       text mode (default)\n",
            "    '+'       open a disk file for updating (reading and writing)\n",
            "    'U'       universal newline mode (deprecated)\n",
            "    ========= ===============================================================\n",
            "    \n",
            "    The default mode is 'rt' (open for reading text). For binary random\n",
            "    access, the mode 'w+b' opens and truncates the file to 0 bytes, while\n",
            "    'r+b' opens the file without truncation. The 'x' mode implies 'w' and\n",
            "    raises an `FileExistsError` if the file already exists.\n",
            "    \n",
            "    Python distinguishes between files opened in binary and text modes,\n",
            "    even when the underlying operating system doesn't. Files opened in\n",
            "    binary mode (appending 'b' to the mode argument) return contents as\n",
            "    bytes objects without any decoding. In text mode (the default, or when\n",
            "    't' is appended to the mode argument), the contents of the file are\n",
            "    returned as strings, the bytes having been first decoded using a\n",
            "    platform-dependent encoding or using the specified encoding if given.\n",
            "    \n",
            "    'U' mode is deprecated and will raise an exception in future versions\n",
            "    of Python.  It has no effect in Python 3.  Use newline to control\n",
            "    universal newlines mode.\n",
            "    \n",
            "    buffering is an optional integer used to set the buffering policy.\n",
            "    Pass 0 to switch buffering off (only allowed in binary mode), 1 to select\n",
            "    line buffering (only usable in text mode), and an integer > 1 to indicate\n",
            "    the size of a fixed-size chunk buffer.  When no buffering argument is\n",
            "    given, the default buffering policy works as follows:\n",
            "    \n",
            "    * Binary files are buffered in fixed-size chunks; the size of the buffer\n",
            "      is chosen using a heuristic trying to determine the underlying device's\n",
            "      \"block size\" and falling back on `io.DEFAULT_BUFFER_SIZE`.\n",
            "      On many systems, the buffer will typically be 4096 or 8192 bytes long.\n",
            "    \n",
            "    * \"Interactive\" text files (files for which isatty() returns True)\n",
            "      use line buffering.  Other text files use the policy described above\n",
            "      for binary files.\n",
            "    \n",
            "    encoding is the name of the encoding used to decode or encode the\n",
            "    file. This should only be used in text mode. The default encoding is\n",
            "    platform dependent, but any encoding supported by Python can be\n",
            "    passed.  See the codecs module for the list of supported encodings.\n",
            "    \n",
            "    errors is an optional string that specifies how encoding errors are to\n",
            "    be handled---this argument should not be used in binary mode. Pass\n",
            "    'strict' to raise a ValueError exception if there is an encoding error\n",
            "    (the default of None has the same effect), or pass 'ignore' to ignore\n",
            "    errors. (Note that ignoring encoding errors can lead to data loss.)\n",
            "    See the documentation for codecs.register or run 'help(codecs.Codec)'\n",
            "    for a list of the permitted encoding error strings.\n",
            "    \n",
            "    newline controls how universal newlines works (it only applies to text\n",
            "    mode). It can be None, '', '\\n', '\\r', and '\\r\\n'.  It works as\n",
            "    follows:\n",
            "    \n",
            "    * On input, if newline is None, universal newlines mode is\n",
            "      enabled. Lines in the input can end in '\\n', '\\r', or '\\r\\n', and\n",
            "      these are translated into '\\n' before being returned to the\n",
            "      caller. If it is '', universal newline mode is enabled, but line\n",
            "      endings are returned to the caller untranslated. If it has any of\n",
            "      the other legal values, input lines are only terminated by the given\n",
            "      string, and the line ending is returned to the caller untranslated.\n",
            "    \n",
            "    * On output, if newline is None, any '\\n' characters written are\n",
            "      translated to the system default line separator, os.linesep. If\n",
            "      newline is '' or '\\n', no translation takes place. If newline is any\n",
            "      of the other legal values, any '\\n' characters written are translated\n",
            "      to the given string.\n",
            "    \n",
            "    If closefd is False, the underlying file descriptor will be kept open\n",
            "    when the file is closed. This does not work when a file name is given\n",
            "    and must be True in that case.\n",
            "    \n",
            "    A custom opener can be used by passing a callable as *opener*. The\n",
            "    underlying file descriptor for the file object is then obtained by\n",
            "    calling *opener* with (*file*, *flags*). *opener* must return an open\n",
            "    file descriptor (passing os.open as *opener* results in functionality\n",
            "    similar to passing None).\n",
            "    \n",
            "    open() returns a file object whose type depends on the mode, and\n",
            "    through which the standard file operations such as reading and writing\n",
            "    are performed. When open() is used to open a file in a text mode ('w',\n",
            "    'r', 'wt', 'rt', etc.), it returns a TextIOWrapper. When used to open\n",
            "    a file in a binary mode, the returned class varies: in read binary\n",
            "    mode, it returns a BufferedReader; in write binary and append binary\n",
            "    modes, it returns a BufferedWriter, and in read/write mode, it returns\n",
            "    a BufferedRandom.\n",
            "    \n",
            "    It is also possible to use a string or bytearray as a file for both\n",
            "    reading and writing. For strings StringIO can be used like a file\n",
            "    opened in a text mode, and for bytes a BytesIO can be used like a file\n",
            "    opened in a binary mode.\n",
            "\n"
          ],
          "name": "stdout"
        }
      ]
    },
    {
      "cell_type": "code",
      "metadata": {
        "id": "If-Go_2Y-97Y"
      },
      "source": [
        ""
      ],
      "execution_count": null,
      "outputs": []
    }
  ]
}